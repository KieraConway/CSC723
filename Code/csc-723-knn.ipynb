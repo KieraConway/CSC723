{
 "cells": [
  {
   "cell_type": "markdown",
   "id": "18cff4a4",
   "metadata": {
    "papermill": {
     "duration": 0.017415,
     "end_time": "2023-03-23T06:09:46.268315",
     "exception": false,
     "start_time": "2023-03-23T06:09:46.250900",
     "status": "completed"
    },
    "tags": []
   },
   "source": [
    "# <center>CSC 723 Final Project</center>\n",
    "Project Code 2: KNN\n",
    "\n",
    "&emsp; Version 2.0<br> \n",
    "&emsp; March 2023\n",
    "\n",
    "&emsp; CSC 723<br>\n",
    "&emsp; Machine Learning for Cyber Security<br>\n",
    "&emsp; Dakota State University\n",
    "\n",
    "Robert Chavez<br>\n",
    "Kiera Conway"
   ]
  },
  {
   "cell_type": "markdown",
   "id": "e639248e",
   "metadata": {
    "papermill": {
     "duration": 0.015235,
     "end_time": "2023-03-23T06:09:46.300478",
     "exception": false,
     "start_time": "2023-03-23T06:09:46.285243",
     "status": "completed"
    },
    "tags": []
   },
   "source": [
    "--------"
   ]
  },
  {
   "cell_type": "markdown",
   "id": "0f464bfa",
   "metadata": {
    "papermill": {
     "duration": 0.015074,
     "end_time": "2023-03-23T06:09:46.330975",
     "exception": false,
     "start_time": "2023-03-23T06:09:46.315901",
     "status": "completed"
    },
    "tags": []
   },
   "source": [
    "## Import Data\n",
    "### Libraries"
   ]
  },
  {
   "cell_type": "code",
   "execution_count": 1,
   "id": "2d9dac3d",
   "metadata": {
    "execution": {
     "iopub.execute_input": "2023-03-23T06:09:46.366343Z",
     "iopub.status.busy": "2023-03-23T06:09:46.365472Z",
     "iopub.status.idle": "2023-03-23T06:09:46.375844Z",
     "shell.execute_reply": "2023-03-23T06:09:46.374489Z"
    },
    "papermill": {
     "duration": 0.030644,
     "end_time": "2023-03-23T06:09:46.378769",
     "exception": false,
     "start_time": "2023-03-23T06:09:46.348125",
     "status": "completed"
    },
    "tags": []
   },
   "outputs": [],
   "source": [
    "import numpy as np   # array mathematical operations library\n",
    "import pandas as pd  # data analysis library\n",
    "import math\n",
    "#import cv2"
   ]
  },
  {
   "cell_type": "markdown",
   "id": "e42f11dd",
   "metadata": {
    "papermill": {
     "duration": 0.015963,
     "end_time": "2023-03-23T06:09:46.410278",
     "exception": false,
     "start_time": "2023-03-23T06:09:46.394315",
     "status": "completed"
    },
    "tags": []
   },
   "source": [
    "### Data Set"
   ]
  },
  {
   "cell_type": "code",
   "execution_count": 2,
   "id": "21d702ed",
   "metadata": {
    "execution": {
     "iopub.execute_input": "2023-03-23T06:09:46.444007Z",
     "iopub.status.busy": "2023-03-23T06:09:46.443218Z",
     "iopub.status.idle": "2023-03-23T06:09:46.488851Z",
     "shell.execute_reply": "2023-03-23T06:09:46.487455Z"
    },
    "papermill": {
     "duration": 0.066361,
     "end_time": "2023-03-23T06:09:46.492046",
     "exception": false,
     "start_time": "2023-03-23T06:09:46.425685",
     "status": "completed"
    },
    "tags": []
   },
   "outputs": [],
   "source": [
    "# Set File Path\n",
    "file_path = '/kaggle/input/spam-or-ham/SMSCollection.csv'\n",
    "\n",
    "# Obtain Data from File Path\n",
    "sms_data = pd.read_csv(file_path)"
   ]
  },
  {
   "cell_type": "markdown",
   "id": "c6264ddc",
   "metadata": {
    "papermill": {
     "duration": 0.015168,
     "end_time": "2023-03-23T06:09:46.522755",
     "exception": false,
     "start_time": "2023-03-23T06:09:46.507587",
     "status": "completed"
    },
    "tags": []
   },
   "source": [
    "## Review Dataset\n",
    "### Dataset Information"
   ]
  },
  {
   "cell_type": "code",
   "execution_count": 3,
   "id": "0435cbb5",
   "metadata": {
    "execution": {
     "iopub.execute_input": "2023-03-23T06:09:46.556847Z",
     "iopub.status.busy": "2023-03-23T06:09:46.556014Z",
     "iopub.status.idle": "2023-03-23T06:09:46.589105Z",
     "shell.execute_reply": "2023-03-23T06:09:46.587964Z"
    },
    "papermill": {
     "duration": 0.054171,
     "end_time": "2023-03-23T06:09:46.592594",
     "exception": false,
     "start_time": "2023-03-23T06:09:46.538423",
     "status": "completed"
    },
    "tags": []
   },
   "outputs": [
    {
     "name": "stdout",
     "output_type": "stream",
     "text": [
      "<class 'pandas.core.frame.DataFrame'>\n",
      "RangeIndex: 5572 entries, 0 to 5571\n",
      "Data columns (total 2 columns):\n",
      " #   Column  Non-Null Count  Dtype \n",
      "---  ------  --------------  ----- \n",
      " 0   Class   5572 non-null   object\n",
      " 1   sms     5572 non-null   object\n",
      "dtypes: object(2)\n",
      "memory usage: 87.2+ KB\n"
     ]
    }
   ],
   "source": [
    "# General Information\n",
    "sms_data.info()"
   ]
  },
  {
   "cell_type": "code",
   "execution_count": 4,
   "id": "0edbe92d",
   "metadata": {
    "execution": {
     "iopub.execute_input": "2023-03-23T06:09:46.626481Z",
     "iopub.status.busy": "2023-03-23T06:09:46.625980Z",
     "iopub.status.idle": "2023-03-23T06:09:46.639302Z",
     "shell.execute_reply": "2023-03-23T06:09:46.637459Z"
    },
    "papermill": {
     "duration": 0.033608,
     "end_time": "2023-03-23T06:09:46.642132",
     "exception": false,
     "start_time": "2023-03-23T06:09:46.608524",
     "status": "completed"
    },
    "tags": []
   },
   "outputs": [
    {
     "data": {
      "text/plain": [
       "Class    0\n",
       "sms      0\n",
       "dtype: int64"
      ]
     },
     "execution_count": 4,
     "metadata": {},
     "output_type": "execute_result"
    }
   ],
   "source": [
    "# Check for null values\n",
    "sms_data.isnull().sum()"
   ]
  },
  {
   "cell_type": "code",
   "execution_count": 5,
   "id": "cad2562c",
   "metadata": {
    "execution": {
     "iopub.execute_input": "2023-03-23T06:09:46.676499Z",
     "iopub.status.busy": "2023-03-23T06:09:46.676017Z",
     "iopub.status.idle": "2023-03-23T06:09:46.704339Z",
     "shell.execute_reply": "2023-03-23T06:09:46.702813Z"
    },
    "papermill": {
     "duration": 0.048889,
     "end_time": "2023-03-23T06:09:46.707344",
     "exception": false,
     "start_time": "2023-03-23T06:09:46.658455",
     "status": "completed"
    },
    "tags": []
   },
   "outputs": [
    {
     "data": {
      "text/html": [
       "<div>\n",
       "<style scoped>\n",
       "    .dataframe tbody tr th:only-of-type {\n",
       "        vertical-align: middle;\n",
       "    }\n",
       "\n",
       "    .dataframe tbody tr th {\n",
       "        vertical-align: top;\n",
       "    }\n",
       "\n",
       "    .dataframe thead th {\n",
       "        text-align: right;\n",
       "    }\n",
       "</style>\n",
       "<table border=\"1\" class=\"dataframe\">\n",
       "  <thead>\n",
       "    <tr style=\"text-align: right;\">\n",
       "      <th></th>\n",
       "      <th>Class</th>\n",
       "      <th>sms</th>\n",
       "    </tr>\n",
       "  </thead>\n",
       "  <tbody>\n",
       "    <tr>\n",
       "      <th>0</th>\n",
       "      <td>ham</td>\n",
       "      <td>Go until jurong point, crazy.. Available only ...</td>\n",
       "    </tr>\n",
       "    <tr>\n",
       "      <th>1</th>\n",
       "      <td>ham</td>\n",
       "      <td>Ok lar... Joking wif u oni...</td>\n",
       "    </tr>\n",
       "    <tr>\n",
       "      <th>2</th>\n",
       "      <td>spam</td>\n",
       "      <td>Free entry in 2 a wkly comp to win FA Cup fina...</td>\n",
       "    </tr>\n",
       "    <tr>\n",
       "      <th>3</th>\n",
       "      <td>ham</td>\n",
       "      <td>U dun say so early hor... U c already then say...</td>\n",
       "    </tr>\n",
       "    <tr>\n",
       "      <th>4</th>\n",
       "      <td>ham</td>\n",
       "      <td>Nah I don't think he goes to usf, he lives aro...</td>\n",
       "    </tr>\n",
       "    <tr>\n",
       "      <th>...</th>\n",
       "      <td>...</td>\n",
       "      <td>...</td>\n",
       "    </tr>\n",
       "    <tr>\n",
       "      <th>5567</th>\n",
       "      <td>spam</td>\n",
       "      <td>This is the 2nd time we have tried 2 contact u...</td>\n",
       "    </tr>\n",
       "    <tr>\n",
       "      <th>5568</th>\n",
       "      <td>ham</td>\n",
       "      <td>Will ü b going to esplanade fr home?</td>\n",
       "    </tr>\n",
       "    <tr>\n",
       "      <th>5569</th>\n",
       "      <td>ham</td>\n",
       "      <td>Pity, * was in mood for that. So...any other s...</td>\n",
       "    </tr>\n",
       "    <tr>\n",
       "      <th>5570</th>\n",
       "      <td>ham</td>\n",
       "      <td>The guy did some bitching but I acted like i'd...</td>\n",
       "    </tr>\n",
       "    <tr>\n",
       "      <th>5571</th>\n",
       "      <td>ham</td>\n",
       "      <td>Rofl. Its true to its name</td>\n",
       "    </tr>\n",
       "  </tbody>\n",
       "</table>\n",
       "<p>5572 rows × 2 columns</p>\n",
       "</div>"
      ],
      "text/plain": [
       "     Class                                                sms\n",
       "0      ham  Go until jurong point, crazy.. Available only ...\n",
       "1      ham                      Ok lar... Joking wif u oni...\n",
       "2     spam  Free entry in 2 a wkly comp to win FA Cup fina...\n",
       "3      ham  U dun say so early hor... U c already then say...\n",
       "4      ham  Nah I don't think he goes to usf, he lives aro...\n",
       "...    ...                                                ...\n",
       "5567  spam  This is the 2nd time we have tried 2 contact u...\n",
       "5568   ham               Will ü b going to esplanade fr home?\n",
       "5569   ham  Pity, * was in mood for that. So...any other s...\n",
       "5570   ham  The guy did some bitching but I acted like i'd...\n",
       "5571   ham                         Rofl. Its true to its name\n",
       "\n",
       "[5572 rows x 2 columns]"
      ]
     },
     "execution_count": 5,
     "metadata": {},
     "output_type": "execute_result"
    }
   ],
   "source": [
    "# View first and last 5 Observations\n",
    "sms_data"
   ]
  },
  {
   "cell_type": "code",
   "execution_count": 6,
   "id": "a79e7390",
   "metadata": {
    "execution": {
     "iopub.execute_input": "2023-03-23T06:09:46.742921Z",
     "iopub.status.busy": "2023-03-23T06:09:46.741769Z",
     "iopub.status.idle": "2023-03-23T06:09:46.750970Z",
     "shell.execute_reply": "2023-03-23T06:09:46.748510Z"
    },
    "papermill": {
     "duration": 0.030303,
     "end_time": "2023-03-23T06:09:46.753978",
     "exception": false,
     "start_time": "2023-03-23T06:09:46.723675",
     "status": "completed"
    },
    "tags": []
   },
   "outputs": [
    {
     "name": "stdout",
     "output_type": "stream",
     "text": [
      "spam\n",
      "07732584351 - Rodger Burns - MSG = We tried to call you re your reply to our sms for a free nokia mobile + free camcorder. Please call now 08000930705 for delivery tomorrow\n"
     ]
    }
   ],
   "source": [
    "# View Example Message\n",
    "print(sms_data.Class[42])      # view variable 2 (message) of 72nd message\n",
    "print(sms_data.sms[42])      # view variable 1 (spam/ham) of 72nd message"
   ]
  },
  {
   "cell_type": "code",
   "execution_count": 7,
   "id": "1ca9bc2d",
   "metadata": {
    "execution": {
     "iopub.execute_input": "2023-03-23T06:09:46.789855Z",
     "iopub.status.busy": "2023-03-23T06:09:46.789387Z",
     "iopub.status.idle": "2023-03-23T06:09:46.810453Z",
     "shell.execute_reply": "2023-03-23T06:09:46.808931Z"
    },
    "papermill": {
     "duration": 0.042355,
     "end_time": "2023-03-23T06:09:46.813188",
     "exception": false,
     "start_time": "2023-03-23T06:09:46.770833",
     "status": "completed"
    },
    "tags": []
   },
   "outputs": [
    {
     "data": {
      "text/html": [
       "<div>\n",
       "<style scoped>\n",
       "    .dataframe tbody tr th:only-of-type {\n",
       "        vertical-align: middle;\n",
       "    }\n",
       "\n",
       "    .dataframe tbody tr th {\n",
       "        vertical-align: top;\n",
       "    }\n",
       "\n",
       "    .dataframe thead th {\n",
       "        text-align: right;\n",
       "    }\n",
       "</style>\n",
       "<table border=\"1\" class=\"dataframe\">\n",
       "  <thead>\n",
       "    <tr style=\"text-align: right;\">\n",
       "      <th></th>\n",
       "      <th>Class</th>\n",
       "      <th>sms</th>\n",
       "    </tr>\n",
       "  </thead>\n",
       "  <tbody>\n",
       "    <tr>\n",
       "      <th>count</th>\n",
       "      <td>5572</td>\n",
       "      <td>5572</td>\n",
       "    </tr>\n",
       "    <tr>\n",
       "      <th>unique</th>\n",
       "      <td>2</td>\n",
       "      <td>5169</td>\n",
       "    </tr>\n",
       "    <tr>\n",
       "      <th>top</th>\n",
       "      <td>ham</td>\n",
       "      <td>Sorry, I'll call later</td>\n",
       "    </tr>\n",
       "    <tr>\n",
       "      <th>freq</th>\n",
       "      <td>4825</td>\n",
       "      <td>30</td>\n",
       "    </tr>\n",
       "  </tbody>\n",
       "</table>\n",
       "</div>"
      ],
      "text/plain": [
       "       Class                     sms\n",
       "count   5572                    5572\n",
       "unique     2                    5169\n",
       "top      ham  Sorry, I'll call later\n",
       "freq    4825                      30"
      ]
     },
     "execution_count": 7,
     "metadata": {},
     "output_type": "execute_result"
    }
   ],
   "source": [
    "# Statistical Information\n",
    "sms_data.describe()"
   ]
  },
  {
   "cell_type": "markdown",
   "id": "b72ca985",
   "metadata": {
    "papermill": {
     "duration": 0.015987,
     "end_time": "2023-03-23T06:09:46.845681",
     "exception": false,
     "start_time": "2023-03-23T06:09:46.829694",
     "status": "completed"
    },
    "tags": []
   },
   "source": [
    "### Analyze Information\n",
    "\n",
    "#### .describe() Key\n",
    "\n",
    "| Title  | Definition                                 | \n",
    "| ------ | --------                                   |\n",
    "| Count  | Count/Occurences of each feature           | \n",
    "| Unique | The number of possible unique observations |\n",
    "| Top    | The most frequent value                    | \n",
    "| Freq   | The frequency of the top value             | \n",
    "\n",
    "#### Data Analysis\n",
    "\n",
    "The features of this dataset are 'Class' and 'sms', where 'Class' indicates whether the message is `spam` or a valid sms message, `ham` and 'sms' contains the corresponding message.\n",
    "\n",
    "The count values above shows us there are 5572 non-null data enteries in each feature. As each feature contains the same count value, we can conclude there are no missing data points that we need to trim. \n",
    "\n",
    "The unique value of 2 under the Class feature verifies all messages are either `spam` or `ham`, and contain no erroneous values. Since the sms feature contains a unique value of 5169, which is less than 5572, we can assume that some messages are identical.\n",
    "\n",
    "The top and freq values under Class show us that most messages are categorized as `ham`, with 4825 occurences. We can therefore determine there are 747 remaining messages categorized as `spam`. The top and freq values under sms confirm the previous hypothesis that some messages are identical; we can see that the most frequent message, occuring 30 times, contains the text \"Sorry, I'll call later\"\n",
    "\n",
    "Using this information, we can identify the format of our data, determine its completeness, and verify the values contained are expected."
   ]
  },
  {
   "cell_type": "markdown",
   "id": "f1a4dc2a",
   "metadata": {
    "papermill": {
     "duration": 0.016013,
     "end_time": "2023-03-23T06:09:46.878106",
     "exception": false,
     "start_time": "2023-03-23T06:09:46.862093",
     "status": "completed"
    },
    "tags": []
   },
   "source": [
    "## Modify Data\n",
    "### Create Column: Numerical Representation for Spam/Ham"
   ]
  },
  {
   "cell_type": "code",
   "execution_count": 8,
   "id": "06b68d8c",
   "metadata": {
    "execution": {
     "iopub.execute_input": "2023-03-23T06:09:46.913324Z",
     "iopub.status.busy": "2023-03-23T06:09:46.912370Z",
     "iopub.status.idle": "2023-03-23T06:09:46.924457Z",
     "shell.execute_reply": "2023-03-23T06:09:46.923314Z"
    },
    "papermill": {
     "duration": 0.0325,
     "end_time": "2023-03-23T06:09:46.926865",
     "exception": false,
     "start_time": "2023-03-23T06:09:46.894365",
     "status": "completed"
    },
    "tags": []
   },
   "outputs": [
    {
     "name": "stdout",
     "output_type": "stream",
     "text": [
      "Before Modification:\n",
      "\n"
     ]
    },
    {
     "data": {
      "text/html": [
       "<div>\n",
       "<style scoped>\n",
       "    .dataframe tbody tr th:only-of-type {\n",
       "        vertical-align: middle;\n",
       "    }\n",
       "\n",
       "    .dataframe tbody tr th {\n",
       "        vertical-align: top;\n",
       "    }\n",
       "\n",
       "    .dataframe thead th {\n",
       "        text-align: right;\n",
       "    }\n",
       "</style>\n",
       "<table border=\"1\" class=\"dataframe\">\n",
       "  <thead>\n",
       "    <tr style=\"text-align: right;\">\n",
       "      <th></th>\n",
       "      <th>Class</th>\n",
       "      <th>sms</th>\n",
       "    </tr>\n",
       "  </thead>\n",
       "  <tbody>\n",
       "    <tr>\n",
       "      <th>0</th>\n",
       "      <td>ham</td>\n",
       "      <td>Go until jurong point, crazy.. Available only ...</td>\n",
       "    </tr>\n",
       "    <tr>\n",
       "      <th>1</th>\n",
       "      <td>ham</td>\n",
       "      <td>Ok lar... Joking wif u oni...</td>\n",
       "    </tr>\n",
       "    <tr>\n",
       "      <th>2</th>\n",
       "      <td>spam</td>\n",
       "      <td>Free entry in 2 a wkly comp to win FA Cup fina...</td>\n",
       "    </tr>\n",
       "    <tr>\n",
       "      <th>3</th>\n",
       "      <td>ham</td>\n",
       "      <td>U dun say so early hor... U c already then say...</td>\n",
       "    </tr>\n",
       "    <tr>\n",
       "      <th>4</th>\n",
       "      <td>ham</td>\n",
       "      <td>Nah I don't think he goes to usf, he lives aro...</td>\n",
       "    </tr>\n",
       "  </tbody>\n",
       "</table>\n",
       "</div>"
      ],
      "text/plain": [
       "  Class                                                sms\n",
       "0   ham  Go until jurong point, crazy.. Available only ...\n",
       "1   ham                      Ok lar... Joking wif u oni...\n",
       "2  spam  Free entry in 2 a wkly comp to win FA Cup fina...\n",
       "3   ham  U dun say so early hor... U c already then say...\n",
       "4   ham  Nah I don't think he goes to usf, he lives aro..."
      ]
     },
     "execution_count": 8,
     "metadata": {},
     "output_type": "execute_result"
    }
   ],
   "source": [
    "# View first 5 Observations\n",
    "print(\"Before Modification:\\n\") \n",
    "sms_data.head()"
   ]
  },
  {
   "cell_type": "code",
   "execution_count": 9,
   "id": "34cbcf8f",
   "metadata": {
    "execution": {
     "iopub.execute_input": "2023-03-23T06:09:46.962544Z",
     "iopub.status.busy": "2023-03-23T06:09:46.961697Z",
     "iopub.status.idle": "2023-03-23T06:09:46.982849Z",
     "shell.execute_reply": "2023-03-23T06:09:46.980789Z"
    },
    "papermill": {
     "duration": 0.043056,
     "end_time": "2023-03-23T06:09:46.986326",
     "exception": false,
     "start_time": "2023-03-23T06:09:46.943270",
     "status": "completed"
    },
    "tags": []
   },
   "outputs": [
    {
     "name": "stdout",
     "output_type": "stream",
     "text": [
      "After Modification:\n",
      "\n"
     ]
    },
    {
     "data": {
      "text/html": [
       "<div>\n",
       "<style scoped>\n",
       "    .dataframe tbody tr th:only-of-type {\n",
       "        vertical-align: middle;\n",
       "    }\n",
       "\n",
       "    .dataframe tbody tr th {\n",
       "        vertical-align: top;\n",
       "    }\n",
       "\n",
       "    .dataframe thead th {\n",
       "        text-align: right;\n",
       "    }\n",
       "</style>\n",
       "<table border=\"1\" class=\"dataframe\">\n",
       "  <thead>\n",
       "    <tr style=\"text-align: right;\">\n",
       "      <th></th>\n",
       "      <th>Class</th>\n",
       "      <th>sms</th>\n",
       "      <th>Class_num</th>\n",
       "    </tr>\n",
       "  </thead>\n",
       "  <tbody>\n",
       "    <tr>\n",
       "      <th>0</th>\n",
       "      <td>ham</td>\n",
       "      <td>Go until jurong point, crazy.. Available only ...</td>\n",
       "      <td>0</td>\n",
       "    </tr>\n",
       "    <tr>\n",
       "      <th>1</th>\n",
       "      <td>ham</td>\n",
       "      <td>Ok lar... Joking wif u oni...</td>\n",
       "      <td>0</td>\n",
       "    </tr>\n",
       "    <tr>\n",
       "      <th>2</th>\n",
       "      <td>spam</td>\n",
       "      <td>Free entry in 2 a wkly comp to win FA Cup fina...</td>\n",
       "      <td>1</td>\n",
       "    </tr>\n",
       "    <tr>\n",
       "      <th>3</th>\n",
       "      <td>ham</td>\n",
       "      <td>U dun say so early hor... U c already then say...</td>\n",
       "      <td>0</td>\n",
       "    </tr>\n",
       "    <tr>\n",
       "      <th>4</th>\n",
       "      <td>ham</td>\n",
       "      <td>Nah I don't think he goes to usf, he lives aro...</td>\n",
       "      <td>0</td>\n",
       "    </tr>\n",
       "  </tbody>\n",
       "</table>\n",
       "</div>"
      ],
      "text/plain": [
       "  Class                                                sms  Class_num\n",
       "0   ham  Go until jurong point, crazy.. Available only ...          0\n",
       "1   ham                      Ok lar... Joking wif u oni...          0\n",
       "2  spam  Free entry in 2 a wkly comp to win FA Cup fina...          1\n",
       "3   ham  U dun say so early hor... U c already then say...          0\n",
       "4   ham  Nah I don't think he goes to usf, he lives aro...          0"
      ]
     },
     "execution_count": 9,
     "metadata": {},
     "output_type": "execute_result"
    }
   ],
   "source": [
    "# Create New Column\n",
    "sms_data['Class_num'] = sms_data.Class.map({'ham':0, 'spam':1})   # Ham becomes 0, Spam becomes 1\n",
    "\n",
    "## Save to Mapping Dictionary [For use Later]\n",
    "label_values = dict()                            # dictionary to hold labels and corresponding values\n",
    "labels = pd.unique(sms_data['Class']).tolist()   # create list of values\n",
    "\n",
    "for eachLabel in labels:\n",
    "    index = sms_data.Class[sms_data.Class == eachLabel].index.tolist()[0]  # save first index that matches label\n",
    "    value = sms_data.Class_num[index]            # obtain corresponding numerical value from data\n",
    "    label_values[value] = eachLabel              # add label and value to dictionary\n",
    "\n",
    "# View first 5 Observations\n",
    "print(\"After Modification:\\n\") \n",
    "sms_data.head()"
   ]
  },
  {
   "cell_type": "markdown",
   "id": "315cd0be",
   "metadata": {
    "papermill": {
     "duration": 0.016466,
     "end_time": "2023-03-23T06:09:47.020059",
     "exception": false,
     "start_time": "2023-03-23T06:09:47.003593",
     "status": "completed"
    },
    "tags": []
   },
   "source": [
    "### Create Column: Message Lengths"
   ]
  },
  {
   "cell_type": "code",
   "execution_count": 10,
   "id": "118870c3",
   "metadata": {
    "execution": {
     "iopub.execute_input": "2023-03-23T06:09:47.055754Z",
     "iopub.status.busy": "2023-03-23T06:09:47.055284Z",
     "iopub.status.idle": "2023-03-23T06:09:47.068896Z",
     "shell.execute_reply": "2023-03-23T06:09:47.067126Z"
    },
    "papermill": {
     "duration": 0.035864,
     "end_time": "2023-03-23T06:09:47.072631",
     "exception": false,
     "start_time": "2023-03-23T06:09:47.036767",
     "status": "completed"
    },
    "tags": []
   },
   "outputs": [
    {
     "name": "stdout",
     "output_type": "stream",
     "text": [
      "Before Modification:\n",
      "\n"
     ]
    },
    {
     "data": {
      "text/html": [
       "<div>\n",
       "<style scoped>\n",
       "    .dataframe tbody tr th:only-of-type {\n",
       "        vertical-align: middle;\n",
       "    }\n",
       "\n",
       "    .dataframe tbody tr th {\n",
       "        vertical-align: top;\n",
       "    }\n",
       "\n",
       "    .dataframe thead th {\n",
       "        text-align: right;\n",
       "    }\n",
       "</style>\n",
       "<table border=\"1\" class=\"dataframe\">\n",
       "  <thead>\n",
       "    <tr style=\"text-align: right;\">\n",
       "      <th></th>\n",
       "      <th>Class</th>\n",
       "      <th>sms</th>\n",
       "      <th>Class_num</th>\n",
       "    </tr>\n",
       "  </thead>\n",
       "  <tbody>\n",
       "    <tr>\n",
       "      <th>0</th>\n",
       "      <td>ham</td>\n",
       "      <td>Go until jurong point, crazy.. Available only ...</td>\n",
       "      <td>0</td>\n",
       "    </tr>\n",
       "    <tr>\n",
       "      <th>1</th>\n",
       "      <td>ham</td>\n",
       "      <td>Ok lar... Joking wif u oni...</td>\n",
       "      <td>0</td>\n",
       "    </tr>\n",
       "    <tr>\n",
       "      <th>2</th>\n",
       "      <td>spam</td>\n",
       "      <td>Free entry in 2 a wkly comp to win FA Cup fina...</td>\n",
       "      <td>1</td>\n",
       "    </tr>\n",
       "    <tr>\n",
       "      <th>3</th>\n",
       "      <td>ham</td>\n",
       "      <td>U dun say so early hor... U c already then say...</td>\n",
       "      <td>0</td>\n",
       "    </tr>\n",
       "    <tr>\n",
       "      <th>4</th>\n",
       "      <td>ham</td>\n",
       "      <td>Nah I don't think he goes to usf, he lives aro...</td>\n",
       "      <td>0</td>\n",
       "    </tr>\n",
       "  </tbody>\n",
       "</table>\n",
       "</div>"
      ],
      "text/plain": [
       "  Class                                                sms  Class_num\n",
       "0   ham  Go until jurong point, crazy.. Available only ...          0\n",
       "1   ham                      Ok lar... Joking wif u oni...          0\n",
       "2  spam  Free entry in 2 a wkly comp to win FA Cup fina...          1\n",
       "3   ham  U dun say so early hor... U c already then say...          0\n",
       "4   ham  Nah I don't think he goes to usf, he lives aro...          0"
      ]
     },
     "execution_count": 10,
     "metadata": {},
     "output_type": "execute_result"
    }
   ],
   "source": [
    "# View first 5 Observations\n",
    "print(\"Before Modification:\\n\") \n",
    "sms_data.head()"
   ]
  },
  {
   "cell_type": "code",
   "execution_count": 11,
   "id": "5fd9488b",
   "metadata": {
    "execution": {
     "iopub.execute_input": "2023-03-23T06:09:47.109831Z",
     "iopub.status.busy": "2023-03-23T06:09:47.109128Z",
     "iopub.status.idle": "2023-03-23T06:09:47.128789Z",
     "shell.execute_reply": "2023-03-23T06:09:47.126804Z"
    },
    "papermill": {
     "duration": 0.042327,
     "end_time": "2023-03-23T06:09:47.132474",
     "exception": false,
     "start_time": "2023-03-23T06:09:47.090147",
     "status": "completed"
    },
    "tags": []
   },
   "outputs": [
    {
     "name": "stdout",
     "output_type": "stream",
     "text": [
      "After Modification:\n",
      "\n"
     ]
    },
    {
     "data": {
      "text/html": [
       "<div>\n",
       "<style scoped>\n",
       "    .dataframe tbody tr th:only-of-type {\n",
       "        vertical-align: middle;\n",
       "    }\n",
       "\n",
       "    .dataframe tbody tr th {\n",
       "        vertical-align: top;\n",
       "    }\n",
       "\n",
       "    .dataframe thead th {\n",
       "        text-align: right;\n",
       "    }\n",
       "</style>\n",
       "<table border=\"1\" class=\"dataframe\">\n",
       "  <thead>\n",
       "    <tr style=\"text-align: right;\">\n",
       "      <th></th>\n",
       "      <th>Class</th>\n",
       "      <th>sms</th>\n",
       "      <th>Class_num</th>\n",
       "      <th>sms_len</th>\n",
       "    </tr>\n",
       "  </thead>\n",
       "  <tbody>\n",
       "    <tr>\n",
       "      <th>0</th>\n",
       "      <td>ham</td>\n",
       "      <td>Go until jurong point, crazy.. Available only ...</td>\n",
       "      <td>0</td>\n",
       "      <td>111</td>\n",
       "    </tr>\n",
       "    <tr>\n",
       "      <th>1</th>\n",
       "      <td>ham</td>\n",
       "      <td>Ok lar... Joking wif u oni...</td>\n",
       "      <td>0</td>\n",
       "      <td>29</td>\n",
       "    </tr>\n",
       "    <tr>\n",
       "      <th>2</th>\n",
       "      <td>spam</td>\n",
       "      <td>Free entry in 2 a wkly comp to win FA Cup fina...</td>\n",
       "      <td>1</td>\n",
       "      <td>155</td>\n",
       "    </tr>\n",
       "    <tr>\n",
       "      <th>3</th>\n",
       "      <td>ham</td>\n",
       "      <td>U dun say so early hor... U c already then say...</td>\n",
       "      <td>0</td>\n",
       "      <td>49</td>\n",
       "    </tr>\n",
       "    <tr>\n",
       "      <th>4</th>\n",
       "      <td>ham</td>\n",
       "      <td>Nah I don't think he goes to usf, he lives aro...</td>\n",
       "      <td>0</td>\n",
       "      <td>61</td>\n",
       "    </tr>\n",
       "  </tbody>\n",
       "</table>\n",
       "</div>"
      ],
      "text/plain": [
       "  Class                                                sms  Class_num  sms_len\n",
       "0   ham  Go until jurong point, crazy.. Available only ...          0      111\n",
       "1   ham                      Ok lar... Joking wif u oni...          0       29\n",
       "2  spam  Free entry in 2 a wkly comp to win FA Cup fina...          1      155\n",
       "3   ham  U dun say so early hor... U c already then say...          0       49\n",
       "4   ham  Nah I don't think he goes to usf, he lives aro...          0       61"
      ]
     },
     "execution_count": 11,
     "metadata": {},
     "output_type": "execute_result"
    }
   ],
   "source": [
    "# Create New Column\n",
    "sms_data['sms_len'] = sms_data.sms.apply(len)   #apply length counter to each tweet \n",
    "\n",
    "# View first 5 Observations\n",
    "print(\"After Modification:\\n\") \n",
    "sms_data.head()"
   ]
  },
  {
   "cell_type": "markdown",
   "id": "70431ef3",
   "metadata": {
    "papermill": {
     "duration": 0.017371,
     "end_time": "2023-03-23T06:09:47.167539",
     "exception": false,
     "start_time": "2023-03-23T06:09:47.150168",
     "status": "completed"
    },
    "tags": []
   },
   "source": [
    "## Graph Data"
   ]
  },
  {
   "cell_type": "code",
   "execution_count": 12,
   "id": "a7f241f6",
   "metadata": {
    "execution": {
     "iopub.execute_input": "2023-03-23T06:09:47.206868Z",
     "iopub.status.busy": "2023-03-23T06:09:47.206378Z",
     "iopub.status.idle": "2023-03-23T06:09:49.213698Z",
     "shell.execute_reply": "2023-03-23T06:09:49.212269Z"
    },
    "papermill": {
     "duration": 2.030412,
     "end_time": "2023-03-23T06:09:49.216559",
     "exception": false,
     "start_time": "2023-03-23T06:09:47.186147",
     "status": "completed"
    },
    "tags": []
   },
   "outputs": [
    {
     "data": {
      "text/plain": [
       "Text(0.5, 0, 'Message Length')"
      ]
     },
     "execution_count": 12,
     "metadata": {},
     "output_type": "execute_result"
    },
    {
     "data": {
      "image/png": "[encoded data removed]",
      "text/plain": [
       "<Figure size 1200x800 with 1 Axes>"
      ]
     },
     "metadata": {},
     "output_type": "display_data"
    }
   ],
   "source": [
    "import matplotlib.pyplot as plt\n",
    "import seaborn as sns              #statistical data visualization\n",
    "\n",
    "sns.set_style('whitegrid')          #set visual style\n",
    "plt.style.use('fivethirtyeight')   #set plot visual style\n",
    "plt.figure(figsize=(12,8))         #set plot size\n",
    "\n",
    "# Plot Ham/ Spam Message Length as Histogram\n",
    "sms_data[sms_data.Class=='ham'].sms_len.plot(bins=35, kind='hist', color='blue', label='Ham Messages', alpha=0.5)\n",
    "sms_data[sms_data.Class=='spam'].sms_len.plot(kind='hist', color='red', label='Spam Messages', alpha=0.5)\n",
    "\n",
    "plt.legend()\n",
    "plt.xlabel(\"Message Length\")"
   ]
  },
  {
   "cell_type": "markdown",
   "id": "9f858f90",
   "metadata": {
    "papermill": {
     "duration": 0.017857,
     "end_time": "2023-03-23T06:09:49.253206",
     "exception": false,
     "start_time": "2023-03-23T06:09:49.235349",
     "status": "completed"
    },
    "tags": []
   },
   "source": [
    "## Analyze Data\n",
    "### Complete Data Set"
   ]
  },
  {
   "cell_type": "code",
   "execution_count": 13,
   "id": "49b73fd1",
   "metadata": {
    "execution": {
     "iopub.execute_input": "2023-03-23T06:09:49.292166Z",
     "iopub.status.busy": "2023-03-23T06:09:49.291646Z",
     "iopub.status.idle": "2023-03-23T06:09:49.316170Z",
     "shell.execute_reply": "2023-03-23T06:09:49.314821Z"
    },
    "papermill": {
     "duration": 0.047378,
     "end_time": "2023-03-23T06:09:49.318872",
     "exception": false,
     "start_time": "2023-03-23T06:09:49.271494",
     "status": "completed"
    },
    "tags": []
   },
   "outputs": [
    {
     "data": {
      "text/html": [
       "<div>\n",
       "<style scoped>\n",
       "    .dataframe tbody tr th:only-of-type {\n",
       "        vertical-align: middle;\n",
       "    }\n",
       "\n",
       "    .dataframe tbody tr th {\n",
       "        vertical-align: top;\n",
       "    }\n",
       "\n",
       "    .dataframe thead th {\n",
       "        text-align: right;\n",
       "    }\n",
       "</style>\n",
       "<table border=\"1\" class=\"dataframe\">\n",
       "  <thead>\n",
       "    <tr style=\"text-align: right;\">\n",
       "      <th></th>\n",
       "      <th>Class_num</th>\n",
       "      <th>sms_len</th>\n",
       "    </tr>\n",
       "  </thead>\n",
       "  <tbody>\n",
       "    <tr>\n",
       "      <th>count</th>\n",
       "      <td>5572.000000</td>\n",
       "      <td>5572.000000</td>\n",
       "    </tr>\n",
       "    <tr>\n",
       "      <th>mean</th>\n",
       "      <td>0.134063</td>\n",
       "      <td>80.489950</td>\n",
       "    </tr>\n",
       "    <tr>\n",
       "      <th>std</th>\n",
       "      <td>0.340751</td>\n",
       "      <td>59.942907</td>\n",
       "    </tr>\n",
       "    <tr>\n",
       "      <th>min</th>\n",
       "      <td>0.000000</td>\n",
       "      <td>2.000000</td>\n",
       "    </tr>\n",
       "    <tr>\n",
       "      <th>25%</th>\n",
       "      <td>0.000000</td>\n",
       "      <td>36.000000</td>\n",
       "    </tr>\n",
       "    <tr>\n",
       "      <th>50%</th>\n",
       "      <td>0.000000</td>\n",
       "      <td>62.000000</td>\n",
       "    </tr>\n",
       "    <tr>\n",
       "      <th>75%</th>\n",
       "      <td>0.000000</td>\n",
       "      <td>122.000000</td>\n",
       "    </tr>\n",
       "    <tr>\n",
       "      <th>max</th>\n",
       "      <td>1.000000</td>\n",
       "      <td>910.000000</td>\n",
       "    </tr>\n",
       "  </tbody>\n",
       "</table>\n",
       "</div>"
      ],
      "text/plain": [
       "         Class_num      sms_len\n",
       "count  5572.000000  5572.000000\n",
       "mean      0.134063    80.489950\n",
       "std       0.340751    59.942907\n",
       "min       0.000000     2.000000\n",
       "25%       0.000000    36.000000\n",
       "50%       0.000000    62.000000\n",
       "75%       0.000000   122.000000\n",
       "max       1.000000   910.000000"
      ]
     },
     "execution_count": 13,
     "metadata": {},
     "output_type": "execute_result"
    }
   ],
   "source": [
    "sms_data.describe()"
   ]
  },
  {
   "cell_type": "markdown",
   "id": "3f13eb0a",
   "metadata": {
    "papermill": {
     "duration": 0.01798,
     "end_time": "2023-03-23T06:09:49.355677",
     "exception": false,
     "start_time": "2023-03-23T06:09:49.337697",
     "status": "completed"
    },
    "tags": []
   },
   "source": [
    "#### Analysis\n",
    "\n",
    "\n",
    "* Data set includes Ham (0) and Spam (1) combined into Class_num\n",
    "* A Class_num mean of 0.134 means that 13.4% of data is spam\n",
    "    * Inversely, 86.6% is Ham\n",
    "* SMS messages average 80.48 characters\n",
    "* The shortest message length is 2 characters\n",
    "* The longest message length is 910 characters"
   ]
  },
  {
   "cell_type": "markdown",
   "id": "f175c3f8",
   "metadata": {
    "papermill": {
     "duration": 0.018135,
     "end_time": "2023-03-23T06:09:49.392065",
     "exception": false,
     "start_time": "2023-03-23T06:09:49.373930",
     "status": "completed"
    },
    "tags": []
   },
   "source": [
    "### Ham Data Set"
   ]
  },
  {
   "cell_type": "code",
   "execution_count": 14,
   "id": "eb0c972d",
   "metadata": {
    "execution": {
     "iopub.execute_input": "2023-03-23T06:09:49.431930Z",
     "iopub.status.busy": "2023-03-23T06:09:49.431437Z",
     "iopub.status.idle": "2023-03-23T06:09:49.452797Z",
     "shell.execute_reply": "2023-03-23T06:09:49.451363Z"
    },
    "papermill": {
     "duration": 0.04475,
     "end_time": "2023-03-23T06:09:49.455575",
     "exception": false,
     "start_time": "2023-03-23T06:09:49.410825",
     "status": "completed"
    },
    "tags": []
   },
   "outputs": [
    {
     "data": {
      "text/html": [
       "<div>\n",
       "<style scoped>\n",
       "    .dataframe tbody tr th:only-of-type {\n",
       "        vertical-align: middle;\n",
       "    }\n",
       "\n",
       "    .dataframe tbody tr th {\n",
       "        vertical-align: top;\n",
       "    }\n",
       "\n",
       "    .dataframe thead th {\n",
       "        text-align: right;\n",
       "    }\n",
       "</style>\n",
       "<table border=\"1\" class=\"dataframe\">\n",
       "  <thead>\n",
       "    <tr style=\"text-align: right;\">\n",
       "      <th></th>\n",
       "      <th>Class_num</th>\n",
       "      <th>sms_len</th>\n",
       "    </tr>\n",
       "  </thead>\n",
       "  <tbody>\n",
       "    <tr>\n",
       "      <th>count</th>\n",
       "      <td>4825.0</td>\n",
       "      <td>4825.000000</td>\n",
       "    </tr>\n",
       "    <tr>\n",
       "      <th>mean</th>\n",
       "      <td>0.0</td>\n",
       "      <td>71.482487</td>\n",
       "    </tr>\n",
       "    <tr>\n",
       "      <th>std</th>\n",
       "      <td>0.0</td>\n",
       "      <td>58.440652</td>\n",
       "    </tr>\n",
       "    <tr>\n",
       "      <th>min</th>\n",
       "      <td>0.0</td>\n",
       "      <td>2.000000</td>\n",
       "    </tr>\n",
       "    <tr>\n",
       "      <th>25%</th>\n",
       "      <td>0.0</td>\n",
       "      <td>33.000000</td>\n",
       "    </tr>\n",
       "    <tr>\n",
       "      <th>50%</th>\n",
       "      <td>0.0</td>\n",
       "      <td>52.000000</td>\n",
       "    </tr>\n",
       "    <tr>\n",
       "      <th>75%</th>\n",
       "      <td>0.0</td>\n",
       "      <td>93.000000</td>\n",
       "    </tr>\n",
       "    <tr>\n",
       "      <th>max</th>\n",
       "      <td>0.0</td>\n",
       "      <td>910.000000</td>\n",
       "    </tr>\n",
       "  </tbody>\n",
       "</table>\n",
       "</div>"
      ],
      "text/plain": [
       "       Class_num      sms_len\n",
       "count     4825.0  4825.000000\n",
       "mean         0.0    71.482487\n",
       "std          0.0    58.440652\n",
       "min          0.0     2.000000\n",
       "25%          0.0    33.000000\n",
       "50%          0.0    52.000000\n",
       "75%          0.0    93.000000\n",
       "max          0.0   910.000000"
      ]
     },
     "execution_count": 14,
     "metadata": {},
     "output_type": "execute_result"
    }
   ],
   "source": [
    "# Analyze data labeled 'ham'\n",
    "sms_data[sms_data.Class=='ham'].describe()"
   ]
  },
  {
   "cell_type": "markdown",
   "id": "51f83cef",
   "metadata": {
    "papermill": {
     "duration": 0.018199,
     "end_time": "2023-03-23T06:09:49.493377",
     "exception": false,
     "start_time": "2023-03-23T06:09:49.475178",
     "status": "completed"
    },
    "tags": []
   },
   "source": [
    "#### Analysis\n",
    "\n",
    "\n",
    "* This data set includes Ham (0) only\n",
    "* There are 4,825 ham messages\n",
    "* Remember, ham is 0, so all other stats in Class_num will == 0\n",
    "* Ham messages average 71.48 characters\n",
    "* The shortest ham message length is 2 characters\n",
    "* The longest ham message length is 910 characters"
   ]
  },
  {
   "cell_type": "markdown",
   "id": "80a17c6a",
   "metadata": {
    "papermill": {
     "duration": 0.01857,
     "end_time": "2023-03-23T06:09:49.530525",
     "exception": false,
     "start_time": "2023-03-23T06:09:49.511955",
     "status": "completed"
    },
    "tags": []
   },
   "source": [
    "### Spam Data Set"
   ]
  },
  {
   "cell_type": "code",
   "execution_count": 15,
   "id": "78822df0",
   "metadata": {
    "execution": {
     "iopub.execute_input": "2023-03-23T06:09:49.571668Z",
     "iopub.status.busy": "2023-03-23T06:09:49.570201Z",
     "iopub.status.idle": "2023-03-23T06:09:49.591824Z",
     "shell.execute_reply": "2023-03-23T06:09:49.590526Z"
    },
    "papermill": {
     "duration": 0.045226,
     "end_time": "2023-03-23T06:09:49.594582",
     "exception": false,
     "start_time": "2023-03-23T06:09:49.549356",
     "status": "completed"
    },
    "tags": []
   },
   "outputs": [
    {
     "data": {
      "text/html": [
       "<div>\n",
       "<style scoped>\n",
       "    .dataframe tbody tr th:only-of-type {\n",
       "        vertical-align: middle;\n",
       "    }\n",
       "\n",
       "    .dataframe tbody tr th {\n",
       "        vertical-align: top;\n",
       "    }\n",
       "\n",
       "    .dataframe thead th {\n",
       "        text-align: right;\n",
       "    }\n",
       "</style>\n",
       "<table border=\"1\" class=\"dataframe\">\n",
       "  <thead>\n",
       "    <tr style=\"text-align: right;\">\n",
       "      <th></th>\n",
       "      <th>Class_num</th>\n",
       "      <th>sms_len</th>\n",
       "    </tr>\n",
       "  </thead>\n",
       "  <tbody>\n",
       "    <tr>\n",
       "      <th>count</th>\n",
       "      <td>747.0</td>\n",
       "      <td>747.000000</td>\n",
       "    </tr>\n",
       "    <tr>\n",
       "      <th>mean</th>\n",
       "      <td>1.0</td>\n",
       "      <td>138.670683</td>\n",
       "    </tr>\n",
       "    <tr>\n",
       "      <th>std</th>\n",
       "      <td>0.0</td>\n",
       "      <td>28.873603</td>\n",
       "    </tr>\n",
       "    <tr>\n",
       "      <th>min</th>\n",
       "      <td>1.0</td>\n",
       "      <td>13.000000</td>\n",
       "    </tr>\n",
       "    <tr>\n",
       "      <th>25%</th>\n",
       "      <td>1.0</td>\n",
       "      <td>133.000000</td>\n",
       "    </tr>\n",
       "    <tr>\n",
       "      <th>50%</th>\n",
       "      <td>1.0</td>\n",
       "      <td>149.000000</td>\n",
       "    </tr>\n",
       "    <tr>\n",
       "      <th>75%</th>\n",
       "      <td>1.0</td>\n",
       "      <td>157.000000</td>\n",
       "    </tr>\n",
       "    <tr>\n",
       "      <th>max</th>\n",
       "      <td>1.0</td>\n",
       "      <td>223.000000</td>\n",
       "    </tr>\n",
       "  </tbody>\n",
       "</table>\n",
       "</div>"
      ],
      "text/plain": [
       "       Class_num     sms_len\n",
       "count      747.0  747.000000\n",
       "mean         1.0  138.670683\n",
       "std          0.0   28.873603\n",
       "min          1.0   13.000000\n",
       "25%          1.0  133.000000\n",
       "50%          1.0  149.000000\n",
       "75%          1.0  157.000000\n",
       "max          1.0  223.000000"
      ]
     },
     "execution_count": 15,
     "metadata": {},
     "output_type": "execute_result"
    }
   ],
   "source": [
    "# Analyze data labeled 'spam'\n",
    "sms_data[sms_data.Class=='spam'].describe()"
   ]
  },
  {
   "cell_type": "markdown",
   "id": "49ee7b81",
   "metadata": {
    "papermill": {
     "duration": 0.018335,
     "end_time": "2023-03-23T06:09:49.631719",
     "exception": false,
     "start_time": "2023-03-23T06:09:49.613384",
     "status": "completed"
    },
    "tags": []
   },
   "source": [
    "#### Analysis\n",
    "\n",
    "\n",
    "* This data set includes Spam (1) only\n",
    "* There are 747 spam messages\n",
    "* Remember, spam is 1, so all other stats in Class_num will == 1\n",
    "    * except standard deviation, as there is no deviation between 1 and 1\n",
    "* Spam messages average 138.67 characters\n",
    "* The shortest spam message length is 13 characters\n",
    "* The longest spam message length is 223 characters"
   ]
  },
  {
   "cell_type": "markdown",
   "id": "473528ac",
   "metadata": {
    "papermill": {
     "duration": 0.018544,
     "end_time": "2023-03-23T06:09:49.669020",
     "exception": false,
     "start_time": "2023-03-23T06:09:49.650476",
     "status": "completed"
    },
    "tags": []
   },
   "source": [
    "## Prepare Data using Natural Language Processing\n",
    "### Create Function to Clean up Messages"
   ]
  },
  {
   "cell_type": "code",
   "execution_count": 16,
   "id": "4525b653",
   "metadata": {
    "execution": {
     "iopub.execute_input": "2023-03-23T06:09:49.708786Z",
     "iopub.status.busy": "2023-03-23T06:09:49.708322Z",
     "iopub.status.idle": "2023-03-23T06:09:50.690245Z",
     "shell.execute_reply": "2023-03-23T06:09:50.689048Z"
    },
    "papermill": {
     "duration": 1.005495,
     "end_time": "2023-03-23T06:09:50.693271",
     "exception": false,
     "start_time": "2023-03-23T06:09:49.687776",
     "status": "completed"
    },
    "tags": []
   },
   "outputs": [],
   "source": [
    "import string\n",
    "from nltk.corpus import stopwords\n",
    "\n",
    "# List of common abbreviations\n",
    "abrv = ['rofl', 'stfu', 'icymi', 'tldr', 'ok', 'tmi', 'afaik', 'lmk', 'nvm', 'ftw', 'byob', 'rt', 'bogo', 'jk', 'jw', 'im', 'pm', 'ig', 'tgif', 'bh', 'tbf', 'rn', 'fubar', 'brb', 'iso', 'brt', 'btw', 'ftfy', 'gg', 'bfd', 'irl', 'dae', 'lol', 'smh', 'ngl', 'bts', 'ikr', 'ttyl', 'hmu', 'fwiw', 'imo', 'wyd', 'imho', 'idk', 'idc', 'idgaf', 'nbd', 'tba', 'tbd', 'afk', 'abt', 'iykyk', 'b4', 'bc', 'jic', 'fomo', 'snafu', 'gtg', 'g2g', 'h8', 'lmao', 'iykwim', 'myob', 'pov', 'tlc', 'bd', 'w/e', 'wtf', 'wysiwyg', 'fwif', 'tw', 'eod', 'faq', 'aka', 'asap', 'diy', 'lmgtfy', 'np', 'n/a', 'ooo', 'ia', 'cob', 'fyi', 'nsfw', 'wfh', 'omw', 'wdyt', 'wygam', 'smp', 'dm', 'fb', 'ig', 'li', 'yt', 'ff', 'im', 'pm', 'op', 'qotd', 'ootd', 'rt', 'tbt', 'til', 'ama', 'eli5', 'fbf', 'mfw', 'hmu', 'ily', 'mcm', 'wcw', 'bf', 'gf', 'ae', 'lysm', 'pda', 'ltr', 'dtr', 'xoxo', 'otp', 'loml']\n",
    "\n",
    "def Process_Msg(sms):\n",
    "    \n",
    "    STOPWORDS = stopwords.words('english')+abrv                           #set stopwords (SW) variable to nltk english SW\n",
    "    \n",
    "    nopunc = [char for char in sms if char not in string.punctuation]     #remove punctuation\n",
    "    \n",
    "    nopunc = ''.join(nopunc)                                              #join every item in list using '' as a separator\n",
    "    \n",
    "    nopunc = ' '.join([word for word in nopunc.split() if word.lower() not in STOPWORDS])    #remove Stopwords\n",
    "\n",
    "    nopunc = nopunc.lower()\n",
    "    \n",
    "    return nopunc"
   ]
  },
  {
   "cell_type": "markdown",
   "id": "6f63edf4",
   "metadata": {
    "papermill": {
     "duration": 0.01854,
     "end_time": "2023-03-23T06:09:50.731793",
     "exception": false,
     "start_time": "2023-03-23T06:09:50.713253",
     "status": "completed"
    },
    "tags": []
   },
   "source": [
    "#### Code Breakdown\n",
    "    \n",
    "`nopunc = [char for char in sms if char not in string.punctuation]` <br>\n",
    "\" for every character in the message, <br>\n",
    "if the character is not in the list of punctionation, <br>\n",
    "save that char into the list 'nopunc' \"\n",
    "* removes punctuation\n",
    "* Essentially, nopunc is the same as sms, just without the punctuation\n",
    "\n",
    "\n",
    "`nopunc = ' '.join([word for word in nopunc.split() if word.lower() not in STOPWORDS])` <br>\n",
    "\" for every word in the 'nopunc' list,  <br>\n",
    "if the word [changed to lowercase] is not in 'STOPWORDS',  <br>\n",
    "save it into the list 'nopunc'\"\n",
    "\n",
    "* remove Stopwords\n"
   ]
  },
  {
   "cell_type": "markdown",
   "id": "da1176af",
   "metadata": {
    "papermill": {
     "duration": 0.018321,
     "end_time": "2023-03-23T06:09:50.768934",
     "exception": false,
     "start_time": "2023-03-23T06:09:50.750613",
     "status": "completed"
    },
    "tags": []
   },
   "source": [
    "### Create Column: Save Cleaned Messages"
   ]
  },
  {
   "cell_type": "code",
   "execution_count": 17,
   "id": "5232cfdf",
   "metadata": {
    "execution": {
     "iopub.execute_input": "2023-03-23T06:09:50.809288Z",
     "iopub.status.busy": "2023-03-23T06:09:50.808073Z",
     "iopub.status.idle": "2023-03-23T06:09:50.824219Z",
     "shell.execute_reply": "2023-03-23T06:09:50.822157Z"
    },
    "papermill": {
     "duration": 0.039576,
     "end_time": "2023-03-23T06:09:50.827241",
     "exception": false,
     "start_time": "2023-03-23T06:09:50.787665",
     "status": "completed"
    },
    "tags": []
   },
   "outputs": [
    {
     "name": "stdout",
     "output_type": "stream",
     "text": [
      "Before Modification:\n",
      "\n"
     ]
    },
    {
     "data": {
      "text/html": [
       "<div>\n",
       "<style scoped>\n",
       "    .dataframe tbody tr th:only-of-type {\n",
       "        vertical-align: middle;\n",
       "    }\n",
       "\n",
       "    .dataframe tbody tr th {\n",
       "        vertical-align: top;\n",
       "    }\n",
       "\n",
       "    .dataframe thead th {\n",
       "        text-align: right;\n",
       "    }\n",
       "</style>\n",
       "<table border=\"1\" class=\"dataframe\">\n",
       "  <thead>\n",
       "    <tr style=\"text-align: right;\">\n",
       "      <th></th>\n",
       "      <th>Class</th>\n",
       "      <th>sms</th>\n",
       "      <th>Class_num</th>\n",
       "      <th>sms_len</th>\n",
       "    </tr>\n",
       "  </thead>\n",
       "  <tbody>\n",
       "    <tr>\n",
       "      <th>0</th>\n",
       "      <td>ham</td>\n",
       "      <td>Go until jurong point, crazy.. Available only ...</td>\n",
       "      <td>0</td>\n",
       "      <td>111</td>\n",
       "    </tr>\n",
       "    <tr>\n",
       "      <th>1</th>\n",
       "      <td>ham</td>\n",
       "      <td>Ok lar... Joking wif u oni...</td>\n",
       "      <td>0</td>\n",
       "      <td>29</td>\n",
       "    </tr>\n",
       "    <tr>\n",
       "      <th>2</th>\n",
       "      <td>spam</td>\n",
       "      <td>Free entry in 2 a wkly comp to win FA Cup fina...</td>\n",
       "      <td>1</td>\n",
       "      <td>155</td>\n",
       "    </tr>\n",
       "    <tr>\n",
       "      <th>3</th>\n",
       "      <td>ham</td>\n",
       "      <td>U dun say so early hor... U c already then say...</td>\n",
       "      <td>0</td>\n",
       "      <td>49</td>\n",
       "    </tr>\n",
       "    <tr>\n",
       "      <th>4</th>\n",
       "      <td>ham</td>\n",
       "      <td>Nah I don't think he goes to usf, he lives aro...</td>\n",
       "      <td>0</td>\n",
       "      <td>61</td>\n",
       "    </tr>\n",
       "  </tbody>\n",
       "</table>\n",
       "</div>"
      ],
      "text/plain": [
       "  Class                                                sms  Class_num  sms_len\n",
       "0   ham  Go until jurong point, crazy.. Available only ...          0      111\n",
       "1   ham                      Ok lar... Joking wif u oni...          0       29\n",
       "2  spam  Free entry in 2 a wkly comp to win FA Cup fina...          1      155\n",
       "3   ham  U dun say so early hor... U c already then say...          0       49\n",
       "4   ham  Nah I don't think he goes to usf, he lives aro...          0       61"
      ]
     },
     "execution_count": 17,
     "metadata": {},
     "output_type": "execute_result"
    }
   ],
   "source": [
    "# View first 5 Observations\n",
    "print(\"Before Modification:\\n\") \n",
    "sms_data.head()"
   ]
  },
  {
   "cell_type": "code",
   "execution_count": 18,
   "id": "68d30549",
   "metadata": {
    "execution": {
     "iopub.execute_input": "2023-03-23T06:09:50.867755Z",
     "iopub.status.busy": "2023-03-23T06:09:50.867277Z",
     "iopub.status.idle": "2023-03-23T06:09:52.147771Z",
     "shell.execute_reply": "2023-03-23T06:09:52.146073Z"
    },
    "papermill": {
     "duration": 1.304228,
     "end_time": "2023-03-23T06:09:52.150688",
     "exception": false,
     "start_time": "2023-03-23T06:09:50.846460",
     "status": "completed"
    },
    "tags": []
   },
   "outputs": [
    {
     "name": "stdout",
     "output_type": "stream",
     "text": [
      "After Modification:\n",
      "\n"
     ]
    },
    {
     "data": {
      "text/html": [
       "<div>\n",
       "<style scoped>\n",
       "    .dataframe tbody tr th:only-of-type {\n",
       "        vertical-align: middle;\n",
       "    }\n",
       "\n",
       "    .dataframe tbody tr th {\n",
       "        vertical-align: top;\n",
       "    }\n",
       "\n",
       "    .dataframe thead th {\n",
       "        text-align: right;\n",
       "    }\n",
       "</style>\n",
       "<table border=\"1\" class=\"dataframe\">\n",
       "  <thead>\n",
       "    <tr style=\"text-align: right;\">\n",
       "      <th></th>\n",
       "      <th>Class</th>\n",
       "      <th>sms</th>\n",
       "      <th>Class_num</th>\n",
       "      <th>sms_len</th>\n",
       "      <th>sms_clean</th>\n",
       "    </tr>\n",
       "  </thead>\n",
       "  <tbody>\n",
       "    <tr>\n",
       "      <th>0</th>\n",
       "      <td>ham</td>\n",
       "      <td>Go until jurong point, crazy.. Available only ...</td>\n",
       "      <td>0</td>\n",
       "      <td>111</td>\n",
       "      <td>go jurong point crazy available bugis n great ...</td>\n",
       "    </tr>\n",
       "    <tr>\n",
       "      <th>1</th>\n",
       "      <td>ham</td>\n",
       "      <td>Ok lar... Joking wif u oni...</td>\n",
       "      <td>0</td>\n",
       "      <td>29</td>\n",
       "      <td>lar joking wif u oni</td>\n",
       "    </tr>\n",
       "    <tr>\n",
       "      <th>2</th>\n",
       "      <td>spam</td>\n",
       "      <td>Free entry in 2 a wkly comp to win FA Cup fina...</td>\n",
       "      <td>1</td>\n",
       "      <td>155</td>\n",
       "      <td>free entry 2 wkly comp win fa cup final tkts 2...</td>\n",
       "    </tr>\n",
       "    <tr>\n",
       "      <th>3</th>\n",
       "      <td>ham</td>\n",
       "      <td>U dun say so early hor... U c already then say...</td>\n",
       "      <td>0</td>\n",
       "      <td>49</td>\n",
       "      <td>u dun say early hor u c already say</td>\n",
       "    </tr>\n",
       "    <tr>\n",
       "      <th>4</th>\n",
       "      <td>ham</td>\n",
       "      <td>Nah I don't think he goes to usf, he lives aro...</td>\n",
       "      <td>0</td>\n",
       "      <td>61</td>\n",
       "      <td>nah dont think goes usf lives around though</td>\n",
       "    </tr>\n",
       "  </tbody>\n",
       "</table>\n",
       "</div>"
      ],
      "text/plain": [
       "  Class                                                sms  Class_num  \\\n",
       "0   ham  Go until jurong point, crazy.. Available only ...          0   \n",
       "1   ham                      Ok lar... Joking wif u oni...          0   \n",
       "2  spam  Free entry in 2 a wkly comp to win FA Cup fina...          1   \n",
       "3   ham  U dun say so early hor... U c already then say...          0   \n",
       "4   ham  Nah I don't think he goes to usf, he lives aro...          0   \n",
       "\n",
       "   sms_len                                          sms_clean  \n",
       "0      111  go jurong point crazy available bugis n great ...  \n",
       "1       29                               lar joking wif u oni  \n",
       "2      155  free entry 2 wkly comp win fa cup final tkts 2...  \n",
       "3       49                u dun say early hor u c already say  \n",
       "4       61        nah dont think goes usf lives around though  "
      ]
     },
     "execution_count": 18,
     "metadata": {},
     "output_type": "execute_result"
    }
   ],
   "source": [
    "# Create New Column\n",
    "sms_data['sms_clean'] = sms_data.sms.apply(Process_Msg)   #send each message to function 'temp_process'\n",
    "\n",
    "# View first 5 Observations\n",
    "print(\"After Modification:\\n\") \n",
    "sms_data.head()"
   ]
  },
  {
   "cell_type": "markdown",
   "id": "5734ba23",
   "metadata": {
    "papermill": {
     "duration": 0.021174,
     "end_time": "2023-03-23T06:09:52.191774",
     "exception": false,
     "start_time": "2023-03-23T06:09:52.170600",
     "status": "completed"
    },
    "tags": []
   },
   "source": [
    "### Extract Words\n",
    "#### Ham Messages"
   ]
  },
  {
   "cell_type": "code",
   "execution_count": 19,
   "id": "b093a223",
   "metadata": {
    "execution": {
     "iopub.execute_input": "2023-03-23T06:09:52.233447Z",
     "iopub.status.busy": "2023-03-23T06:09:52.232085Z",
     "iopub.status.idle": "2023-03-23T06:09:52.265692Z",
     "shell.execute_reply": "2023-03-23T06:09:52.264277Z"
    },
    "papermill": {
     "duration": 0.058118,
     "end_time": "2023-03-23T06:09:52.269243",
     "exception": false,
     "start_time": "2023-03-23T06:09:52.211125",
     "status": "completed"
    },
    "tags": []
   },
   "outputs": [
    {
     "data": {
      "text/plain": [
       "0       [go, jurong, point, crazy, available, bugis, n...\n",
       "1                              [lar, joking, wif, u, oni]\n",
       "3           [u, dun, say, early, hor, u, c, already, say]\n",
       "4       [nah, dont, think, goes, usf, lives, around, t...\n",
       "6       [even, brother, like, speak, treat, like, aids...\n",
       "                              ...                        \n",
       "5565                                           [huh, lei]\n",
       "5568                   [ü, b, going, esplanade, fr, home]\n",
       "5569                     [pity, mood, soany, suggestions]\n",
       "5570    [guy, bitching, acted, like, id, interested, b...\n",
       "5571                                         [true, name]\n",
       "Name: sms_clean, Length: 4825, dtype: object"
      ]
     },
     "execution_count": 19,
     "metadata": {},
     "output_type": "execute_result"
    }
   ],
   "source": [
    "ham_words = sms_data[sms_data.Class_num==0].sms_clean.apply(lambda x: [word.lower() for word in x.split()])    #Save messages as lowercase list\n",
    "\n",
    "'''\n",
    "for each ham message, \n",
    "split words into a list, \n",
    "covert to lowercase, \n",
    "and save to 'ham_words'\n",
    "'''\n",
    "\n",
    "ham_words    #remaining words in ham messages"
   ]
  },
  {
   "cell_type": "markdown",
   "id": "1c1d4a3c",
   "metadata": {
    "papermill": {
     "duration": 0.019874,
     "end_time": "2023-03-23T06:09:52.309711",
     "exception": false,
     "start_time": "2023-03-23T06:09:52.289837",
     "status": "completed"
    },
    "tags": []
   },
   "source": [
    "#### Spam Messages"
   ]
  },
  {
   "cell_type": "code",
   "execution_count": 20,
   "id": "9a6414ae",
   "metadata": {
    "execution": {
     "iopub.execute_input": "2023-03-23T06:09:52.352212Z",
     "iopub.status.busy": "2023-03-23T06:09:52.351690Z",
     "iopub.status.idle": "2023-03-23T06:09:52.372658Z",
     "shell.execute_reply": "2023-03-23T06:09:52.371619Z"
    },
    "papermill": {
     "duration": 0.045721,
     "end_time": "2023-03-23T06:09:52.375169",
     "exception": false,
     "start_time": "2023-03-23T06:09:52.329448",
     "status": "completed"
    },
    "tags": []
   },
   "outputs": [
    {
     "data": {
      "text/plain": [
       "2       [free, entry, 2, wkly, comp, win, fa, cup, fin...\n",
       "5       [freemsg, hey, darling, 3, weeks, word, back, ...\n",
       "8       [winner, valued, network, customer, selected, ...\n",
       "9       [mobile, 11, months, u, r, entitled, update, l...\n",
       "11      [six, chances, win, cash, 100, 20000, pounds, ...\n",
       "                              ...                        \n",
       "5537    [want, explicit, sex, 30, secs, ring, 02073162...\n",
       "5540    [asked, 3mobile, 0870, chatlines, inclu, free,...\n",
       "5547    [contract, mobile, 11, mnths, latest, motorola...\n",
       "5566    [reminder, o2, get, 250, pounds, free, call, c...\n",
       "5567    [2nd, time, tried, 2, contact, u, u, £750, pou...\n",
       "Name: sms_clean, Length: 747, dtype: object"
      ]
     },
     "execution_count": 20,
     "metadata": {},
     "output_type": "execute_result"
    }
   ],
   "source": [
    "spam_words = sms_data[sms_data.Class_num==1].sms_clean.apply(lambda x: [word.lower() for word in x.split()])    #Save messages as lowercase list\n",
    "\n",
    "'''\n",
    "for each ham message, \n",
    "split words into a list, \n",
    "covert to lowercase, \n",
    "and save to 'ham_words'\n",
    "'''\n",
    "\n",
    "spam_words    #remaining words in spam messages"
   ]
  },
  {
   "cell_type": "markdown",
   "id": "626b0cee",
   "metadata": {
    "papermill": {
     "duration": 0.020998,
     "end_time": "2023-03-23T06:09:52.417920",
     "exception": false,
     "start_time": "2023-03-23T06:09:52.396922",
     "status": "completed"
    },
    "tags": []
   },
   "source": [
    "## Create Frequency Tables\n",
    "### Ham Word Frequencies"
   ]
  },
  {
   "cell_type": "code",
   "execution_count": 21,
   "id": "b0949695",
   "metadata": {
    "execution": {
     "iopub.execute_input": "2023-03-23T06:09:52.461515Z",
     "iopub.status.busy": "2023-03-23T06:09:52.460306Z",
     "iopub.status.idle": "2023-03-23T06:09:52.485188Z",
     "shell.execute_reply": "2023-03-23T06:09:52.483350Z"
    },
    "papermill": {
     "duration": 0.05011,
     "end_time": "2023-03-23T06:09:52.488626",
     "exception": false,
     "start_time": "2023-03-23T06:09:52.438516",
     "status": "completed"
    },
    "tags": []
   },
   "outputs": [
    {
     "name": "stdout",
     "output_type": "stream",
     "text": [
      "[('u', 985), ('2', 309), ('get', 303), ('ltgt', 276), ('dont', 265), ('go', 250), ('ur', 246), ('ill', 238), ('got', 232), ('know', 232), ('like', 231), ('call', 231), ('come', 227), ('good', 224), ('love', 190), ('time', 189), ('day', 188), ('4', 174), ('ü', 169), ('going', 167), ('want', 164), ('one', 163), ('home', 160), ('lor', 160), ('need', 157), ('sorry', 153), ('still', 147), ('see', 138), ('n', 137), ('later', 134), ('da', 131), ('r', 131), ('back', 129), ('think', 128), ('well', 127), ('today', 125), ('send', 123), ('tell', 121), ('cant', 119), ('hi', 117), ('take', 112), ('oh', 112), ('much', 112), ('night', 109), ('happy', 106), ('hey', 106), ('great', 100), ('way', 100), ('hope', 100), ('pls', 98)]\n"
     ]
    }
   ],
   "source": [
    "from collections import Counter\n",
    "ham_word_count = Counter()\n",
    "\n",
    "for each_word in ham_words:                #for each word in words\n",
    "    ham_word_count.update(each_word)       #count frequency of each_word\n",
    "    \n",
    "print(ham_word_count.most_common(50))      #print 50 most common words"
   ]
  },
  {
   "cell_type": "markdown",
   "id": "dde8a28b",
   "metadata": {
    "papermill": {
     "duration": 0.019562,
     "end_time": "2023-03-23T06:09:52.528189",
     "exception": false,
     "start_time": "2023-03-23T06:09:52.508627",
     "status": "completed"
    },
    "tags": []
   },
   "source": [
    "#### Analysis\n",
    "<i>This is a good place to check for additional stopwords.<br>\n",
    "    \n",
    "<i>If unsure about adding a specific word to the stopwords list, ask if the word adds any context - if not, it would likely work well as a stopword.<br> Also, you can check the most common occurences of spam (shown below) and see if that word appears there as well. "
   ]
  },
  {
   "cell_type": "markdown",
   "id": "b59d7b20",
   "metadata": {
    "papermill": {
     "duration": 0.019596,
     "end_time": "2023-03-23T06:09:52.567537",
     "exception": false,
     "start_time": "2023-03-23T06:09:52.547941",
     "status": "completed"
    },
    "tags": []
   },
   "source": [
    "### Spam Word Frequencies"
   ]
  },
  {
   "cell_type": "code",
   "execution_count": 22,
   "id": "4785d488",
   "metadata": {
    "execution": {
     "iopub.execute_input": "2023-03-23T06:09:52.611562Z",
     "iopub.status.busy": "2023-03-23T06:09:52.610303Z",
     "iopub.status.idle": "2023-03-23T06:09:52.621523Z",
     "shell.execute_reply": "2023-03-23T06:09:52.619814Z"
    },
    "papermill": {
     "duration": 0.036296,
     "end_time": "2023-03-23T06:09:52.624806",
     "exception": false,
     "start_time": "2023-03-23T06:09:52.588510",
     "status": "completed"
    },
    "tags": []
   },
   "outputs": [
    {
     "name": "stdout",
     "output_type": "stream",
     "text": [
      "[('call', 347), ('free', 216), ('2', 173), ('txt', 150), ('u', 147), ('ur', 144), ('mobile', 123), ('text', 120), ('4', 119), ('stop', 115), ('claim', 113), ('reply', 101), ('prize', 92), ('get', 83), ('new', 69), ('send', 68), ('nokia', 65), ('urgent', 63), ('cash', 62), ('win', 60), ('contact', 56), ('service', 55), ('please', 52), ('16', 51), ('guaranteed', 50), ('customer', 49), ('week', 49), ('tone', 48), ('per', 46), ('phone', 45), ('18', 43), ('chat', 42), ('awarded', 38), ('draw', 38), ('latest', 36), ('£1000', 35), ('line', 35), ('150ppm', 34), ('mins', 34), ('receive', 33), ('camera', 33), ('1', 33), ('box', 33), ('every', 33), ('message', 32), ('po', 32), ('holiday', 32), ('landline', 32), ('shows', 31), ('£2000', 31)]\n"
     ]
    }
   ],
   "source": [
    "spam_word_count = Counter()\n",
    "\n",
    "for each_word in spam_words:              #for each word in words\n",
    "    spam_word_count.update(each_word)       #count frequency of each_word\n",
    "    \n",
    "print(spam_word_count.most_common(50))      #print 50 most common words"
   ]
  },
  {
   "cell_type": "markdown",
   "id": "3d8778b2",
   "metadata": {
    "papermill": {
     "duration": 0.020378,
     "end_time": "2023-03-23T06:09:52.667745",
     "exception": false,
     "start_time": "2023-03-23T06:09:52.647367",
     "status": "completed"
    },
    "tags": []
   },
   "source": [
    "## Standardize Data\n",
    "\n",
    "Standardizing this dataset is not necessary as we know the min/max values (0, 1). Due to the format of this scale, there cannot be any huge outliers and standardization is not necessary. Therefore, this is simply an example of how to standardize data.\n",
    "\n",
    "Furthermore, the data does not need to be scaled for the same reason. As the function for scaling is:<br>\n",
    "    \n",
    "            X_scaled = X_stdev * (scale_max - scale_min) + scale_min \n",
    "<br>\n",
    "A 0 to 1 scale is the same as multiplying by 1, and would provide no benefit. An example of this logic is shown below.<br><br>\n",
    "    \n",
    "Example:<br>\n",
    "&emsp;&emsp;X_cs = X_stdev * (scale_max - scale_min) + scale_min<br>\n",
    "&emsp;&emsp;X_cs = X_stdev * (1 - 0) + 0<br>\n",
    "&emsp;&emsp;X_cs = X_stdev * (1) + 0<br>\n",
    "&emsp;&emsp;X_cs = X_stdev + 0<br>\n",
    "&emsp;&emsp;X_cs = X_stdev <br>"
   ]
  },
  {
   "cell_type": "markdown",
   "id": "f9762162",
   "metadata": {
    "papermill": {
     "duration": 0.020129,
     "end_time": "2023-03-23T06:09:52.708545",
     "exception": false,
     "start_time": "2023-03-23T06:09:52.688416",
     "status": "completed"
    },
    "tags": []
   },
   "source": [
    "---\n",
    "## Train KNN Classifier\n",
    "### Set Dependent Variable"
   ]
  },
  {
   "cell_type": "code",
   "execution_count": 23,
   "id": "1dc7915f",
   "metadata": {
    "execution": {
     "iopub.execute_input": "2023-03-23T06:09:52.754454Z",
     "iopub.status.busy": "2023-03-23T06:09:52.753576Z",
     "iopub.status.idle": "2023-03-23T06:09:52.763638Z",
     "shell.execute_reply": "2023-03-23T06:09:52.762433Z"
    },
    "papermill": {
     "duration": 0.036353,
     "end_time": "2023-03-23T06:09:52.766629",
     "exception": false,
     "start_time": "2023-03-23T06:09:52.730276",
     "status": "completed"
    },
    "tags": []
   },
   "outputs": [
    {
     "data": {
      "text/plain": [
       "0       0\n",
       "1       0\n",
       "2       1\n",
       "3       0\n",
       "4       0\n",
       "       ..\n",
       "5567    1\n",
       "5568    0\n",
       "5569    0\n",
       "5570    0\n",
       "5571    0\n",
       "Name: Class_num, Length: 5572, dtype: int64"
      ]
     },
     "execution_count": 23,
     "metadata": {},
     "output_type": "execute_result"
    }
   ],
   "source": [
    "# Create Vector for Dependent Variable\n",
    "y = sms_data.Class_num\n",
    "\n",
    "# View Dependent Variable\n",
    "y"
   ]
  },
  {
   "cell_type": "markdown",
   "id": "8b9927db",
   "metadata": {
    "papermill": {
     "duration": 0.019547,
     "end_time": "2023-03-23T06:09:52.807313",
     "exception": false,
     "start_time": "2023-03-23T06:09:52.787766",
     "status": "completed"
    },
    "tags": []
   },
   "source": [
    "### Set Independent Variable"
   ]
  },
  {
   "cell_type": "code",
   "execution_count": 24,
   "id": "ce4670cd",
   "metadata": {
    "execution": {
     "iopub.execute_input": "2023-03-23T06:09:52.851841Z",
     "iopub.status.busy": "2023-03-23T06:09:52.851338Z",
     "iopub.status.idle": "2023-03-23T06:09:52.861655Z",
     "shell.execute_reply": "2023-03-23T06:09:52.860482Z"
    },
    "papermill": {
     "duration": 0.037328,
     "end_time": "2023-03-23T06:09:52.864773",
     "exception": false,
     "start_time": "2023-03-23T06:09:52.827445",
     "status": "completed"
    },
    "tags": []
   },
   "outputs": [
    {
     "data": {
      "text/plain": [
       "0       go jurong point crazy available bugis n great ...\n",
       "1                                    lar joking wif u oni\n",
       "2       free entry 2 wkly comp win fa cup final tkts 2...\n",
       "3                     u dun say early hor u c already say\n",
       "4             nah dont think goes usf lives around though\n",
       "                              ...                        \n",
       "5567    2nd time tried 2 contact u u £750 pound prize ...\n",
       "5568                          ü b going esplanade fr home\n",
       "5569                          pity mood soany suggestions\n",
       "5570    guy bitching acted like id interested buying s...\n",
       "5571                                            true name\n",
       "Name: sms_clean, Length: 5572, dtype: object"
      ]
     },
     "execution_count": 24,
     "metadata": {},
     "output_type": "execute_result"
    }
   ],
   "source": [
    "# Create Matrix for Independent Variables\n",
    "X = sms_data.sms_clean    #define feature set\n",
    "\n",
    "# View Dependent Variable\n",
    "X"
   ]
  },
  {
   "cell_type": "markdown",
   "id": "8791258a",
   "metadata": {
    "papermill": {
     "duration": 0.019959,
     "end_time": "2023-03-23T06:09:52.906570",
     "exception": false,
     "start_time": "2023-03-23T06:09:52.886611",
     "status": "completed"
    },
    "tags": []
   },
   "source": [
    "### View Variable Shapes"
   ]
  },
  {
   "cell_type": "code",
   "execution_count": 25,
   "id": "e80ba96f",
   "metadata": {
    "execution": {
     "iopub.execute_input": "2023-03-23T06:09:52.951772Z",
     "iopub.status.busy": "2023-03-23T06:09:52.951306Z",
     "iopub.status.idle": "2023-03-23T06:09:52.959096Z",
     "shell.execute_reply": "2023-03-23T06:09:52.956906Z"
    },
    "papermill": {
     "duration": 0.034934,
     "end_time": "2023-03-23T06:09:52.962183",
     "exception": false,
     "start_time": "2023-03-23T06:09:52.927249",
     "status": "completed"
    },
    "tags": []
   },
   "outputs": [
    {
     "name": "stdout",
     "output_type": "stream",
     "text": [
      "(5572,)\n",
      "(5572,)\n"
     ]
    }
   ],
   "source": [
    "print(X.shape)       #print shape (Observations/ Rows, Features/ Columns)\n",
    "print(y.shape)       #print shape (Observations/ Rows, Features/ Columns)"
   ]
  },
  {
   "cell_type": "markdown",
   "id": "4adc6395",
   "metadata": {
    "papermill": {
     "duration": 0.020058,
     "end_time": "2023-03-23T06:09:53.004196",
     "exception": false,
     "start_time": "2023-03-23T06:09:52.984138",
     "status": "completed"
    },
    "tags": []
   },
   "source": [
    "### Shape Analysis and Verification\n",
    "* X: 5572 observations, 1 feature\n",
    "* Y: 5572 observations, 1 feature\n",
    "\n",
    "Since Training and Testing observations match, and features are the expected value, we may proceed with splitting the training and testing data."
   ]
  },
  {
   "cell_type": "markdown",
   "id": "740ee339",
   "metadata": {
    "papermill": {
     "duration": 0.020635,
     "end_time": "2023-03-23T06:09:53.045899",
     "exception": false,
     "start_time": "2023-03-23T06:09:53.025264",
     "status": "completed"
    },
    "tags": []
   },
   "source": [
    "## Split Training and Testing Data"
   ]
  },
  {
   "cell_type": "code",
   "execution_count": 26,
   "id": "ce245d73",
   "metadata": {
    "execution": {
     "iopub.execute_input": "2023-03-23T06:09:53.091809Z",
     "iopub.status.busy": "2023-03-23T06:09:53.090811Z",
     "iopub.status.idle": "2023-03-23T06:09:53.107351Z",
     "shell.execute_reply": "2023-03-23T06:09:53.105934Z"
    },
    "papermill": {
     "duration": 0.044394,
     "end_time": "2023-03-23T06:09:53.111257",
     "exception": false,
     "start_time": "2023-03-23T06:09:53.066863",
     "status": "completed"
    },
    "tags": []
   },
   "outputs": [
    {
     "name": "stdout",
     "output_type": "stream",
     "text": [
      "184                                            guys close\n",
      "2171    please come imin towndontmatter urgoin outl8rj...\n",
      "5422                             ksry knw 2 sivatats askd\n",
      "4113                                  ill see prolly yeah\n",
      "4588         ill see swing bit got things take care firsg\n",
      "                              ...                        \n",
      "1932                                    pa tell went bath\n",
      "5316                             jus finish watching tv u\n",
      "2309    moby pub quizwin £100 high street prize u know...\n",
      "1904    free entry 2 weekly comp chance win ipod txt p...\n",
      "762     grandmas oh dear u still ill felt shit morning...\n",
      "Name: sms_clean, Length: 4457, dtype: object \n",
      ":\n",
      " 184     0\n",
      "2171    0\n",
      "5422    0\n",
      "4113    0\n",
      "4588    0\n",
      "       ..\n",
      "1932    0\n",
      "5316    0\n",
      "2309    1\n",
      "1904    1\n",
      "762     0\n",
      "Name: Class_num, Length: 4457, dtype: int64\n"
     ]
    }
   ],
   "source": [
    "# Split data so 80% is for training and 20% is for testing\n",
    "from sklearn.model_selection import train_test_split\n",
    "X_train, X_test, y_train, y_test = train_test_split(X,\n",
    "                                                    y,\n",
    "                                                    test_size = 0.2,\n",
    "                                                    random_state = 42,\n",
    "                                                    stratify = y)\n",
    "\n",
    "# View Training Data\n",
    "print(X_train, \"\\n:\\n\", y_train)"
   ]
  },
  {
   "cell_type": "code",
   "execution_count": 27,
   "id": "e3a5904b",
   "metadata": {
    "execution": {
     "iopub.execute_input": "2023-03-23T06:09:53.156207Z",
     "iopub.status.busy": "2023-03-23T06:09:53.155716Z",
     "iopub.status.idle": "2023-03-23T06:09:53.162617Z",
     "shell.execute_reply": "2023-03-23T06:09:53.161550Z"
    },
    "papermill": {
     "duration": 0.032238,
     "end_time": "2023-03-23T06:09:53.165486",
     "exception": false,
     "start_time": "2023-03-23T06:09:53.133248",
     "status": "completed"
    },
    "tags": []
   },
   "outputs": [
    {
     "name": "stdout",
     "output_type": "stream",
     "text": [
      "(4457,) (1115,)\n",
      "(4457,) (1115,)\n"
     ]
    }
   ],
   "source": [
    "# Verify Training/ Testing Data\n",
    "print(X_train.shape, X_test.shape)\n",
    "print(y_train.shape, y_test.shape)"
   ]
  },
  {
   "cell_type": "markdown",
   "id": "a55f631a",
   "metadata": {
    "papermill": {
     "duration": 0.020209,
     "end_time": "2023-03-23T06:09:53.207195",
     "exception": false,
     "start_time": "2023-03-23T06:09:53.186986",
     "status": "completed"
    },
    "tags": []
   },
   "source": [
    "### Verification Analysis\n",
    "\n",
    "* X_train: 4457 observations, 1 feature\n",
    "* X_test: 1115 observations, 1 feature\n",
    "* y_train: 4457 observations, 1 feature\n",
    "* y_test: 1115 observations, 1 feature\n",
    "\n",
    "Since Training and Testing observations match, and features are the expected value, the training and testing data was split correctly."
   ]
  },
  {
   "cell_type": "markdown",
   "id": "babec7db",
   "metadata": {
    "papermill": {
     "duration": 0.020014,
     "end_time": "2023-03-23T06:09:53.247622",
     "exception": false,
     "start_time": "2023-03-23T06:09:53.227608",
     "status": "completed"
    },
    "tags": []
   },
   "source": [
    "### Obtain Count Vectorizer"
   ]
  },
  {
   "cell_type": "code",
   "execution_count": 28,
   "id": "39be8275",
   "metadata": {
    "execution": {
     "iopub.execute_input": "2023-03-23T06:09:53.291384Z",
     "iopub.status.busy": "2023-03-23T06:09:53.289948Z",
     "iopub.status.idle": "2023-03-23T06:09:53.593888Z",
     "shell.execute_reply": "2023-03-23T06:09:53.592392Z"
    },
    "papermill": {
     "duration": 0.329048,
     "end_time": "2023-03-23T06:09:53.597050",
     "exception": false,
     "start_time": "2023-03-23T06:09:53.268002",
     "status": "completed"
    },
    "tags": []
   },
   "outputs": [
    {
     "data": {
      "text/html": [
       "<div>\n",
       "<style scoped>\n",
       "    .dataframe tbody tr th:only-of-type {\n",
       "        vertical-align: middle;\n",
       "    }\n",
       "\n",
       "    .dataframe tbody tr th {\n",
       "        vertical-align: top;\n",
       "    }\n",
       "\n",
       "    .dataframe thead th {\n",
       "        text-align: right;\n",
       "    }\n",
       "</style>\n",
       "<table border=\"1\" class=\"dataframe\">\n",
       "  <thead>\n",
       "    <tr style=\"text-align: right;\">\n",
       "      <th></th>\n",
       "      <th>008704050406</th>\n",
       "      <th>0089my</th>\n",
       "      <th>0121</th>\n",
       "      <th>01223585236</th>\n",
       "      <th>01223585334</th>\n",
       "      <th>02</th>\n",
       "      <th>020603</th>\n",
       "      <th>0207</th>\n",
       "      <th>02070836089</th>\n",
       "      <th>02072069400</th>\n",
       "      <th>...</th>\n",
       "      <th>zealand</th>\n",
       "      <th>zed</th>\n",
       "      <th>zeros</th>\n",
       "      <th>zhong</th>\n",
       "      <th>zindgi</th>\n",
       "      <th>zoe</th>\n",
       "      <th>zogtorius</th>\n",
       "      <th>zyada</th>\n",
       "      <th>üll</th>\n",
       "      <th>〨ud</th>\n",
       "    </tr>\n",
       "  </thead>\n",
       "  <tbody>\n",
       "    <tr>\n",
       "      <th>0</th>\n",
       "      <td>0</td>\n",
       "      <td>0</td>\n",
       "      <td>0</td>\n",
       "      <td>0</td>\n",
       "      <td>0</td>\n",
       "      <td>0</td>\n",
       "      <td>0</td>\n",
       "      <td>0</td>\n",
       "      <td>0</td>\n",
       "      <td>0</td>\n",
       "      <td>...</td>\n",
       "      <td>0</td>\n",
       "      <td>0</td>\n",
       "      <td>0</td>\n",
       "      <td>0</td>\n",
       "      <td>0</td>\n",
       "      <td>0</td>\n",
       "      <td>0</td>\n",
       "      <td>0</td>\n",
       "      <td>0</td>\n",
       "      <td>0</td>\n",
       "    </tr>\n",
       "    <tr>\n",
       "      <th>1</th>\n",
       "      <td>0</td>\n",
       "      <td>0</td>\n",
       "      <td>0</td>\n",
       "      <td>0</td>\n",
       "      <td>0</td>\n",
       "      <td>0</td>\n",
       "      <td>0</td>\n",
       "      <td>0</td>\n",
       "      <td>0</td>\n",
       "      <td>0</td>\n",
       "      <td>...</td>\n",
       "      <td>0</td>\n",
       "      <td>0</td>\n",
       "      <td>0</td>\n",
       "      <td>0</td>\n",
       "      <td>0</td>\n",
       "      <td>0</td>\n",
       "      <td>0</td>\n",
       "      <td>0</td>\n",
       "      <td>0</td>\n",
       "      <td>0</td>\n",
       "    </tr>\n",
       "    <tr>\n",
       "      <th>2</th>\n",
       "      <td>0</td>\n",
       "      <td>0</td>\n",
       "      <td>0</td>\n",
       "      <td>0</td>\n",
       "      <td>0</td>\n",
       "      <td>0</td>\n",
       "      <td>0</td>\n",
       "      <td>0</td>\n",
       "      <td>0</td>\n",
       "      <td>0</td>\n",
       "      <td>...</td>\n",
       "      <td>0</td>\n",
       "      <td>0</td>\n",
       "      <td>0</td>\n",
       "      <td>0</td>\n",
       "      <td>0</td>\n",
       "      <td>0</td>\n",
       "      <td>0</td>\n",
       "      <td>0</td>\n",
       "      <td>0</td>\n",
       "      <td>0</td>\n",
       "    </tr>\n",
       "    <tr>\n",
       "      <th>3</th>\n",
       "      <td>0</td>\n",
       "      <td>0</td>\n",
       "      <td>0</td>\n",
       "      <td>0</td>\n",
       "      <td>0</td>\n",
       "      <td>0</td>\n",
       "      <td>0</td>\n",
       "      <td>0</td>\n",
       "      <td>0</td>\n",
       "      <td>0</td>\n",
       "      <td>...</td>\n",
       "      <td>0</td>\n",
       "      <td>0</td>\n",
       "      <td>0</td>\n",
       "      <td>0</td>\n",
       "      <td>0</td>\n",
       "      <td>0</td>\n",
       "      <td>0</td>\n",
       "      <td>0</td>\n",
       "      <td>0</td>\n",
       "      <td>0</td>\n",
       "    </tr>\n",
       "    <tr>\n",
       "      <th>4</th>\n",
       "      <td>0</td>\n",
       "      <td>0</td>\n",
       "      <td>0</td>\n",
       "      <td>0</td>\n",
       "      <td>0</td>\n",
       "      <td>0</td>\n",
       "      <td>0</td>\n",
       "      <td>0</td>\n",
       "      <td>0</td>\n",
       "      <td>0</td>\n",
       "      <td>...</td>\n",
       "      <td>0</td>\n",
       "      <td>0</td>\n",
       "      <td>0</td>\n",
       "      <td>0</td>\n",
       "      <td>0</td>\n",
       "      <td>0</td>\n",
       "      <td>0</td>\n",
       "      <td>0</td>\n",
       "      <td>0</td>\n",
       "      <td>0</td>\n",
       "    </tr>\n",
       "    <tr>\n",
       "      <th>...</th>\n",
       "      <td>...</td>\n",
       "      <td>...</td>\n",
       "      <td>...</td>\n",
       "      <td>...</td>\n",
       "      <td>...</td>\n",
       "      <td>...</td>\n",
       "      <td>...</td>\n",
       "      <td>...</td>\n",
       "      <td>...</td>\n",
       "      <td>...</td>\n",
       "      <td>...</td>\n",
       "      <td>...</td>\n",
       "      <td>...</td>\n",
       "      <td>...</td>\n",
       "      <td>...</td>\n",
       "      <td>...</td>\n",
       "      <td>...</td>\n",
       "      <td>...</td>\n",
       "      <td>...</td>\n",
       "      <td>...</td>\n",
       "      <td>...</td>\n",
       "    </tr>\n",
       "    <tr>\n",
       "      <th>4452</th>\n",
       "      <td>0</td>\n",
       "      <td>0</td>\n",
       "      <td>0</td>\n",
       "      <td>0</td>\n",
       "      <td>0</td>\n",
       "      <td>0</td>\n",
       "      <td>0</td>\n",
       "      <td>0</td>\n",
       "      <td>0</td>\n",
       "      <td>0</td>\n",
       "      <td>...</td>\n",
       "      <td>0</td>\n",
       "      <td>0</td>\n",
       "      <td>0</td>\n",
       "      <td>0</td>\n",
       "      <td>0</td>\n",
       "      <td>0</td>\n",
       "      <td>0</td>\n",
       "      <td>0</td>\n",
       "      <td>0</td>\n",
       "      <td>0</td>\n",
       "    </tr>\n",
       "    <tr>\n",
       "      <th>4453</th>\n",
       "      <td>0</td>\n",
       "      <td>0</td>\n",
       "      <td>0</td>\n",
       "      <td>0</td>\n",
       "      <td>0</td>\n",
       "      <td>0</td>\n",
       "      <td>0</td>\n",
       "      <td>0</td>\n",
       "      <td>0</td>\n",
       "      <td>0</td>\n",
       "      <td>...</td>\n",
       "      <td>0</td>\n",
       "      <td>0</td>\n",
       "      <td>0</td>\n",
       "      <td>0</td>\n",
       "      <td>0</td>\n",
       "      <td>0</td>\n",
       "      <td>0</td>\n",
       "      <td>0</td>\n",
       "      <td>0</td>\n",
       "      <td>0</td>\n",
       "    </tr>\n",
       "    <tr>\n",
       "      <th>4454</th>\n",
       "      <td>1</td>\n",
       "      <td>0</td>\n",
       "      <td>0</td>\n",
       "      <td>0</td>\n",
       "      <td>0</td>\n",
       "      <td>0</td>\n",
       "      <td>0</td>\n",
       "      <td>0</td>\n",
       "      <td>0</td>\n",
       "      <td>0</td>\n",
       "      <td>...</td>\n",
       "      <td>0</td>\n",
       "      <td>0</td>\n",
       "      <td>0</td>\n",
       "      <td>0</td>\n",
       "      <td>0</td>\n",
       "      <td>0</td>\n",
       "      <td>0</td>\n",
       "      <td>0</td>\n",
       "      <td>0</td>\n",
       "      <td>0</td>\n",
       "    </tr>\n",
       "    <tr>\n",
       "      <th>4455</th>\n",
       "      <td>0</td>\n",
       "      <td>0</td>\n",
       "      <td>0</td>\n",
       "      <td>0</td>\n",
       "      <td>0</td>\n",
       "      <td>0</td>\n",
       "      <td>0</td>\n",
       "      <td>0</td>\n",
       "      <td>0</td>\n",
       "      <td>0</td>\n",
       "      <td>...</td>\n",
       "      <td>0</td>\n",
       "      <td>0</td>\n",
       "      <td>0</td>\n",
       "      <td>0</td>\n",
       "      <td>0</td>\n",
       "      <td>0</td>\n",
       "      <td>0</td>\n",
       "      <td>0</td>\n",
       "      <td>0</td>\n",
       "      <td>0</td>\n",
       "    </tr>\n",
       "    <tr>\n",
       "      <th>4456</th>\n",
       "      <td>0</td>\n",
       "      <td>0</td>\n",
       "      <td>0</td>\n",
       "      <td>0</td>\n",
       "      <td>0</td>\n",
       "      <td>0</td>\n",
       "      <td>0</td>\n",
       "      <td>0</td>\n",
       "      <td>0</td>\n",
       "      <td>0</td>\n",
       "      <td>...</td>\n",
       "      <td>0</td>\n",
       "      <td>0</td>\n",
       "      <td>0</td>\n",
       "      <td>0</td>\n",
       "      <td>0</td>\n",
       "      <td>0</td>\n",
       "      <td>0</td>\n",
       "      <td>0</td>\n",
       "      <td>0</td>\n",
       "      <td>0</td>\n",
       "    </tr>\n",
       "  </tbody>\n",
       "</table>\n",
       "<p>4457 rows × 8228 columns</p>\n",
       "</div>"
      ],
      "text/plain": [
       "      008704050406  0089my  0121  01223585236  01223585334  02  020603  0207  \\\n",
       "0                0       0     0            0            0   0       0     0   \n",
       "1                0       0     0            0            0   0       0     0   \n",
       "2                0       0     0            0            0   0       0     0   \n",
       "3                0       0     0            0            0   0       0     0   \n",
       "4                0       0     0            0            0   0       0     0   \n",
       "...            ...     ...   ...          ...          ...  ..     ...   ...   \n",
       "4452             0       0     0            0            0   0       0     0   \n",
       "4453             0       0     0            0            0   0       0     0   \n",
       "4454             1       0     0            0            0   0       0     0   \n",
       "4455             0       0     0            0            0   0       0     0   \n",
       "4456             0       0     0            0            0   0       0     0   \n",
       "\n",
       "      02070836089  02072069400  ...  zealand  zed  zeros  zhong  zindgi  zoe  \\\n",
       "0               0            0  ...        0    0      0      0       0    0   \n",
       "1               0            0  ...        0    0      0      0       0    0   \n",
       "2               0            0  ...        0    0      0      0       0    0   \n",
       "3               0            0  ...        0    0      0      0       0    0   \n",
       "4               0            0  ...        0    0      0      0       0    0   \n",
       "...           ...          ...  ...      ...  ...    ...    ...     ...  ...   \n",
       "4452            0            0  ...        0    0      0      0       0    0   \n",
       "4453            0            0  ...        0    0      0      0       0    0   \n",
       "4454            0            0  ...        0    0      0      0       0    0   \n",
       "4455            0            0  ...        0    0      0      0       0    0   \n",
       "4456            0            0  ...        0    0      0      0       0    0   \n",
       "\n",
       "      zogtorius  zyada  üll  〨ud  \n",
       "0             0      0    0    0  \n",
       "1             0      0    0    0  \n",
       "2             0      0    0    0  \n",
       "3             0      0    0    0  \n",
       "4             0      0    0    0  \n",
       "...         ...    ...  ...  ...  \n",
       "4452          0      0    0    0  \n",
       "4453          0      0    0    0  \n",
       "4454          0      0    0    0  \n",
       "4455          0      0    0    0  \n",
       "4456          0      0    0    0  \n",
       "\n",
       "[4457 rows x 8228 columns]"
      ]
     },
     "execution_count": 28,
     "metadata": {},
     "output_type": "execute_result"
    }
   ],
   "source": [
    "from sklearn.feature_extraction.text import CountVectorizer    #Convert a collection of text documents to a matrix of token counts.\n",
    "\n",
    "# Fit Data\n",
    "vect = CountVectorizer()\n",
    "vect.fit(X_train)\n",
    "\n",
    "#Transform Data\n",
    "X_train_dtm = vect.transform(X_train)    #transform train data, dtm = data transformation\n",
    "X_test_dtm = vect.transform(X_test)      #transform test data, dtm = data transformation\n",
    "\n",
    "#view vectorized messages\n",
    "pd.DataFrame(X_train_dtm.toarray(),columns=vect.get_feature_names_out())"
   ]
  },
  {
   "cell_type": "markdown",
   "id": "a7a653ba",
   "metadata": {
    "papermill": {
     "duration": 0.030078,
     "end_time": "2023-03-23T06:09:53.662590",
     "exception": false,
     "start_time": "2023-03-23T06:09:53.632512",
     "status": "completed"
    },
    "tags": []
   },
   "source": [
    "## Convert to a NumPy array"
   ]
  },
  {
   "cell_type": "code",
   "execution_count": 29,
   "id": "ea1bf63b",
   "metadata": {
    "execution": {
     "iopub.execute_input": "2023-03-23T06:09:53.714585Z",
     "iopub.status.busy": "2023-03-23T06:09:53.713957Z",
     "iopub.status.idle": "2023-03-23T06:09:53.879335Z",
     "shell.execute_reply": "2023-03-23T06:09:53.877691Z"
    },
    "papermill": {
     "duration": 0.19868,
     "end_time": "2023-03-23T06:09:53.883369",
     "exception": false,
     "start_time": "2023-03-23T06:09:53.684689",
     "status": "completed"
    },
    "tags": []
   },
   "outputs": [],
   "source": [
    "#Verify Vectorizers Completed\n",
    "X_test_np = X_test_dtm.toarray()              #convert test vectorizer\n",
    "X_train_np = X_train_dtm.toarray()            #convert train vectorizer"
   ]
  },
  {
   "cell_type": "markdown",
   "id": "35858a4a",
   "metadata": {
    "papermill": {
     "duration": 0.021821,
     "end_time": "2023-03-23T06:09:53.935051",
     "exception": false,
     "start_time": "2023-03-23T06:09:53.913230",
     "status": "completed"
    },
    "tags": []
   },
   "source": [
    "## Create Models"
   ]
  },
  {
   "cell_type": "markdown",
   "id": "d472059d",
   "metadata": {
    "papermill": {
     "duration": 0.02119,
     "end_time": "2023-03-23T06:09:53.981594",
     "exception": false,
     "start_time": "2023-03-23T06:09:53.960404",
     "status": "completed"
    },
    "tags": []
   },
   "source": [
    "### K - Nearest Neighbors 1\n",
    "\n",
    "#### Calculate K Method: Square Root\n",
    "\n",
    "$$k = \\sqrt{No. of Training Examples}$$"
   ]
  },
  {
   "cell_type": "code",
   "execution_count": 30,
   "id": "b7df3efc",
   "metadata": {
    "execution": {
     "iopub.execute_input": "2023-03-23T06:09:54.033337Z",
     "iopub.status.busy": "2023-03-23T06:09:54.032874Z",
     "iopub.status.idle": "2023-03-23T06:09:54.041441Z",
     "shell.execute_reply": "2023-03-23T06:09:54.040204Z"
    },
    "papermill": {
     "duration": 0.040374,
     "end_time": "2023-03-23T06:09:54.045623",
     "exception": false,
     "start_time": "2023-03-23T06:09:54.005249",
     "status": "completed"
    },
    "tags": []
   },
   "outputs": [
    {
     "data": {
      "text/plain": [
       "66"
      ]
     },
     "execution_count": 30,
     "metadata": {},
     "output_type": "execute_result"
    }
   ],
   "source": [
    "training_size = len(X_train_np)\n",
    "k = int(math.sqrt(training_size))         # n_neighbors = k = number of nearest neighbors to obtain categorical data from\n",
    "k"
   ]
  },
  {
   "cell_type": "markdown",
   "id": "e03515fd",
   "metadata": {
    "papermill": {
     "duration": 0.021343,
     "end_time": "2023-03-23T06:09:54.089205",
     "exception": false,
     "start_time": "2023-03-23T06:09:54.067862",
     "status": "completed"
    },
    "tags": []
   },
   "source": [
    "#### Create Classifier"
   ]
  },
  {
   "cell_type": "code",
   "execution_count": 31,
   "id": "d60b42be",
   "metadata": {
    "execution": {
     "iopub.execute_input": "2023-03-23T06:09:54.136109Z",
     "iopub.status.busy": "2023-03-23T06:09:54.134629Z",
     "iopub.status.idle": "2023-03-23T06:09:58.091063Z",
     "shell.execute_reply": "2023-03-23T06:09:58.089387Z"
    },
    "papermill": {
     "duration": 3.98338,
     "end_time": "2023-03-23T06:09:58.094610",
     "exception": false,
     "start_time": "2023-03-23T06:09:54.111230",
     "status": "completed"
    },
    "tags": []
   },
   "outputs": [
    {
     "name": "stdout",
     "output_type": "stream",
     "text": [
      "Compare First 5 Values\n",
      "Predictions:\t [0 0 0 0 0] \n",
      "True Data:\t [0 0 0 1 0] \n",
      "\n",
      "\n",
      "\n",
      "Confusion Matrix\n",
      "[[966   0]\n",
      " [149   0]]\n",
      "\n",
      "\n",
      "Accuracy Score\n",
      "0.8663677130044843\n"
     ]
    }
   ],
   "source": [
    "from sklearn.neighbors import KNeighborsClassifier\n",
    "\n",
    "# Calculate Prediction\n",
    "knn_sqrt = KNeighborsClassifier(n_neighbors = k).fit(X_train_np, y_train)\n",
    "\n",
    "prediction_one = knn_sqrt.predict(X_test_np)    # determine prediction value\n",
    "\n",
    "\n",
    "from sklearn.metrics import confusion_matrix, accuracy_score\n",
    "\n",
    "# Compare Prediction vs True Value\n",
    "print(\"Compare First 5 Values\")\n",
    "print(\"Predictions:\\t\", prediction_one[0:5], '\\n'\n",
    "      \"True Data:\\t\", y_test.to_numpy()[0:5], '\\n')\n",
    "\n",
    "# View Confusion Matrix\n",
    "print(\"\\n\\nConfusion Matrix\")\n",
    "print(confusion_matrix(y_test, prediction_one)) #cm(true data, predictions)\n",
    "\n",
    "\n",
    "# View Accuracy Score\n",
    "print(\"\\n\\nAccuracy Score\")\n",
    "print(knn_sqrt.score(X_test_np, y_test))   #am(true data, predictions)\n",
    "\n",
    "\n",
    "# Test Prediction on Index 3\n",
    "## label prediction\n",
    "#true_label = label_values[y_test.iloc[3]]            # save true label  \n",
    "# prediction_label_one = label_values[prediction_one.tolist()]   # save prediction label 1  \n",
    "\n",
    "# ## compare prediction and print\n",
    "# if prediction_label_one == true_label:\n",
    "#     print('\\nPrediction One [{},{}] is Correct!'\n",
    "#           .format(prediction_one.item(), prediction_label_one))\n",
    "# else:\n",
    "#     print('\\nPrediction One [{},{}] is Incorrect, it does not match the True Value [{}, {}]'\n",
    "#         .format(prediction_one.item(), prediction_label_one, y_test.iloc[3], true_label))"
   ]
  },
  {
   "cell_type": "code",
   "execution_count": 32,
   "id": "f3875e5e",
   "metadata": {
    "execution": {
     "iopub.execute_input": "2023-03-23T06:09:58.144363Z",
     "iopub.status.busy": "2023-03-23T06:09:58.143380Z",
     "iopub.status.idle": "2023-03-23T06:09:58.165471Z",
     "shell.execute_reply": "2023-03-23T06:09:58.162630Z"
    },
    "papermill": {
     "duration": 0.051715,
     "end_time": "2023-03-23T06:09:58.169360",
     "exception": false,
     "start_time": "2023-03-23T06:09:58.117645",
     "status": "completed"
    },
    "tags": []
   },
   "outputs": [
    {
     "name": "stdout",
     "output_type": "stream",
     "text": [
      "Testing Information:\n",
      "\n",
      "         Class_num\n",
      "count  1115.000000\n",
      "mean      0.133632\n",
      "std       0.340409\n",
      "min       0.000000\n",
      "25%       0.000000\n",
      "50%       0.000000\n",
      "75%       0.000000\n",
      "max       1.000000\n",
      "\n",
      "Training Information:\n",
      "\n",
      "         Class_num\n",
      "count  4457.000000\n",
      "mean      0.134171\n",
      "std       0.340874\n",
      "min       0.000000\n",
      "25%       0.000000\n",
      "50%       0.000000\n",
      "75%       0.000000\n",
      "max       1.000000\n",
      "\n"
     ]
    }
   ],
   "source": [
    "print(\"Testing Information:\\n\")\n",
    "print(pd.DataFrame(y_test).describe())\n",
    "print()\n",
    "print(\"Training Information:\\n\")\n",
    "print(pd.DataFrame(y_train).describe())\n",
    "print()"
   ]
  },
  {
   "cell_type": "markdown",
   "id": "ee556043",
   "metadata": {
    "execution": {
     "iopub.execute_input": "2023-03-23T03:09:37.545913Z",
     "iopub.status.busy": "2023-03-23T03:09:37.545503Z",
     "iopub.status.idle": "2023-03-23T03:09:37.552782Z",
     "shell.execute_reply": "2023-03-23T03:09:37.551451Z",
     "shell.execute_reply.started": "2023-03-23T03:09:37.545874Z"
    },
    "papermill": {
     "duration": 0.021278,
     "end_time": "2023-03-23T06:09:58.213294",
     "exception": false,
     "start_time": "2023-03-23T06:09:58.192016",
     "status": "completed"
    },
    "tags": []
   },
   "source": [
    "### Metrics Analysis\n",
    "\n",
    "#### Confusion Matrix\n",
    "\n",
    "|                 | Predicted Value<br>[0] | Predicted Value<br>[1] |\n",
    "| --------------- | ---------------------- | ---------------------- |\n",
    "| True Value [0]  | Prediction Correct     | Prediction Incorrect   |\n",
    "| True Value [1]  | Prediction Incorrect   | Prediction Correct     |\n",
    "\n",
    "| P, T | 0           | 1           |\n",
    "| ---- | ----------- | ----------- |\n",
    "| 0    | <b>0, 0</b> | 1, 0        |\n",
    "| 1    | 0, 1        | <b>1, 1</b> |\n",
    "\n",
    "Therefore, the stats above state the following\n",
    "\n",
    "| | |\n",
    "| ---------------------------------------------------- | -------------------------------------------------- |\n",
    "| 966 Predicted HAM Correctly                         | 0 Predicted SPAM incorrectly,<br> was actually HAM |\n",
    "| 149 Predicted HAM incorrectly,<br> was actually SPAM  | 0 Predicted SPAM Correctly                       |\n",
    "\n",
    "\n",
    "#### Classifier Analysis\n",
    "As we can see, this method failed to identify any instances of spam and only contains an accuracy score of 86.57%. \n",
    "\n",
    "If we look at the dataframe information directly above this cell, we can see that an over-overwhelming number of the dataset is ham, and contains the value '0'. In the KNN square root method, this can cause bias. As a result, all of our predictions are [ham, 0], and renders this method useless.\n",
    "\n",
    "To counter this bias, we will implement the Grid Search optimazation method to calculate k instead. "
   ]
  },
  {
   "cell_type": "markdown",
   "id": "f0cb3e8a",
   "metadata": {
    "papermill": {
     "duration": 0.022238,
     "end_time": "2023-03-23T06:09:58.257253",
     "exception": false,
     "start_time": "2023-03-23T06:09:58.235015",
     "status": "completed"
    },
    "tags": []
   },
   "source": [
    "### K - Nearest Neighbors 2\n",
    "\n",
    "#### Calculate K Method: Grid Search"
   ]
  },
  {
   "cell_type": "code",
   "execution_count": 33,
   "id": "cef7b831",
   "metadata": {
    "execution": {
     "iopub.execute_input": "2023-03-23T06:09:58.304329Z",
     "iopub.status.busy": "2023-03-23T06:09:58.303878Z",
     "iopub.status.idle": "2023-03-23T06:09:58.323353Z",
     "shell.execute_reply": "2023-03-23T06:09:58.321860Z"
    },
    "papermill": {
     "duration": 0.047499,
     "end_time": "2023-03-23T06:09:58.326909",
     "exception": false,
     "start_time": "2023-03-23T06:09:58.279410",
     "status": "completed"
    },
    "tags": []
   },
   "outputs": [],
   "source": [
    "# Set File Path\n",
    "file_path = '/kaggle/input/spam-or-ham/SMSCollection.csv'\n",
    "\n",
    "# Obtain Data from File Path\n",
    "data = pd.read_csv(file_path)"
   ]
  },
  {
   "cell_type": "code",
   "execution_count": 34,
   "id": "168e8066",
   "metadata": {
    "execution": {
     "iopub.execute_input": "2023-03-23T06:09:58.372450Z",
     "iopub.status.busy": "2023-03-23T06:09:58.371962Z",
     "iopub.status.idle": "2023-03-23T06:11:30.911465Z",
     "shell.execute_reply": "2023-03-23T06:11:30.909783Z"
    },
    "papermill": {
     "duration": 92.566977,
     "end_time": "2023-03-23T06:11:30.915431",
     "exception": false,
     "start_time": "2023-03-23T06:09:58.348454",
     "status": "completed"
    },
    "tags": []
   },
   "outputs": [],
   "source": [
    "from sklearn.model_selection import GridSearchCV\n",
    "\n",
    "'''\n",
    "######################## IMPORTANT ######################### \n",
    "#          This Cell is computationally expensive.         #\n",
    "#            Long wait times may be experienced.           #\n",
    "############################################################ \n",
    "'''\n",
    "\n",
    "#                                                          #\n",
    "#                            Note                          #\n",
    "#                                                          #\n",
    "#      An even more accurate calculation method for k      #\n",
    "#    is listed below. However, this method is commented    #\n",
    "#      out due to exceedingly long computation times.      #                      \n",
    "#                                                          #\n",
    "#  To implement this method, follow the guidelines below:  #\n",
    "#                                                          #\n",
    "\n",
    "#### uncomment the section below:\n",
    "#\n",
    "# training_size = len(X_train_np)\n",
    "# range_max = int(training_size/2)\n",
    "# print(range_max)\n",
    "#\n",
    "#### end of section\n",
    "\n",
    "#### comment the section below:\n",
    "\n",
    "range_max = 15\n",
    "\n",
    "#### end of section\n",
    "\n",
    "\n",
    "'''############# DO NOT EDIT BELOW THIS LINE ############'''\n",
    "\n",
    "knn = KNeighborsClassifier()\n",
    "search_space = [{'n_neighbors':list(range(1,range_max))}]   #specify range of grid search space\n",
    "grid_search_vals = GridSearchCV(knn, search_space).fit(X_train_np, y_train)"
   ]
  },
  {
   "cell_type": "code",
   "execution_count": 35,
   "id": "63e14e42",
   "metadata": {
    "execution": {
     "iopub.execute_input": "2023-03-23T06:11:30.962004Z",
     "iopub.status.busy": "2023-03-23T06:11:30.960649Z",
     "iopub.status.idle": "2023-03-23T06:11:30.975255Z",
     "shell.execute_reply": "2023-03-23T06:11:30.973885Z"
    },
    "papermill": {
     "duration": 0.040596,
     "end_time": "2023-03-23T06:11:30.977924",
     "exception": false,
     "start_time": "2023-03-23T06:11:30.937328",
     "status": "completed"
    },
    "tags": []
   },
   "outputs": [
    {
     "data": {
      "text/plain": [
       "GridSearchCV(estimator=KNeighborsClassifier(),\n",
       "             param_grid=[{'n_neighbors': [1, 2, 3, 4, 5, 6, 7, 8, 9, 10, 11, 12,\n",
       "                                          13, 14]}])"
      ]
     },
     "execution_count": 35,
     "metadata": {},
     "output_type": "execute_result"
    }
   ],
   "source": [
    "# view all grid search values\n",
    "grid_search_vals"
   ]
  },
  {
   "cell_type": "code",
   "execution_count": 36,
   "id": "0c9d76b8",
   "metadata": {
    "execution": {
     "iopub.execute_input": "2023-03-23T06:11:31.023830Z",
     "iopub.status.busy": "2023-03-23T06:11:31.023367Z",
     "iopub.status.idle": "2023-03-23T06:11:31.030751Z",
     "shell.execute_reply": "2023-03-23T06:11:31.029799Z"
    },
    "papermill": {
     "duration": 0.033714,
     "end_time": "2023-03-23T06:11:31.033181",
     "exception": false,
     "start_time": "2023-03-23T06:11:30.999467",
     "status": "completed"
    },
    "tags": []
   },
   "outputs": [
    {
     "data": {
      "text/plain": [
       "1"
      ]
     },
     "execution_count": 36,
     "metadata": {},
     "output_type": "execute_result"
    }
   ],
   "source": [
    "# view grid best estimator\n",
    "grid_search_vals.best_estimator_.get_params()['n_neighbors']"
   ]
  },
  {
   "cell_type": "markdown",
   "id": "4c27b8a1",
   "metadata": {
    "papermill": {
     "duration": 0.021327,
     "end_time": "2023-03-23T06:11:31.076402",
     "exception": false,
     "start_time": "2023-03-23T06:11:31.055075",
     "status": "completed"
    },
    "tags": []
   },
   "source": [
    "### Create Classifier"
   ]
  },
  {
   "cell_type": "code",
   "execution_count": 37,
   "id": "82e79616",
   "metadata": {
    "execution": {
     "iopub.execute_input": "2023-03-23T06:11:31.123705Z",
     "iopub.status.busy": "2023-03-23T06:11:31.122555Z",
     "iopub.status.idle": "2023-03-23T06:11:34.662760Z",
     "shell.execute_reply": "2023-03-23T06:11:34.661336Z"
    },
    "papermill": {
     "duration": 3.56761,
     "end_time": "2023-03-23T06:11:34.666200",
     "exception": false,
     "start_time": "2023-03-23T06:11:31.098590",
     "status": "completed"
    },
    "tags": []
   },
   "outputs": [
    {
     "name": "stdout",
     "output_type": "stream",
     "text": [
      "Compare First 5 Values\n",
      "Predictions:\t [0 0 0 1 0] \n",
      "True Data:\t [0 0 0 1 0] \n",
      "\n",
      "\n",
      "\n",
      "Confusion Matrix\n",
      "[[966   0]\n",
      " [ 61  88]]\n",
      "\n",
      "\n",
      "Accuracy Score\n",
      "0.9452914798206278\n"
     ]
    }
   ],
   "source": [
    "k = grid_search_vals.best_estimator_.get_params()['n_neighbors']\n",
    "\n",
    "# Calculate Prediction\n",
    "knn_sqrt = KNeighborsClassifier(n_neighbors = k).fit(X_train_np, y_train)\n",
    "\n",
    "prediction_grid = knn_sqrt.predict(X_test_np)    # determine prediction values\n",
    "\n",
    "from sklearn.metrics import confusion_matrix, accuracy_score\n",
    "\n",
    "# Compare Prediction vs True Value\n",
    "print(\"Compare First 5 Values\")\n",
    "print(\"Predictions:\\t\", prediction_grid[0:5], '\\n'\n",
    "      \"True Data:\\t\", y_test.to_numpy()[0:5], '\\n')\n",
    "\n",
    "# View Confusion Matrix\n",
    "print(\"\\n\\nConfusion Matrix\")\n",
    "print(confusion_matrix(y_test, prediction_grid)) #cm(true data, predictions)\n",
    "\n",
    "\n",
    "# View Accuracy Score\n",
    "print(\"\\n\\nAccuracy Score\")\n",
    "print(knn_sqrt.score(X_test_np, y_test))   #am(true data, predictions)\n",
    "\n",
    "# prediction_two = knn_grid.predict([X_test_np[3]])     # returns prediction value\n",
    "\n",
    "# # Test Prediction on Index 3\n",
    "# ## label prediction\n",
    "# true_label = label_values[y_test.iloc[3]]            # save true label  \n",
    "# prediction_label_two = label_values[prediction_two.item()]   # save prediction label 1  \n",
    "\n",
    "# ## compare prediction and print\n",
    "# if prediction_label_two == true_label:\n",
    "#     print('\\nPrediction One [{},{}] is Correct!'\n",
    "#           .format(prediction_two.item(), prediction_label_two))\n",
    "# else:\n",
    "#     print('\\nPrediction One [{},{}] is Incorrect, it does not match the True Value [{}, {}]'\n",
    "#         .format(prediction_two.item(), prediction_label_two, y_test.iloc[3], true_label))"
   ]
  },
  {
   "cell_type": "markdown",
   "id": "6dcaed37",
   "metadata": {
    "papermill": {
     "duration": 0.02133,
     "end_time": "2023-03-23T06:11:34.710073",
     "exception": false,
     "start_time": "2023-03-23T06:11:34.688743",
     "status": "completed"
    },
    "tags": []
   },
   "source": [
    "### Metrics Analysis\n",
    "\n",
    "#### Confusion Matrix\n",
    "\n",
    "|                 | Predicted Value<br>[0] | Predicted Value<br>[1] |\n",
    "| --------------- | ---------------------- | ---------------------- |\n",
    "| True Value [0]  | Prediction Correct     | Prediction Incorrect   |\n",
    "| True Value [1]  | Prediction Incorrect   | Prediction Correct     |\n",
    "\n",
    "| P, T | 0           | 1           |\n",
    "| ---- | ----------- | ----------- |\n",
    "| 0    | <b>0, 0</b> | 1, 0        |\n",
    "| 1    | 0, 1        | <b>1, 1</b> |\n",
    "\n",
    "Therefore, the stats above state the following\n",
    "\n",
    "| | |\n",
    "| ---------------------------------------------------- | -------------------------------------------------- |\n",
    "| 966 Predicted HAM Correctly                         | 0 Predicted SPAM incorrectly,<br> was actually HAM |\n",
    "| 61 Predicted HAM incorrectly,<br> was actually SPAM  | 88 Predicted SPAM Correctly                       |\n",
    "\n",
    "\n",
    "#### Classifier Analysis\n",
    "As we can see, this method correctly identified the 88 instances of spam (versus 0 in the square-root method). This grid search optimization was able to increase the accuracy score by 7.75% to 94.32%. While bias has been successfully lowered, the KNN algorithm remains limited in its classification abilities.\n",
    "\n",
    "To see more prediction examples, there is an optional interactive cell below to compare each the predictions of each method at various indexes."
   ]
  },
  {
   "cell_type": "markdown",
   "id": "bf006ce3",
   "metadata": {
    "papermill": {
     "duration": 0.021658,
     "end_time": "2023-03-23T06:11:34.754061",
     "exception": false,
     "start_time": "2023-03-23T06:11:34.732403",
     "status": "completed"
    },
    "tags": []
   },
   "source": [
    "---"
   ]
  },
  {
   "cell_type": "markdown",
   "id": "60ca198d",
   "metadata": {
    "papermill": {
     "duration": 0.021385,
     "end_time": "2023-03-23T06:11:34.797660",
     "exception": false,
     "start_time": "2023-03-23T06:11:34.776275",
     "status": "completed"
    },
    "tags": []
   },
   "source": [
    "# [Interactive] Compare KNN Methods\n"
   ]
  },
  {
   "cell_type": "code",
   "execution_count": 38,
   "id": "c73b5972",
   "metadata": {
    "execution": {
     "iopub.execute_input": "2023-03-23T06:11:34.843743Z",
     "iopub.status.busy": "2023-03-23T06:11:34.843254Z",
     "iopub.status.idle": "2023-03-23T06:11:34.995226Z",
     "shell.execute_reply": "2023-03-23T06:11:34.993517Z"
    },
    "papermill": {
     "duration": 0.178228,
     "end_time": "2023-03-23T06:11:34.997728",
     "exception": true,
     "start_time": "2023-03-23T06:11:34.819500",
     "status": "failed"
    },
    "tags": []
   },
   "outputs": [
    {
     "ename": "StdinNotImplementedError",
     "evalue": "raw_input was called, but this frontend does not support input requests.",
     "output_type": "error",
     "traceback": [
      "\u001b[0;31m---------------------------------------------------------------------------\u001b[0m",
      "\u001b[0;31mStdinNotImplementedError\u001b[0m                  Traceback (most recent call last)",
      "\u001b[0;32m/tmp/ipykernel_19/2401363415.py\u001b[0m in \u001b[0;36m<module>\u001b[0;34m\u001b[0m\n\u001b[1;32m      1\u001b[0m \u001b[0;31m## Compare Index Predictions to True Value\u001b[0m\u001b[0;34m\u001b[0m\u001b[0;34m\u001b[0m\u001b[0;34m\u001b[0m\u001b[0m\n\u001b[1;32m      2\u001b[0m \u001b[0;32mwhile\u001b[0m \u001b[0;32mTrue\u001b[0m\u001b[0;34m:\u001b[0m\u001b[0;34m\u001b[0m\u001b[0;34m\u001b[0m\u001b[0m\n\u001b[0;32m----> 3\u001b[0;31m     \u001b[0musr_in\u001b[0m \u001b[0;34m=\u001b[0m \u001b[0minput\u001b[0m\u001b[0;34m(\u001b[0m\u001b[0;34m'Enter Index to compare KNN k-methods [Q to Quit]:\\n >'\u001b[0m\u001b[0;34m)\u001b[0m\u001b[0;34m\u001b[0m\u001b[0;34m\u001b[0m\u001b[0m\n\u001b[0m\u001b[1;32m      4\u001b[0m \u001b[0;34m\u001b[0m\u001b[0m\n\u001b[1;32m      5\u001b[0m     \u001b[0;32mif\u001b[0m \u001b[0musr_in\u001b[0m \u001b[0;34m==\u001b[0m \u001b[0;34m'q'\u001b[0m \u001b[0;32mor\u001b[0m \u001b[0mi\u001b[0m \u001b[0;34m==\u001b[0m \u001b[0;34m'Q'\u001b[0m\u001b[0;34m:\u001b[0m\u001b[0;34m\u001b[0m\u001b[0;34m\u001b[0m\u001b[0m\n",
      "\u001b[0;32m/opt/conda/lib/python3.7/site-packages/ipykernel/kernelbase.py\u001b[0m in \u001b[0;36mraw_input\u001b[0;34m(self, prompt)\u001b[0m\n\u001b[1;32m   1173\u001b[0m         \u001b[0;32mif\u001b[0m \u001b[0;32mnot\u001b[0m \u001b[0mself\u001b[0m\u001b[0;34m.\u001b[0m\u001b[0m_allow_stdin\u001b[0m\u001b[0;34m:\u001b[0m\u001b[0;34m\u001b[0m\u001b[0;34m\u001b[0m\u001b[0m\n\u001b[1;32m   1174\u001b[0m             raise StdinNotImplementedError(\n\u001b[0;32m-> 1175\u001b[0;31m                 \u001b[0;34m\"raw_input was called, but this frontend does not support input requests.\"\u001b[0m\u001b[0;34m\u001b[0m\u001b[0;34m\u001b[0m\u001b[0m\n\u001b[0m\u001b[1;32m   1176\u001b[0m             )\n\u001b[1;32m   1177\u001b[0m         return self._input_request(\n",
      "\u001b[0;31mStdinNotImplementedError\u001b[0m: raw_input was called, but this frontend does not support input requests."
     ]
    }
   ],
   "source": [
    "## Compare Index Predictions to True Value\n",
    "while True: \n",
    "    usr_in = input('Enter Index to compare KNN k-methods [Q to Quit]:\\n >')\n",
    "    \n",
    "    if usr_in == 'q' or i == 'Q':\n",
    "        break \n",
    "\n",
    "    try:\n",
    "        i = int(usr_in)       \n",
    "        if i in range(0, 1115):\n",
    "            #Calculate KNN for Square Root Method\n",
    "            pred_one = knn_sqrt.predict([X_test_np[i]])    # determine prediction value\n",
    "\n",
    "            #Calculate KNN for Grid Search Method \n",
    "            pred_two = knn_grid.predict([X_test_np[i]])    # determine prediction value\n",
    "            \n",
    "            #Label Predictions\n",
    "            true_label = label_values[y_test.iloc[i]]        # save true label            \n",
    "            pred_label_one = label_values[pred_one.item()]   # save prediction label 1             \n",
    "            pred_label_two = label_values[pred_two.item()]   # save prediction label 2 \n",
    "\n",
    "            #Compare Predictions and Print\n",
    "            if pred_label_one == true_label:\n",
    "                print('\\nPrediction One [{},{}] is Correct!'\n",
    "                      .format(pred_one.item(), pred_label_one))\n",
    "            else:\n",
    "                print('\\nPrediction One [{},{}] is Incorrect, it does not match the True Value [{}, {}]'\n",
    "                    .format(pred_one.item(), pred_label_one, y_test.iloc[i], true_label))\n",
    "\n",
    "            if pred_label_two == true_label:\n",
    "                print('Prediction Two [{},{}] is Correct!\\n'\n",
    "                    .format(pred_two.item(), pred_label_two))\n",
    "            else:\n",
    "                print('Prediction Two [{},{}] is Incorrect, it does not match the True Value [{}, {}]\\n'\n",
    "                    .format(pred_two.item(), pred_label_two, y_test.iloc[i], true_label))   \n",
    "\n",
    "        else:\n",
    "            print(\"Error: Invalid Index - Please enter index from 0 to 1114\\n\")\n",
    "            \n",
    "    except ValueError:\n",
    "        # Handle the exception\n",
    "        print(\"Error: Invalid Input - Please enter integer or Q to quit\\n\")"
   ]
  },
  {
   "cell_type": "markdown",
   "id": "8ebcdac0",
   "metadata": {
    "papermill": {
     "duration": null,
     "end_time": null,
     "exception": null,
     "start_time": null,
     "status": "pending"
    },
    "tags": []
   },
   "source": [
    "---"
   ]
  }
 ],
 "metadata": {
  "kernelspec": {
   "display_name": "Python 3",
   "language": "python",
   "name": "python3"
  },
  "language_info": {
   "codemirror_mode": {
    "name": "ipython",
    "version": 3
   },
   "file_extension": ".py",
   "mimetype": "text/x-python",
   "name": "python",
   "nbconvert_exporter": "python",
   "pygments_lexer": "ipython3",
   "version": "3.7.12"
  },
  "papermill": {
   "default_parameters": {},
   "duration": 121.647236,
   "end_time": "2023-03-23T06:11:36.049606",
   "environment_variables": {},
   "exception": true,
   "input_path": "__notebook__.ipynb",
   "output_path": "__notebook__.ipynb",
   "parameters": {},
   "start_time": "2023-03-23T06:09:34.402370",
   "version": "2.4.0"
  }
 },
 "nbformat": 4,
 "nbformat_minor": 5
}
