{
 "cells": [
  {
   "cell_type": "markdown",
   "id": "47479ffb",
   "metadata": {
    "_cell_guid": "b1076dfc-b9ad-4769-8c92-a6c4dae69d19",
    "_uuid": "8f2839f25d086af736a60e9eeb907d3b93b6e0e5",
    "papermill": {
     "duration": 0.016165,
     "end_time": "2023-03-22T05:58:01.255438",
     "exception": false,
     "start_time": "2023-03-22T05:58:01.239273",
     "status": "completed"
    },
    "tags": []
   },
   "source": [
    "# <center>CSC 723 Final Project</center>\n",
    "Project Code 1: Naive Bayes\n",
    "\n",
    "&emsp; Version 3.0<br> \n",
    "&emsp; March 2023\n",
    "\n",
    "&emsp; CSC 723<br>\n",
    "&emsp; Machine Learning for Cyber Security<br>\n",
    "&emsp; Dakota State University\n",
    "\n",
    "Robert Chavez<br>\n",
    "Kiera Conway"
   ]
  },
  {
   "cell_type": "markdown",
   "id": "ccd17950",
   "metadata": {
    "papermill": {
     "duration": 0.014153,
     "end_time": "2023-03-22T05:58:01.284408",
     "exception": false,
     "start_time": "2023-03-22T05:58:01.270255",
     "status": "completed"
    },
    "tags": []
   },
   "source": [
    "--------"
   ]
  },
  {
   "cell_type": "markdown",
   "id": "9106c8d8",
   "metadata": {
    "papermill": {
     "duration": 0.014577,
     "end_time": "2023-03-22T05:58:01.313555",
     "exception": false,
     "start_time": "2023-03-22T05:58:01.298978",
     "status": "completed"
    },
    "tags": []
   },
   "source": [
    "## Import Data\n",
    "### Libraries"
   ]
  },
  {
   "cell_type": "code",
   "execution_count": 1,
   "id": "9588be37",
   "metadata": {
    "execution": {
     "iopub.execute_input": "2023-03-22T05:58:01.347025Z",
     "iopub.status.busy": "2023-03-22T05:58:01.346018Z",
     "iopub.status.idle": "2023-03-22T05:58:01.358909Z",
     "shell.execute_reply": "2023-03-22T05:58:01.357918Z"
    },
    "papermill": {
     "duration": 0.032099,
     "end_time": "2023-03-22T05:58:01.361496",
     "exception": false,
     "start_time": "2023-03-22T05:58:01.329397",
     "status": "completed"
    },
    "tags": []
   },
   "outputs": [],
   "source": [
    "import numpy as np   # array mathematical operations library\n",
    "import pandas as pd  # data analysis library3"
   ]
  },
  {
   "cell_type": "markdown",
   "id": "7be913b9",
   "metadata": {
    "papermill": {
     "duration": 0.014553,
     "end_time": "2023-03-22T05:58:01.390880",
     "exception": false,
     "start_time": "2023-03-22T05:58:01.376327",
     "status": "completed"
    },
    "tags": []
   },
   "source": [
    "### Data Set"
   ]
  },
  {
   "cell_type": "code",
   "execution_count": 2,
   "id": "6948bf72",
   "metadata": {
    "execution": {
     "iopub.execute_input": "2023-03-22T05:58:01.422402Z",
     "iopub.status.busy": "2023-03-22T05:58:01.421573Z",
     "iopub.status.idle": "2023-03-22T05:58:01.481733Z",
     "shell.execute_reply": "2023-03-22T05:58:01.480770Z"
    },
    "papermill": {
     "duration": 0.078996,
     "end_time": "2023-03-22T05:58:01.484435",
     "exception": false,
     "start_time": "2023-03-22T05:58:01.405439",
     "status": "completed"
    },
    "tags": []
   },
   "outputs": [],
   "source": [
    "# Set File Path\n",
    "file_path = '/kaggle/input/spam-or-ham/SMSCollection.csv'\n",
    "\n",
    "# Obtain Data from File Path\n",
    "sms_data = pd.read_csv(file_path)"
   ]
  },
  {
   "cell_type": "markdown",
   "id": "8681a55a",
   "metadata": {
    "papermill": {
     "duration": 0.015041,
     "end_time": "2023-03-22T05:58:01.514861",
     "exception": false,
     "start_time": "2023-03-22T05:58:01.499820",
     "status": "completed"
    },
    "tags": []
   },
   "source": [
    "## Review Dataset\n",
    "### Dataset Information"
   ]
  },
  {
   "cell_type": "code",
   "execution_count": 3,
   "id": "c3c04f93",
   "metadata": {
    "execution": {
     "iopub.execute_input": "2023-03-22T05:58:01.547825Z",
     "iopub.status.busy": "2023-03-22T05:58:01.547018Z",
     "iopub.status.idle": "2023-03-22T05:58:01.573464Z",
     "shell.execute_reply": "2023-03-22T05:58:01.571946Z"
    },
    "papermill": {
     "duration": 0.046726,
     "end_time": "2023-03-22T05:58:01.576847",
     "exception": false,
     "start_time": "2023-03-22T05:58:01.530121",
     "status": "completed"
    },
    "tags": []
   },
   "outputs": [
    {
     "name": "stdout",
     "output_type": "stream",
     "text": [
      "<class 'pandas.core.frame.DataFrame'>\n",
      "RangeIndex: 5572 entries, 0 to 5571\n",
      "Data columns (total 2 columns):\n",
      " #   Column  Non-Null Count  Dtype \n",
      "---  ------  --------------  ----- \n",
      " 0   Class   5572 non-null   object\n",
      " 1   sms     5572 non-null   object\n",
      "dtypes: object(2)\n",
      "memory usage: 87.2+ KB\n"
     ]
    }
   ],
   "source": [
    "# General Information\n",
    "sms_data.info()"
   ]
  },
  {
   "cell_type": "code",
   "execution_count": 4,
   "id": "dbe03343",
   "metadata": {
    "execution": {
     "iopub.execute_input": "2023-03-22T05:58:01.609648Z",
     "iopub.status.busy": "2023-03-22T05:58:01.608838Z",
     "iopub.status.idle": "2023-03-22T05:58:01.619479Z",
     "shell.execute_reply": "2023-03-22T05:58:01.618532Z"
    },
    "papermill": {
     "duration": 0.029149,
     "end_time": "2023-03-22T05:58:01.621575",
     "exception": false,
     "start_time": "2023-03-22T05:58:01.592426",
     "status": "completed"
    },
    "tags": []
   },
   "outputs": [
    {
     "data": {
      "text/plain": [
       "Class    0\n",
       "sms      0\n",
       "dtype: int64"
      ]
     },
     "execution_count": 4,
     "metadata": {},
     "output_type": "execute_result"
    }
   ],
   "source": [
    "# Check for null values\n",
    "sms_data.isnull().sum()"
   ]
  },
  {
   "cell_type": "code",
   "execution_count": 5,
   "id": "6a0bd382",
   "metadata": {
    "execution": {
     "iopub.execute_input": "2023-03-22T05:58:01.654069Z",
     "iopub.status.busy": "2023-03-22T05:58:01.653595Z",
     "iopub.status.idle": "2023-03-22T05:58:01.676197Z",
     "shell.execute_reply": "2023-03-22T05:58:01.675062Z"
    },
    "papermill": {
     "duration": 0.042127,
     "end_time": "2023-03-22T05:58:01.678705",
     "exception": false,
     "start_time": "2023-03-22T05:58:01.636578",
     "status": "completed"
    },
    "tags": []
   },
   "outputs": [
    {
     "data": {
      "text/html": [
       "<div>\n",
       "<style scoped>\n",
       "    .dataframe tbody tr th:only-of-type {\n",
       "        vertical-align: middle;\n",
       "    }\n",
       "\n",
       "    .dataframe tbody tr th {\n",
       "        vertical-align: top;\n",
       "    }\n",
       "\n",
       "    .dataframe thead th {\n",
       "        text-align: right;\n",
       "    }\n",
       "</style>\n",
       "<table border=\"1\" class=\"dataframe\">\n",
       "  <thead>\n",
       "    <tr style=\"text-align: right;\">\n",
       "      <th></th>\n",
       "      <th>Class</th>\n",
       "      <th>sms</th>\n",
       "    </tr>\n",
       "  </thead>\n",
       "  <tbody>\n",
       "    <tr>\n",
       "      <th>0</th>\n",
       "      <td>ham</td>\n",
       "      <td>Go until jurong point, crazy.. Available only ...</td>\n",
       "    </tr>\n",
       "    <tr>\n",
       "      <th>1</th>\n",
       "      <td>ham</td>\n",
       "      <td>Ok lar... Joking wif u oni...</td>\n",
       "    </tr>\n",
       "    <tr>\n",
       "      <th>2</th>\n",
       "      <td>spam</td>\n",
       "      <td>Free entry in 2 a wkly comp to win FA Cup fina...</td>\n",
       "    </tr>\n",
       "    <tr>\n",
       "      <th>3</th>\n",
       "      <td>ham</td>\n",
       "      <td>U dun say so early hor... U c already then say...</td>\n",
       "    </tr>\n",
       "    <tr>\n",
       "      <th>4</th>\n",
       "      <td>ham</td>\n",
       "      <td>Nah I don't think he goes to usf, he lives aro...</td>\n",
       "    </tr>\n",
       "    <tr>\n",
       "      <th>...</th>\n",
       "      <td>...</td>\n",
       "      <td>...</td>\n",
       "    </tr>\n",
       "    <tr>\n",
       "      <th>5567</th>\n",
       "      <td>spam</td>\n",
       "      <td>This is the 2nd time we have tried 2 contact u...</td>\n",
       "    </tr>\n",
       "    <tr>\n",
       "      <th>5568</th>\n",
       "      <td>ham</td>\n",
       "      <td>Will ü b going to esplanade fr home?</td>\n",
       "    </tr>\n",
       "    <tr>\n",
       "      <th>5569</th>\n",
       "      <td>ham</td>\n",
       "      <td>Pity, * was in mood for that. So...any other s...</td>\n",
       "    </tr>\n",
       "    <tr>\n",
       "      <th>5570</th>\n",
       "      <td>ham</td>\n",
       "      <td>The guy did some bitching but I acted like i'd...</td>\n",
       "    </tr>\n",
       "    <tr>\n",
       "      <th>5571</th>\n",
       "      <td>ham</td>\n",
       "      <td>Rofl. Its true to its name</td>\n",
       "    </tr>\n",
       "  </tbody>\n",
       "</table>\n",
       "<p>5572 rows × 2 columns</p>\n",
       "</div>"
      ],
      "text/plain": [
       "     Class                                                sms\n",
       "0      ham  Go until jurong point, crazy.. Available only ...\n",
       "1      ham                      Ok lar... Joking wif u oni...\n",
       "2     spam  Free entry in 2 a wkly comp to win FA Cup fina...\n",
       "3      ham  U dun say so early hor... U c already then say...\n",
       "4      ham  Nah I don't think he goes to usf, he lives aro...\n",
       "...    ...                                                ...\n",
       "5567  spam  This is the 2nd time we have tried 2 contact u...\n",
       "5568   ham               Will ü b going to esplanade fr home?\n",
       "5569   ham  Pity, * was in mood for that. So...any other s...\n",
       "5570   ham  The guy did some bitching but I acted like i'd...\n",
       "5571   ham                         Rofl. Its true to its name\n",
       "\n",
       "[5572 rows x 2 columns]"
      ]
     },
     "execution_count": 5,
     "metadata": {},
     "output_type": "execute_result"
    }
   ],
   "source": [
    "# View first and last 5 Observations\n",
    "sms_data"
   ]
  },
  {
   "cell_type": "code",
   "execution_count": 6,
   "id": "0d1da736",
   "metadata": {
    "execution": {
     "iopub.execute_input": "2023-03-22T05:58:01.711951Z",
     "iopub.status.busy": "2023-03-22T05:58:01.711170Z",
     "iopub.status.idle": "2023-03-22T05:58:01.717526Z",
     "shell.execute_reply": "2023-03-22T05:58:01.716098Z"
    },
    "papermill": {
     "duration": 0.02642,
     "end_time": "2023-03-22T05:58:01.720622",
     "exception": false,
     "start_time": "2023-03-22T05:58:01.694202",
     "status": "completed"
    },
    "tags": []
   },
   "outputs": [
    {
     "name": "stdout",
     "output_type": "stream",
     "text": [
      "spam\n",
      "07732584351 - Rodger Burns - MSG = We tried to call you re your reply to our sms for a free nokia mobile + free camcorder. Please call now 08000930705 for delivery tomorrow\n"
     ]
    }
   ],
   "source": [
    "# View Example Message\n",
    "print(sms_data.Class[42])      # view variable 2 (message) of 72nd message\n",
    "print(sms_data.sms[42])      # view variable 1 (spam/ham) of 72nd message"
   ]
  },
  {
   "cell_type": "code",
   "execution_count": 7,
   "id": "91b01184",
   "metadata": {
    "execution": {
     "iopub.execute_input": "2023-03-22T05:58:01.753770Z",
     "iopub.status.busy": "2023-03-22T05:58:01.753292Z",
     "iopub.status.idle": "2023-03-22T05:58:01.773657Z",
     "shell.execute_reply": "2023-03-22T05:58:01.772442Z"
    },
    "papermill": {
     "duration": 0.039614,
     "end_time": "2023-03-22T05:58:01.776147",
     "exception": false,
     "start_time": "2023-03-22T05:58:01.736533",
     "status": "completed"
    },
    "tags": []
   },
   "outputs": [
    {
     "data": {
      "text/html": [
       "<div>\n",
       "<style scoped>\n",
       "    .dataframe tbody tr th:only-of-type {\n",
       "        vertical-align: middle;\n",
       "    }\n",
       "\n",
       "    .dataframe tbody tr th {\n",
       "        vertical-align: top;\n",
       "    }\n",
       "\n",
       "    .dataframe thead th {\n",
       "        text-align: right;\n",
       "    }\n",
       "</style>\n",
       "<table border=\"1\" class=\"dataframe\">\n",
       "  <thead>\n",
       "    <tr style=\"text-align: right;\">\n",
       "      <th></th>\n",
       "      <th>Class</th>\n",
       "      <th>sms</th>\n",
       "    </tr>\n",
       "  </thead>\n",
       "  <tbody>\n",
       "    <tr>\n",
       "      <th>count</th>\n",
       "      <td>5572</td>\n",
       "      <td>5572</td>\n",
       "    </tr>\n",
       "    <tr>\n",
       "      <th>unique</th>\n",
       "      <td>2</td>\n",
       "      <td>5169</td>\n",
       "    </tr>\n",
       "    <tr>\n",
       "      <th>top</th>\n",
       "      <td>ham</td>\n",
       "      <td>Sorry, I'll call later</td>\n",
       "    </tr>\n",
       "    <tr>\n",
       "      <th>freq</th>\n",
       "      <td>4825</td>\n",
       "      <td>30</td>\n",
       "    </tr>\n",
       "  </tbody>\n",
       "</table>\n",
       "</div>"
      ],
      "text/plain": [
       "       Class                     sms\n",
       "count   5572                    5572\n",
       "unique     2                    5169\n",
       "top      ham  Sorry, I'll call later\n",
       "freq    4825                      30"
      ]
     },
     "execution_count": 7,
     "metadata": {},
     "output_type": "execute_result"
    }
   ],
   "source": [
    "# Statistical Information\n",
    "sms_data.describe()"
   ]
  },
  {
   "cell_type": "markdown",
   "id": "8b11cd54",
   "metadata": {
    "papermill": {
     "duration": 0.015079,
     "end_time": "2023-03-22T05:58:01.806528",
     "exception": false,
     "start_time": "2023-03-22T05:58:01.791449",
     "status": "completed"
    },
    "tags": []
   },
   "source": [
    "### Analyze Information\n",
    "\n",
    "#### .describe() Key\n",
    "\n",
    "| Title  | Definition                                 | \n",
    "| ------ | --------                                   |\n",
    "| Count  | Count/Occurences of each feature           | \n",
    "| Unique | The number of possible unique observations |\n",
    "| Top    | The most frequent value                    | \n",
    "| Freq   | The frequency of the top value             | \n",
    "\n",
    "#### Data Analysis\n",
    "\n",
    "The features of this dataset are 'Class' and 'sms', where 'Class' indicates whether the message is `spam` or a valid sms message, `ham` and 'sms' contains the corresponding message.\n",
    "\n",
    "The count values above shows us there are 5572 non-null data enteries in each feature. As each feature contains the same count value, we can conclude there are no missing data points that we need to trim. \n",
    "\n",
    "The unique value of 2 under the Class feature verifies all messages are either `spam` or `ham`, and contain no erroneous values. Since the sms feature contains a unique value of 5169, which is less than 5572, we can assume that some messages are identical.\n",
    "\n",
    "The top and freq values under Class show us that most messages are categorized as `ham`, with 4825 occurences. We can therefore determine there are 747 remaining messages categorized as `spam`. The top and freq values under sms confirm the previous hypothesis that some messages are identical; we can see that the most frequent message, occuring 30 times, contains the text \"Sorry, I'll call later\"\n",
    "\n",
    "Using this information, we can identify the format of our data, determine its completeness, and verify the values contained are expected."
   ]
  },
  {
   "cell_type": "markdown",
   "id": "c7e8a843",
   "metadata": {
    "papermill": {
     "duration": 0.015415,
     "end_time": "2023-03-22T05:58:01.837373",
     "exception": false,
     "start_time": "2023-03-22T05:58:01.821958",
     "status": "completed"
    },
    "tags": []
   },
   "source": [
    "## Modify Data\n",
    "### Create Column: Numerical Representation for Spam/Ham"
   ]
  },
  {
   "cell_type": "code",
   "execution_count": 8,
   "id": "6ddf8791",
   "metadata": {
    "execution": {
     "iopub.execute_input": "2023-03-22T05:58:01.870434Z",
     "iopub.status.busy": "2023-03-22T05:58:01.869736Z",
     "iopub.status.idle": "2023-03-22T05:58:01.881721Z",
     "shell.execute_reply": "2023-03-22T05:58:01.880386Z"
    },
    "papermill": {
     "duration": 0.031939,
     "end_time": "2023-03-22T05:58:01.884639",
     "exception": false,
     "start_time": "2023-03-22T05:58:01.852700",
     "status": "completed"
    },
    "tags": []
   },
   "outputs": [
    {
     "name": "stdout",
     "output_type": "stream",
     "text": [
      "Before Modification:\n",
      "\n"
     ]
    },
    {
     "data": {
      "text/html": [
       "<div>\n",
       "<style scoped>\n",
       "    .dataframe tbody tr th:only-of-type {\n",
       "        vertical-align: middle;\n",
       "    }\n",
       "\n",
       "    .dataframe tbody tr th {\n",
       "        vertical-align: top;\n",
       "    }\n",
       "\n",
       "    .dataframe thead th {\n",
       "        text-align: right;\n",
       "    }\n",
       "</style>\n",
       "<table border=\"1\" class=\"dataframe\">\n",
       "  <thead>\n",
       "    <tr style=\"text-align: right;\">\n",
       "      <th></th>\n",
       "      <th>Class</th>\n",
       "      <th>sms</th>\n",
       "    </tr>\n",
       "  </thead>\n",
       "  <tbody>\n",
       "    <tr>\n",
       "      <th>0</th>\n",
       "      <td>ham</td>\n",
       "      <td>Go until jurong point, crazy.. Available only ...</td>\n",
       "    </tr>\n",
       "    <tr>\n",
       "      <th>1</th>\n",
       "      <td>ham</td>\n",
       "      <td>Ok lar... Joking wif u oni...</td>\n",
       "    </tr>\n",
       "    <tr>\n",
       "      <th>2</th>\n",
       "      <td>spam</td>\n",
       "      <td>Free entry in 2 a wkly comp to win FA Cup fina...</td>\n",
       "    </tr>\n",
       "    <tr>\n",
       "      <th>3</th>\n",
       "      <td>ham</td>\n",
       "      <td>U dun say so early hor... U c already then say...</td>\n",
       "    </tr>\n",
       "    <tr>\n",
       "      <th>4</th>\n",
       "      <td>ham</td>\n",
       "      <td>Nah I don't think he goes to usf, he lives aro...</td>\n",
       "    </tr>\n",
       "  </tbody>\n",
       "</table>\n",
       "</div>"
      ],
      "text/plain": [
       "  Class                                                sms\n",
       "0   ham  Go until jurong point, crazy.. Available only ...\n",
       "1   ham                      Ok lar... Joking wif u oni...\n",
       "2  spam  Free entry in 2 a wkly comp to win FA Cup fina...\n",
       "3   ham  U dun say so early hor... U c already then say...\n",
       "4   ham  Nah I don't think he goes to usf, he lives aro..."
      ]
     },
     "execution_count": 8,
     "metadata": {},
     "output_type": "execute_result"
    }
   ],
   "source": [
    "# View first 5 Observations\n",
    "print(\"Before Modification:\\n\") \n",
    "sms_data.head()"
   ]
  },
  {
   "cell_type": "code",
   "execution_count": 9,
   "id": "d05a8427",
   "metadata": {
    "execution": {
     "iopub.execute_input": "2023-03-22T05:58:01.918889Z",
     "iopub.status.busy": "2023-03-22T05:58:01.918125Z",
     "iopub.status.idle": "2023-03-22T05:58:01.933072Z",
     "shell.execute_reply": "2023-03-22T05:58:01.931585Z"
    },
    "papermill": {
     "duration": 0.035118,
     "end_time": "2023-03-22T05:58:01.935841",
     "exception": false,
     "start_time": "2023-03-22T05:58:01.900723",
     "status": "completed"
    },
    "tags": []
   },
   "outputs": [
    {
     "name": "stdout",
     "output_type": "stream",
     "text": [
      "After Modification:\n",
      "\n"
     ]
    },
    {
     "data": {
      "text/html": [
       "<div>\n",
       "<style scoped>\n",
       "    .dataframe tbody tr th:only-of-type {\n",
       "        vertical-align: middle;\n",
       "    }\n",
       "\n",
       "    .dataframe tbody tr th {\n",
       "        vertical-align: top;\n",
       "    }\n",
       "\n",
       "    .dataframe thead th {\n",
       "        text-align: right;\n",
       "    }\n",
       "</style>\n",
       "<table border=\"1\" class=\"dataframe\">\n",
       "  <thead>\n",
       "    <tr style=\"text-align: right;\">\n",
       "      <th></th>\n",
       "      <th>Class</th>\n",
       "      <th>sms</th>\n",
       "      <th>Class_num</th>\n",
       "    </tr>\n",
       "  </thead>\n",
       "  <tbody>\n",
       "    <tr>\n",
       "      <th>0</th>\n",
       "      <td>ham</td>\n",
       "      <td>Go until jurong point, crazy.. Available only ...</td>\n",
       "      <td>0</td>\n",
       "    </tr>\n",
       "    <tr>\n",
       "      <th>1</th>\n",
       "      <td>ham</td>\n",
       "      <td>Ok lar... Joking wif u oni...</td>\n",
       "      <td>0</td>\n",
       "    </tr>\n",
       "    <tr>\n",
       "      <th>2</th>\n",
       "      <td>spam</td>\n",
       "      <td>Free entry in 2 a wkly comp to win FA Cup fina...</td>\n",
       "      <td>1</td>\n",
       "    </tr>\n",
       "    <tr>\n",
       "      <th>3</th>\n",
       "      <td>ham</td>\n",
       "      <td>U dun say so early hor... U c already then say...</td>\n",
       "      <td>0</td>\n",
       "    </tr>\n",
       "    <tr>\n",
       "      <th>4</th>\n",
       "      <td>ham</td>\n",
       "      <td>Nah I don't think he goes to usf, he lives aro...</td>\n",
       "      <td>0</td>\n",
       "    </tr>\n",
       "  </tbody>\n",
       "</table>\n",
       "</div>"
      ],
      "text/plain": [
       "  Class                                                sms  Class_num\n",
       "0   ham  Go until jurong point, crazy.. Available only ...          0\n",
       "1   ham                      Ok lar... Joking wif u oni...          0\n",
       "2  spam  Free entry in 2 a wkly comp to win FA Cup fina...          1\n",
       "3   ham  U dun say so early hor... U c already then say...          0\n",
       "4   ham  Nah I don't think he goes to usf, he lives aro...          0"
      ]
     },
     "execution_count": 9,
     "metadata": {},
     "output_type": "execute_result"
    }
   ],
   "source": [
    "# Create New Column\n",
    "sms_data['Class_num'] = sms_data.Class.map({'ham':0, 'spam':1})   # Ham becomes 0, Spam becomes 1\n",
    "\n",
    "# View first 5 Observations\n",
    "print(\"After Modification:\\n\") \n",
    "sms_data.head()"
   ]
  },
  {
   "cell_type": "markdown",
   "id": "35ba2ba3",
   "metadata": {
    "papermill": {
     "duration": 0.015794,
     "end_time": "2023-03-22T05:58:01.967827",
     "exception": false,
     "start_time": "2023-03-22T05:58:01.952033",
     "status": "completed"
    },
    "tags": []
   },
   "source": [
    "### Create Column: Message Lengths"
   ]
  },
  {
   "cell_type": "code",
   "execution_count": 10,
   "id": "28d8221f",
   "metadata": {
    "execution": {
     "iopub.execute_input": "2023-03-22T05:58:02.001509Z",
     "iopub.status.busy": "2023-03-22T05:58:02.001096Z",
     "iopub.status.idle": "2023-03-22T05:58:02.012901Z",
     "shell.execute_reply": "2023-03-22T05:58:02.011504Z"
    },
    "papermill": {
     "duration": 0.032501,
     "end_time": "2023-03-22T05:58:02.016214",
     "exception": false,
     "start_time": "2023-03-22T05:58:01.983713",
     "status": "completed"
    },
    "tags": []
   },
   "outputs": [
    {
     "name": "stdout",
     "output_type": "stream",
     "text": [
      "Before Modification:\n",
      "\n"
     ]
    },
    {
     "data": {
      "text/html": [
       "<div>\n",
       "<style scoped>\n",
       "    .dataframe tbody tr th:only-of-type {\n",
       "        vertical-align: middle;\n",
       "    }\n",
       "\n",
       "    .dataframe tbody tr th {\n",
       "        vertical-align: top;\n",
       "    }\n",
       "\n",
       "    .dataframe thead th {\n",
       "        text-align: right;\n",
       "    }\n",
       "</style>\n",
       "<table border=\"1\" class=\"dataframe\">\n",
       "  <thead>\n",
       "    <tr style=\"text-align: right;\">\n",
       "      <th></th>\n",
       "      <th>Class</th>\n",
       "      <th>sms</th>\n",
       "      <th>Class_num</th>\n",
       "    </tr>\n",
       "  </thead>\n",
       "  <tbody>\n",
       "    <tr>\n",
       "      <th>0</th>\n",
       "      <td>ham</td>\n",
       "      <td>Go until jurong point, crazy.. Available only ...</td>\n",
       "      <td>0</td>\n",
       "    </tr>\n",
       "    <tr>\n",
       "      <th>1</th>\n",
       "      <td>ham</td>\n",
       "      <td>Ok lar... Joking wif u oni...</td>\n",
       "      <td>0</td>\n",
       "    </tr>\n",
       "    <tr>\n",
       "      <th>2</th>\n",
       "      <td>spam</td>\n",
       "      <td>Free entry in 2 a wkly comp to win FA Cup fina...</td>\n",
       "      <td>1</td>\n",
       "    </tr>\n",
       "    <tr>\n",
       "      <th>3</th>\n",
       "      <td>ham</td>\n",
       "      <td>U dun say so early hor... U c already then say...</td>\n",
       "      <td>0</td>\n",
       "    </tr>\n",
       "    <tr>\n",
       "      <th>4</th>\n",
       "      <td>ham</td>\n",
       "      <td>Nah I don't think he goes to usf, he lives aro...</td>\n",
       "      <td>0</td>\n",
       "    </tr>\n",
       "  </tbody>\n",
       "</table>\n",
       "</div>"
      ],
      "text/plain": [
       "  Class                                                sms  Class_num\n",
       "0   ham  Go until jurong point, crazy.. Available only ...          0\n",
       "1   ham                      Ok lar... Joking wif u oni...          0\n",
       "2  spam  Free entry in 2 a wkly comp to win FA Cup fina...          1\n",
       "3   ham  U dun say so early hor... U c already then say...          0\n",
       "4   ham  Nah I don't think he goes to usf, he lives aro...          0"
      ]
     },
     "execution_count": 10,
     "metadata": {},
     "output_type": "execute_result"
    }
   ],
   "source": [
    "# View first 5 Observations\n",
    "print(\"Before Modification:\\n\") \n",
    "sms_data.head()"
   ]
  },
  {
   "cell_type": "code",
   "execution_count": 11,
   "id": "6b309252",
   "metadata": {
    "execution": {
     "iopub.execute_input": "2023-03-22T05:58:02.051254Z",
     "iopub.status.busy": "2023-03-22T05:58:02.050505Z",
     "iopub.status.idle": "2023-03-22T05:58:02.066241Z",
     "shell.execute_reply": "2023-03-22T05:58:02.064879Z"
    },
    "papermill": {
     "duration": 0.036073,
     "end_time": "2023-03-22T05:58:02.068935",
     "exception": false,
     "start_time": "2023-03-22T05:58:02.032862",
     "status": "completed"
    },
    "tags": []
   },
   "outputs": [
    {
     "name": "stdout",
     "output_type": "stream",
     "text": [
      "After Modification:\n",
      "\n"
     ]
    },
    {
     "data": {
      "text/html": [
       "<div>\n",
       "<style scoped>\n",
       "    .dataframe tbody tr th:only-of-type {\n",
       "        vertical-align: middle;\n",
       "    }\n",
       "\n",
       "    .dataframe tbody tr th {\n",
       "        vertical-align: top;\n",
       "    }\n",
       "\n",
       "    .dataframe thead th {\n",
       "        text-align: right;\n",
       "    }\n",
       "</style>\n",
       "<table border=\"1\" class=\"dataframe\">\n",
       "  <thead>\n",
       "    <tr style=\"text-align: right;\">\n",
       "      <th></th>\n",
       "      <th>Class</th>\n",
       "      <th>sms</th>\n",
       "      <th>Class_num</th>\n",
       "      <th>sms_len</th>\n",
       "    </tr>\n",
       "  </thead>\n",
       "  <tbody>\n",
       "    <tr>\n",
       "      <th>0</th>\n",
       "      <td>ham</td>\n",
       "      <td>Go until jurong point, crazy.. Available only ...</td>\n",
       "      <td>0</td>\n",
       "      <td>111</td>\n",
       "    </tr>\n",
       "    <tr>\n",
       "      <th>1</th>\n",
       "      <td>ham</td>\n",
       "      <td>Ok lar... Joking wif u oni...</td>\n",
       "      <td>0</td>\n",
       "      <td>29</td>\n",
       "    </tr>\n",
       "    <tr>\n",
       "      <th>2</th>\n",
       "      <td>spam</td>\n",
       "      <td>Free entry in 2 a wkly comp to win FA Cup fina...</td>\n",
       "      <td>1</td>\n",
       "      <td>155</td>\n",
       "    </tr>\n",
       "    <tr>\n",
       "      <th>3</th>\n",
       "      <td>ham</td>\n",
       "      <td>U dun say so early hor... U c already then say...</td>\n",
       "      <td>0</td>\n",
       "      <td>49</td>\n",
       "    </tr>\n",
       "    <tr>\n",
       "      <th>4</th>\n",
       "      <td>ham</td>\n",
       "      <td>Nah I don't think he goes to usf, he lives aro...</td>\n",
       "      <td>0</td>\n",
       "      <td>61</td>\n",
       "    </tr>\n",
       "  </tbody>\n",
       "</table>\n",
       "</div>"
      ],
      "text/plain": [
       "  Class                                                sms  Class_num  sms_len\n",
       "0   ham  Go until jurong point, crazy.. Available only ...          0      111\n",
       "1   ham                      Ok lar... Joking wif u oni...          0       29\n",
       "2  spam  Free entry in 2 a wkly comp to win FA Cup fina...          1      155\n",
       "3   ham  U dun say so early hor... U c already then say...          0       49\n",
       "4   ham  Nah I don't think he goes to usf, he lives aro...          0       61"
      ]
     },
     "execution_count": 11,
     "metadata": {},
     "output_type": "execute_result"
    }
   ],
   "source": [
    "# Create New Column\n",
    "sms_data['sms_len'] = sms_data.sms.apply(len)   #apply length counter to each tweet \n",
    "\n",
    "# View first 5 Observations\n",
    "print(\"After Modification:\\n\") \n",
    "sms_data.head()"
   ]
  },
  {
   "cell_type": "markdown",
   "id": "4cbb16c1",
   "metadata": {
    "papermill": {
     "duration": 0.016035,
     "end_time": "2023-03-22T05:58:02.101382",
     "exception": false,
     "start_time": "2023-03-22T05:58:02.085347",
     "status": "completed"
    },
    "tags": []
   },
   "source": [
    "## Graph Data"
   ]
  },
  {
   "cell_type": "code",
   "execution_count": 12,
   "id": "6e3ef0e2",
   "metadata": {
    "execution": {
     "iopub.execute_input": "2023-03-22T05:58:02.137323Z",
     "iopub.status.busy": "2023-03-22T05:58:02.136578Z",
     "iopub.status.idle": "2023-03-22T05:58:03.825789Z",
     "shell.execute_reply": "2023-03-22T05:58:03.824463Z"
    },
    "papermill": {
     "duration": 1.710894,
     "end_time": "2023-03-22T05:58:03.828660",
     "exception": false,
     "start_time": "2023-03-22T05:58:02.117766",
     "status": "completed"
    },
    "tags": []
   },
   "outputs": [
    {
     "data": {
      "text/plain": [
       "Text(0.5, 0, 'Message Length')"
      ]
     },
     "execution_count": 12,
     "metadata": {},
     "output_type": "execute_result"
    },
    {
     "data": {
      "image/png": "[encoded data removed]",
      "text/plain": [
       "<Figure size 1200x800 with 1 Axes>"
      ]
     },
     "metadata": {},
     "output_type": "display_data"
    }
   ],
   "source": [
    "import matplotlib.pyplot as plt\n",
    "import seaborn as sns              #statistical data visualization\n",
    "\n",
    "sns.set_style('whitegrid')          #set visual style\n",
    "plt.style.use('fivethirtyeight')   #set plot visual style\n",
    "plt.figure(figsize=(12,8))         #set plot size\n",
    "\n",
    "# Plot Ham/ Spam Message Length as Histogram\n",
    "sms_data[sms_data.Class=='ham'].sms_len.plot(bins=35, kind='hist', color='blue', label='Ham Messages', alpha=0.5)\n",
    "sms_data[sms_data.Class=='spam'].sms_len.plot(kind='hist', color='red', label='Spam Messages', alpha=0.5)\n",
    "\n",
    "plt.legend()\n",
    "plt.xlabel(\"Message Length\")"
   ]
  },
  {
   "cell_type": "markdown",
   "id": "8fafab99",
   "metadata": {
    "papermill": {
     "duration": 0.016904,
     "end_time": "2023-03-22T05:58:03.863069",
     "exception": false,
     "start_time": "2023-03-22T05:58:03.846165",
     "status": "completed"
    },
    "tags": []
   },
   "source": [
    "## Analyze Data\n",
    "### Complete Data Set"
   ]
  },
  {
   "cell_type": "code",
   "execution_count": 13,
   "id": "f4f413fa",
   "metadata": {
    "execution": {
     "iopub.execute_input": "2023-03-22T05:58:03.899945Z",
     "iopub.status.busy": "2023-03-22T05:58:03.899171Z",
     "iopub.status.idle": "2023-03-22T05:58:03.919815Z",
     "shell.execute_reply": "2023-03-22T05:58:03.918550Z"
    },
    "papermill": {
     "duration": 0.042133,
     "end_time": "2023-03-22T05:58:03.922232",
     "exception": false,
     "start_time": "2023-03-22T05:58:03.880099",
     "status": "completed"
    },
    "tags": []
   },
   "outputs": [
    {
     "data": {
      "text/html": [
       "<div>\n",
       "<style scoped>\n",
       "    .dataframe tbody tr th:only-of-type {\n",
       "        vertical-align: middle;\n",
       "    }\n",
       "\n",
       "    .dataframe tbody tr th {\n",
       "        vertical-align: top;\n",
       "    }\n",
       "\n",
       "    .dataframe thead th {\n",
       "        text-align: right;\n",
       "    }\n",
       "</style>\n",
       "<table border=\"1\" class=\"dataframe\">\n",
       "  <thead>\n",
       "    <tr style=\"text-align: right;\">\n",
       "      <th></th>\n",
       "      <th>Class_num</th>\n",
       "      <th>sms_len</th>\n",
       "    </tr>\n",
       "  </thead>\n",
       "  <tbody>\n",
       "    <tr>\n",
       "      <th>count</th>\n",
       "      <td>5572.000000</td>\n",
       "      <td>5572.000000</td>\n",
       "    </tr>\n",
       "    <tr>\n",
       "      <th>mean</th>\n",
       "      <td>0.134063</td>\n",
       "      <td>80.489950</td>\n",
       "    </tr>\n",
       "    <tr>\n",
       "      <th>std</th>\n",
       "      <td>0.340751</td>\n",
       "      <td>59.942907</td>\n",
       "    </tr>\n",
       "    <tr>\n",
       "      <th>min</th>\n",
       "      <td>0.000000</td>\n",
       "      <td>2.000000</td>\n",
       "    </tr>\n",
       "    <tr>\n",
       "      <th>25%</th>\n",
       "      <td>0.000000</td>\n",
       "      <td>36.000000</td>\n",
       "    </tr>\n",
       "    <tr>\n",
       "      <th>50%</th>\n",
       "      <td>0.000000</td>\n",
       "      <td>62.000000</td>\n",
       "    </tr>\n",
       "    <tr>\n",
       "      <th>75%</th>\n",
       "      <td>0.000000</td>\n",
       "      <td>122.000000</td>\n",
       "    </tr>\n",
       "    <tr>\n",
       "      <th>max</th>\n",
       "      <td>1.000000</td>\n",
       "      <td>910.000000</td>\n",
       "    </tr>\n",
       "  </tbody>\n",
       "</table>\n",
       "</div>"
      ],
      "text/plain": [
       "         Class_num      sms_len\n",
       "count  5572.000000  5572.000000\n",
       "mean      0.134063    80.489950\n",
       "std       0.340751    59.942907\n",
       "min       0.000000     2.000000\n",
       "25%       0.000000    36.000000\n",
       "50%       0.000000    62.000000\n",
       "75%       0.000000   122.000000\n",
       "max       1.000000   910.000000"
      ]
     },
     "execution_count": 13,
     "metadata": {},
     "output_type": "execute_result"
    }
   ],
   "source": [
    "sms_data.describe()"
   ]
  },
  {
   "cell_type": "markdown",
   "id": "69603997",
   "metadata": {
    "papermill": {
     "duration": 0.016937,
     "end_time": "2023-03-22T05:58:03.956601",
     "exception": false,
     "start_time": "2023-03-22T05:58:03.939664",
     "status": "completed"
    },
    "tags": []
   },
   "source": [
    "#### Analysis\n",
    "\n",
    "\n",
    "* Data set includes Ham (0) and Spam (1) combined into Class_num\n",
    "* A Class_num mean of 0.134 means that 13.4% of data is spam\n",
    "    * Inversely, 86.6% is Ham\n",
    "* SMS messages average 80.48 characters\n",
    "* The shortest message length is 2 characters\n",
    "* The longest message length is 910 characters\n"
   ]
  },
  {
   "cell_type": "markdown",
   "id": "1f4ae41c",
   "metadata": {
    "papermill": {
     "duration": 0.017168,
     "end_time": "2023-03-22T05:58:03.991065",
     "exception": false,
     "start_time": "2023-03-22T05:58:03.973897",
     "status": "completed"
    },
    "tags": []
   },
   "source": [
    "### Ham Data Set"
   ]
  },
  {
   "cell_type": "code",
   "execution_count": 14,
   "id": "55e2c292",
   "metadata": {
    "execution": {
     "iopub.execute_input": "2023-03-22T05:58:04.027731Z",
     "iopub.status.busy": "2023-03-22T05:58:04.027260Z",
     "iopub.status.idle": "2023-03-22T05:58:04.047911Z",
     "shell.execute_reply": "2023-03-22T05:58:04.046740Z"
    },
    "papermill": {
     "duration": 0.041736,
     "end_time": "2023-03-22T05:58:04.050222",
     "exception": false,
     "start_time": "2023-03-22T05:58:04.008486",
     "status": "completed"
    },
    "tags": []
   },
   "outputs": [
    {
     "data": {
      "text/html": [
       "<div>\n",
       "<style scoped>\n",
       "    .dataframe tbody tr th:only-of-type {\n",
       "        vertical-align: middle;\n",
       "    }\n",
       "\n",
       "    .dataframe tbody tr th {\n",
       "        vertical-align: top;\n",
       "    }\n",
       "\n",
       "    .dataframe thead th {\n",
       "        text-align: right;\n",
       "    }\n",
       "</style>\n",
       "<table border=\"1\" class=\"dataframe\">\n",
       "  <thead>\n",
       "    <tr style=\"text-align: right;\">\n",
       "      <th></th>\n",
       "      <th>Class_num</th>\n",
       "      <th>sms_len</th>\n",
       "    </tr>\n",
       "  </thead>\n",
       "  <tbody>\n",
       "    <tr>\n",
       "      <th>count</th>\n",
       "      <td>4825.0</td>\n",
       "      <td>4825.000000</td>\n",
       "    </tr>\n",
       "    <tr>\n",
       "      <th>mean</th>\n",
       "      <td>0.0</td>\n",
       "      <td>71.482487</td>\n",
       "    </tr>\n",
       "    <tr>\n",
       "      <th>std</th>\n",
       "      <td>0.0</td>\n",
       "      <td>58.440652</td>\n",
       "    </tr>\n",
       "    <tr>\n",
       "      <th>min</th>\n",
       "      <td>0.0</td>\n",
       "      <td>2.000000</td>\n",
       "    </tr>\n",
       "    <tr>\n",
       "      <th>25%</th>\n",
       "      <td>0.0</td>\n",
       "      <td>33.000000</td>\n",
       "    </tr>\n",
       "    <tr>\n",
       "      <th>50%</th>\n",
       "      <td>0.0</td>\n",
       "      <td>52.000000</td>\n",
       "    </tr>\n",
       "    <tr>\n",
       "      <th>75%</th>\n",
       "      <td>0.0</td>\n",
       "      <td>93.000000</td>\n",
       "    </tr>\n",
       "    <tr>\n",
       "      <th>max</th>\n",
       "      <td>0.0</td>\n",
       "      <td>910.000000</td>\n",
       "    </tr>\n",
       "  </tbody>\n",
       "</table>\n",
       "</div>"
      ],
      "text/plain": [
       "       Class_num      sms_len\n",
       "count     4825.0  4825.000000\n",
       "mean         0.0    71.482487\n",
       "std          0.0    58.440652\n",
       "min          0.0     2.000000\n",
       "25%          0.0    33.000000\n",
       "50%          0.0    52.000000\n",
       "75%          0.0    93.000000\n",
       "max          0.0   910.000000"
      ]
     },
     "execution_count": 14,
     "metadata": {},
     "output_type": "execute_result"
    }
   ],
   "source": [
    "# Analyze data labeled 'ham'\n",
    "sms_data[sms_data.Class=='ham'].describe()"
   ]
  },
  {
   "cell_type": "markdown",
   "id": "f14b06a4",
   "metadata": {
    "papermill": {
     "duration": 0.01749,
     "end_time": "2023-03-22T05:58:04.085753",
     "exception": false,
     "start_time": "2023-03-22T05:58:04.068263",
     "status": "completed"
    },
    "tags": []
   },
   "source": [
    "#### Analysis\n",
    "\n",
    "\n",
    "* This data set includes Ham (0) only\n",
    "* There are 4,825 ham messages\n",
    "* Remember, ham is 0, so all other stats in Class_num will == 0\n",
    "* Ham messages average 71.48 characters\n",
    "* The shortest ham message length is 2 characters\n",
    "* The longest ham message length is 910 characters"
   ]
  },
  {
   "cell_type": "markdown",
   "id": "6b321428",
   "metadata": {
    "papermill": {
     "duration": 0.017116,
     "end_time": "2023-03-22T05:58:04.120447",
     "exception": false,
     "start_time": "2023-03-22T05:58:04.103331",
     "status": "completed"
    },
    "tags": []
   },
   "source": [
    "### Spam Data Set"
   ]
  },
  {
   "cell_type": "code",
   "execution_count": 15,
   "id": "d09f056a",
   "metadata": {
    "execution": {
     "iopub.execute_input": "2023-03-22T05:58:04.157891Z",
     "iopub.status.busy": "2023-03-22T05:58:04.157098Z",
     "iopub.status.idle": "2023-03-22T05:58:04.175574Z",
     "shell.execute_reply": "2023-03-22T05:58:04.174117Z"
    },
    "papermill": {
     "duration": 0.040309,
     "end_time": "2023-03-22T05:58:04.178217",
     "exception": false,
     "start_time": "2023-03-22T05:58:04.137908",
     "status": "completed"
    },
    "tags": []
   },
   "outputs": [
    {
     "data": {
      "text/html": [
       "<div>\n",
       "<style scoped>\n",
       "    .dataframe tbody tr th:only-of-type {\n",
       "        vertical-align: middle;\n",
       "    }\n",
       "\n",
       "    .dataframe tbody tr th {\n",
       "        vertical-align: top;\n",
       "    }\n",
       "\n",
       "    .dataframe thead th {\n",
       "        text-align: right;\n",
       "    }\n",
       "</style>\n",
       "<table border=\"1\" class=\"dataframe\">\n",
       "  <thead>\n",
       "    <tr style=\"text-align: right;\">\n",
       "      <th></th>\n",
       "      <th>Class_num</th>\n",
       "      <th>sms_len</th>\n",
       "    </tr>\n",
       "  </thead>\n",
       "  <tbody>\n",
       "    <tr>\n",
       "      <th>count</th>\n",
       "      <td>747.0</td>\n",
       "      <td>747.000000</td>\n",
       "    </tr>\n",
       "    <tr>\n",
       "      <th>mean</th>\n",
       "      <td>1.0</td>\n",
       "      <td>138.670683</td>\n",
       "    </tr>\n",
       "    <tr>\n",
       "      <th>std</th>\n",
       "      <td>0.0</td>\n",
       "      <td>28.873603</td>\n",
       "    </tr>\n",
       "    <tr>\n",
       "      <th>min</th>\n",
       "      <td>1.0</td>\n",
       "      <td>13.000000</td>\n",
       "    </tr>\n",
       "    <tr>\n",
       "      <th>25%</th>\n",
       "      <td>1.0</td>\n",
       "      <td>133.000000</td>\n",
       "    </tr>\n",
       "    <tr>\n",
       "      <th>50%</th>\n",
       "      <td>1.0</td>\n",
       "      <td>149.000000</td>\n",
       "    </tr>\n",
       "    <tr>\n",
       "      <th>75%</th>\n",
       "      <td>1.0</td>\n",
       "      <td>157.000000</td>\n",
       "    </tr>\n",
       "    <tr>\n",
       "      <th>max</th>\n",
       "      <td>1.0</td>\n",
       "      <td>223.000000</td>\n",
       "    </tr>\n",
       "  </tbody>\n",
       "</table>\n",
       "</div>"
      ],
      "text/plain": [
       "       Class_num     sms_len\n",
       "count      747.0  747.000000\n",
       "mean         1.0  138.670683\n",
       "std          0.0   28.873603\n",
       "min          1.0   13.000000\n",
       "25%          1.0  133.000000\n",
       "50%          1.0  149.000000\n",
       "75%          1.0  157.000000\n",
       "max          1.0  223.000000"
      ]
     },
     "execution_count": 15,
     "metadata": {},
     "output_type": "execute_result"
    }
   ],
   "source": [
    "# Analyze data labeled 'spam'\n",
    "sms_data[sms_data.Class=='spam'].describe()"
   ]
  },
  {
   "cell_type": "markdown",
   "id": "5f1e3916",
   "metadata": {
    "papermill": {
     "duration": 0.01743,
     "end_time": "2023-03-22T05:58:04.213495",
     "exception": false,
     "start_time": "2023-03-22T05:58:04.196065",
     "status": "completed"
    },
    "tags": []
   },
   "source": [
    "#### Analysis\n",
    "\n",
    "\n",
    "* This data set includes Spam (1) only\n",
    "* There are 747 spam messages\n",
    "* Remember, spam is 1, so all other stats in Class_num will == 1\n",
    "    * except standard deviation, as there is no deviation between 1 and 1\n",
    "* Spam messages average 138.67 characters\n",
    "* The shortest spam message length is 13 characters\n",
    "* The longest spam message length is 223 characters"
   ]
  },
  {
   "cell_type": "markdown",
   "id": "bed375e1",
   "metadata": {
    "papermill": {
     "duration": 0.017317,
     "end_time": "2023-03-22T05:58:04.248432",
     "exception": false,
     "start_time": "2023-03-22T05:58:04.231115",
     "status": "completed"
    },
    "tags": []
   },
   "source": [
    "## Prepare Data using Natural Language Processing\n",
    "### Create Function to Clean up Messages"
   ]
  },
  {
   "cell_type": "code",
   "execution_count": 16,
   "id": "86da25ae",
   "metadata": {
    "execution": {
     "iopub.execute_input": "2023-03-22T05:58:04.285898Z",
     "iopub.status.busy": "2023-03-22T05:58:04.285111Z",
     "iopub.status.idle": "2023-03-22T05:58:05.049575Z",
     "shell.execute_reply": "2023-03-22T05:58:05.048343Z"
    },
    "papermill": {
     "duration": 0.786321,
     "end_time": "2023-03-22T05:58:05.052449",
     "exception": false,
     "start_time": "2023-03-22T05:58:04.266128",
     "status": "completed"
    },
    "tags": []
   },
   "outputs": [],
   "source": [
    "import string\n",
    "from nltk.corpus import stopwords\n",
    "\n",
    "# List of common abbreviations\n",
    "abrv = ['rofl', 'stfu', 'icymi', 'tldr', 'ok', 'tmi', 'afaik', 'lmk', 'nvm', 'ftw', 'byob', 'rt', 'bogo', 'jk', 'jw', 'im', 'pm', 'ig', 'tgif', 'bh', 'tbf', 'rn', 'fubar', 'brb', 'iso', 'brt', 'btw', 'ftfy', 'gg', 'bfd', 'irl', 'dae', 'lol', 'smh', 'ngl', 'bts', 'ikr', 'ttyl', 'hmu', 'fwiw', 'imo', 'wyd', 'imho', 'idk', 'idc', 'idgaf', 'nbd', 'tba', 'tbd', 'afk', 'abt', 'iykyk', 'b4', 'bc', 'jic', 'fomo', 'snafu', 'gtg', 'g2g', 'h8', 'lmao', 'iykwim', 'myob', 'pov', 'tlc', 'bd', 'w/e', 'wtf', 'wysiwyg', 'fwif', 'tw', 'eod', 'faq', 'aka', 'asap', 'diy', 'lmgtfy', 'np', 'n/a', 'ooo', 'ia', 'cob', 'fyi', 'nsfw', 'wfh', 'omw', 'wdyt', 'wygam', 'smp', 'dm', 'fb', 'ig', 'li', 'yt', 'ff', 'im', 'pm', 'op', 'qotd', 'ootd', 'rt', 'tbt', 'til', 'ama', 'eli5', 'fbf', 'mfw', 'hmu', 'ily', 'mcm', 'wcw', 'bf', 'gf', 'ae', 'lysm', 'pda', 'ltr', 'dtr', 'xoxo', 'otp', 'loml']\n",
    "\n",
    "def Process_Msg(sms):\n",
    "    \n",
    "    STOPWORDS = stopwords.words('english')+abrv                           #set stopwords (SW) variable to nltk english SW\n",
    "    \n",
    "    nopunc = [char for char in sms if char not in string.punctuation]     #remove punctuation\n",
    "    \n",
    "    nopunc = ''.join(nopunc)                                              #join every item in list using '' as a separator\n",
    "    \n",
    "    nopunc = ' '.join([word for word in nopunc.split() if word.lower() not in STOPWORDS])    #remove Stopwords\n",
    "\n",
    "    nopunc = nopunc.lower()\n",
    "    \n",
    "    return nopunc"
   ]
  },
  {
   "cell_type": "markdown",
   "id": "ba65eead",
   "metadata": {
    "papermill": {
     "duration": 0.017478,
     "end_time": "2023-03-22T05:58:05.087791",
     "exception": false,
     "start_time": "2023-03-22T05:58:05.070313",
     "status": "completed"
    },
    "tags": []
   },
   "source": [
    "#### Code Breakdown\n",
    "    \n",
    "`nopunc = [char for char in sms if char not in string.punctuation]` <br>\n",
    "\" for every character in the message, <br>\n",
    "if the character is not in the list of punctionation, <br>\n",
    "save that char into the list 'nopunc' \"\n",
    "* removes punctuation\n",
    "* Essentially, nopunc is the same as sms, just without the punctuation\n",
    "\n",
    "\n",
    "`nopunc = ' '.join([word for word in nopunc.split() if word.lower() not in STOPWORDS])` <br>\n",
    "\" for every word in the 'nopunc' list,  <br>\n",
    "if the word [changed to lowercase] is not in 'STOPWORDS',  <br>\n",
    "save it into the list 'nopunc'\"\n",
    "\n",
    "* remove Stopwords\n"
   ]
  },
  {
   "cell_type": "markdown",
   "id": "f12f0bd2",
   "metadata": {
    "papermill": {
     "duration": 0.017613,
     "end_time": "2023-03-22T05:58:05.123215",
     "exception": false,
     "start_time": "2023-03-22T05:58:05.105602",
     "status": "completed"
    },
    "tags": []
   },
   "source": [
    "### Create Column: Save Cleaned Messages"
   ]
  },
  {
   "cell_type": "code",
   "execution_count": 17,
   "id": "22bb400b",
   "metadata": {
    "execution": {
     "iopub.execute_input": "2023-03-22T05:58:05.161332Z",
     "iopub.status.busy": "2023-03-22T05:58:05.160539Z",
     "iopub.status.idle": "2023-03-22T05:58:05.173091Z",
     "shell.execute_reply": "2023-03-22T05:58:05.171971Z"
    },
    "papermill": {
     "duration": 0.035362,
     "end_time": "2023-03-22T05:58:05.176738",
     "exception": false,
     "start_time": "2023-03-22T05:58:05.141376",
     "status": "completed"
    },
    "tags": []
   },
   "outputs": [
    {
     "name": "stdout",
     "output_type": "stream",
     "text": [
      "Before Modification:\n",
      "\n"
     ]
    },
    {
     "data": {
      "text/html": [
       "<div>\n",
       "<style scoped>\n",
       "    .dataframe tbody tr th:only-of-type {\n",
       "        vertical-align: middle;\n",
       "    }\n",
       "\n",
       "    .dataframe tbody tr th {\n",
       "        vertical-align: top;\n",
       "    }\n",
       "\n",
       "    .dataframe thead th {\n",
       "        text-align: right;\n",
       "    }\n",
       "</style>\n",
       "<table border=\"1\" class=\"dataframe\">\n",
       "  <thead>\n",
       "    <tr style=\"text-align: right;\">\n",
       "      <th></th>\n",
       "      <th>Class</th>\n",
       "      <th>sms</th>\n",
       "      <th>Class_num</th>\n",
       "      <th>sms_len</th>\n",
       "    </tr>\n",
       "  </thead>\n",
       "  <tbody>\n",
       "    <tr>\n",
       "      <th>0</th>\n",
       "      <td>ham</td>\n",
       "      <td>Go until jurong point, crazy.. Available only ...</td>\n",
       "      <td>0</td>\n",
       "      <td>111</td>\n",
       "    </tr>\n",
       "    <tr>\n",
       "      <th>1</th>\n",
       "      <td>ham</td>\n",
       "      <td>Ok lar... Joking wif u oni...</td>\n",
       "      <td>0</td>\n",
       "      <td>29</td>\n",
       "    </tr>\n",
       "    <tr>\n",
       "      <th>2</th>\n",
       "      <td>spam</td>\n",
       "      <td>Free entry in 2 a wkly comp to win FA Cup fina...</td>\n",
       "      <td>1</td>\n",
       "      <td>155</td>\n",
       "    </tr>\n",
       "    <tr>\n",
       "      <th>3</th>\n",
       "      <td>ham</td>\n",
       "      <td>U dun say so early hor... U c already then say...</td>\n",
       "      <td>0</td>\n",
       "      <td>49</td>\n",
       "    </tr>\n",
       "    <tr>\n",
       "      <th>4</th>\n",
       "      <td>ham</td>\n",
       "      <td>Nah I don't think he goes to usf, he lives aro...</td>\n",
       "      <td>0</td>\n",
       "      <td>61</td>\n",
       "    </tr>\n",
       "  </tbody>\n",
       "</table>\n",
       "</div>"
      ],
      "text/plain": [
       "  Class                                                sms  Class_num  sms_len\n",
       "0   ham  Go until jurong point, crazy.. Available only ...          0      111\n",
       "1   ham                      Ok lar... Joking wif u oni...          0       29\n",
       "2  spam  Free entry in 2 a wkly comp to win FA Cup fina...          1      155\n",
       "3   ham  U dun say so early hor... U c already then say...          0       49\n",
       "4   ham  Nah I don't think he goes to usf, he lives aro...          0       61"
      ]
     },
     "execution_count": 17,
     "metadata": {},
     "output_type": "execute_result"
    }
   ],
   "source": [
    "# View first 5 Observations\n",
    "print(\"Before Modification:\\n\") \n",
    "sms_data.head()"
   ]
  },
  {
   "cell_type": "code",
   "execution_count": 18,
   "id": "95fe31f0",
   "metadata": {
    "execution": {
     "iopub.execute_input": "2023-03-22T05:58:05.216255Z",
     "iopub.status.busy": "2023-03-22T05:58:05.214906Z",
     "iopub.status.idle": "2023-03-22T05:58:06.457541Z",
     "shell.execute_reply": "2023-03-22T05:58:06.455989Z"
    },
    "papermill": {
     "duration": 1.265354,
     "end_time": "2023-03-22T05:58:06.460209",
     "exception": false,
     "start_time": "2023-03-22T05:58:05.194855",
     "status": "completed"
    },
    "tags": []
   },
   "outputs": [
    {
     "name": "stdout",
     "output_type": "stream",
     "text": [
      "After Modification:\n",
      "\n"
     ]
    },
    {
     "data": {
      "text/html": [
       "<div>\n",
       "<style scoped>\n",
       "    .dataframe tbody tr th:only-of-type {\n",
       "        vertical-align: middle;\n",
       "    }\n",
       "\n",
       "    .dataframe tbody tr th {\n",
       "        vertical-align: top;\n",
       "    }\n",
       "\n",
       "    .dataframe thead th {\n",
       "        text-align: right;\n",
       "    }\n",
       "</style>\n",
       "<table border=\"1\" class=\"dataframe\">\n",
       "  <thead>\n",
       "    <tr style=\"text-align: right;\">\n",
       "      <th></th>\n",
       "      <th>Class</th>\n",
       "      <th>sms</th>\n",
       "      <th>Class_num</th>\n",
       "      <th>sms_len</th>\n",
       "      <th>sms_clean</th>\n",
       "    </tr>\n",
       "  </thead>\n",
       "  <tbody>\n",
       "    <tr>\n",
       "      <th>0</th>\n",
       "      <td>ham</td>\n",
       "      <td>Go until jurong point, crazy.. Available only ...</td>\n",
       "      <td>0</td>\n",
       "      <td>111</td>\n",
       "      <td>go jurong point crazy available bugis n great ...</td>\n",
       "    </tr>\n",
       "    <tr>\n",
       "      <th>1</th>\n",
       "      <td>ham</td>\n",
       "      <td>Ok lar... Joking wif u oni...</td>\n",
       "      <td>0</td>\n",
       "      <td>29</td>\n",
       "      <td>lar joking wif u oni</td>\n",
       "    </tr>\n",
       "    <tr>\n",
       "      <th>2</th>\n",
       "      <td>spam</td>\n",
       "      <td>Free entry in 2 a wkly comp to win FA Cup fina...</td>\n",
       "      <td>1</td>\n",
       "      <td>155</td>\n",
       "      <td>free entry 2 wkly comp win fa cup final tkts 2...</td>\n",
       "    </tr>\n",
       "    <tr>\n",
       "      <th>3</th>\n",
       "      <td>ham</td>\n",
       "      <td>U dun say so early hor... U c already then say...</td>\n",
       "      <td>0</td>\n",
       "      <td>49</td>\n",
       "      <td>u dun say early hor u c already say</td>\n",
       "    </tr>\n",
       "    <tr>\n",
       "      <th>4</th>\n",
       "      <td>ham</td>\n",
       "      <td>Nah I don't think he goes to usf, he lives aro...</td>\n",
       "      <td>0</td>\n",
       "      <td>61</td>\n",
       "      <td>nah dont think goes usf lives around though</td>\n",
       "    </tr>\n",
       "  </tbody>\n",
       "</table>\n",
       "</div>"
      ],
      "text/plain": [
       "  Class                                                sms  Class_num  \\\n",
       "0   ham  Go until jurong point, crazy.. Available only ...          0   \n",
       "1   ham                      Ok lar... Joking wif u oni...          0   \n",
       "2  spam  Free entry in 2 a wkly comp to win FA Cup fina...          1   \n",
       "3   ham  U dun say so early hor... U c already then say...          0   \n",
       "4   ham  Nah I don't think he goes to usf, he lives aro...          0   \n",
       "\n",
       "   sms_len                                          sms_clean  \n",
       "0      111  go jurong point crazy available bugis n great ...  \n",
       "1       29                               lar joking wif u oni  \n",
       "2      155  free entry 2 wkly comp win fa cup final tkts 2...  \n",
       "3       49                u dun say early hor u c already say  \n",
       "4       61        nah dont think goes usf lives around though  "
      ]
     },
     "execution_count": 18,
     "metadata": {},
     "output_type": "execute_result"
    }
   ],
   "source": [
    "# Create New Column\n",
    "sms_data['sms_clean'] = sms_data.sms.apply(Process_Msg)   #send each message to function 'temp_process'\n",
    "\n",
    "# View first 5 Observations\n",
    "print(\"After Modification:\\n\") \n",
    "sms_data.head()"
   ]
  },
  {
   "cell_type": "markdown",
   "id": "4dd85d7e",
   "metadata": {
    "papermill": {
     "duration": 0.020718,
     "end_time": "2023-03-22T05:58:06.500865",
     "exception": false,
     "start_time": "2023-03-22T05:58:06.480147",
     "status": "completed"
    },
    "tags": []
   },
   "source": [
    "### Extract Words\n",
    "#### Ham Messages"
   ]
  },
  {
   "cell_type": "code",
   "execution_count": 19,
   "id": "adccf453",
   "metadata": {
    "execution": {
     "iopub.execute_input": "2023-03-22T05:58:06.540337Z",
     "iopub.status.busy": "2023-03-22T05:58:06.539473Z",
     "iopub.status.idle": "2023-03-22T05:58:06.569050Z",
     "shell.execute_reply": "2023-03-22T05:58:06.567866Z"
    },
    "papermill": {
     "duration": 0.052476,
     "end_time": "2023-03-22T05:58:06.571897",
     "exception": false,
     "start_time": "2023-03-22T05:58:06.519421",
     "status": "completed"
    },
    "tags": []
   },
   "outputs": [
    {
     "data": {
      "text/plain": [
       "0       [go, jurong, point, crazy, available, bugis, n...\n",
       "1                              [lar, joking, wif, u, oni]\n",
       "3           [u, dun, say, early, hor, u, c, already, say]\n",
       "4       [nah, dont, think, goes, usf, lives, around, t...\n",
       "6       [even, brother, like, speak, treat, like, aids...\n",
       "                              ...                        \n",
       "5565                                           [huh, lei]\n",
       "5568                   [ü, b, going, esplanade, fr, home]\n",
       "5569                     [pity, mood, soany, suggestions]\n",
       "5570    [guy, bitching, acted, like, id, interested, b...\n",
       "5571                                         [true, name]\n",
       "Name: sms_clean, Length: 4825, dtype: object"
      ]
     },
     "execution_count": 19,
     "metadata": {},
     "output_type": "execute_result"
    }
   ],
   "source": [
    "ham_words = sms_data[sms_data.Class_num==0].sms_clean.apply(lambda x: [word.lower() for word in x.split()])    #Save messages as lowercase list\n",
    "\n",
    "'''\n",
    "for each ham message, \n",
    "split words into a list, \n",
    "covert to lowercase, \n",
    "and save to 'ham_words'\n",
    "'''\n",
    "\n",
    "ham_words    #remaining words in ham messages"
   ]
  },
  {
   "cell_type": "markdown",
   "id": "83828428",
   "metadata": {
    "papermill": {
     "duration": 0.01806,
     "end_time": "2023-03-22T05:58:06.608635",
     "exception": false,
     "start_time": "2023-03-22T05:58:06.590575",
     "status": "completed"
    },
    "tags": []
   },
   "source": [
    "#### Spam Messages"
   ]
  },
  {
   "cell_type": "code",
   "execution_count": 20,
   "id": "d4660fa2",
   "metadata": {
    "execution": {
     "iopub.execute_input": "2023-03-22T05:58:06.647727Z",
     "iopub.status.busy": "2023-03-22T05:58:06.647289Z",
     "iopub.status.idle": "2023-03-22T05:58:06.665084Z",
     "shell.execute_reply": "2023-03-22T05:58:06.663875Z"
    },
    "papermill": {
     "duration": 0.040387,
     "end_time": "2023-03-22T05:58:06.667425",
     "exception": false,
     "start_time": "2023-03-22T05:58:06.627038",
     "status": "completed"
    },
    "tags": []
   },
   "outputs": [
    {
     "data": {
      "text/plain": [
       "2       [free, entry, 2, wkly, comp, win, fa, cup, fin...\n",
       "5       [freemsg, hey, darling, 3, weeks, word, back, ...\n",
       "8       [winner, valued, network, customer, selected, ...\n",
       "9       [mobile, 11, months, u, r, entitled, update, l...\n",
       "11      [six, chances, win, cash, 100, 20000, pounds, ...\n",
       "                              ...                        \n",
       "5537    [want, explicit, sex, 30, secs, ring, 02073162...\n",
       "5540    [asked, 3mobile, 0870, chatlines, inclu, free,...\n",
       "5547    [contract, mobile, 11, mnths, latest, motorola...\n",
       "5566    [reminder, o2, get, 250, pounds, free, call, c...\n",
       "5567    [2nd, time, tried, 2, contact, u, u, £750, pou...\n",
       "Name: sms_clean, Length: 747, dtype: object"
      ]
     },
     "execution_count": 20,
     "metadata": {},
     "output_type": "execute_result"
    }
   ],
   "source": [
    "spam_words = sms_data[sms_data.Class_num==1].sms_clean.apply(lambda x: [word.lower() for word in x.split()])    #Save messages as lowercase list\n",
    "\n",
    "'''\n",
    "for each ham message, \n",
    "split words into a list, \n",
    "covert to lowercase, \n",
    "and save to 'ham_words'\n",
    "'''\n",
    "\n",
    "spam_words    #remaining words in spam messages"
   ]
  },
  {
   "cell_type": "markdown",
   "id": "932ce581",
   "metadata": {
    "papermill": {
     "duration": 0.018271,
     "end_time": "2023-03-22T05:58:06.704179",
     "exception": false,
     "start_time": "2023-03-22T05:58:06.685908",
     "status": "completed"
    },
    "tags": []
   },
   "source": [
    "## Create Frequency Tables\n",
    "### Ham Word Frequencies"
   ]
  },
  {
   "cell_type": "code",
   "execution_count": 21,
   "id": "c29f3b25",
   "metadata": {
    "execution": {
     "iopub.execute_input": "2023-03-22T05:58:06.743405Z",
     "iopub.status.busy": "2023-03-22T05:58:06.742985Z",
     "iopub.status.idle": "2023-03-22T05:58:06.765626Z",
     "shell.execute_reply": "2023-03-22T05:58:06.764343Z"
    },
    "papermill": {
     "duration": 0.045585,
     "end_time": "2023-03-22T05:58:06.768357",
     "exception": false,
     "start_time": "2023-03-22T05:58:06.722772",
     "status": "completed"
    },
    "tags": []
   },
   "outputs": [
    {
     "name": "stdout",
     "output_type": "stream",
     "text": [
      "[('u', 985), ('2', 309), ('get', 303), ('ltgt', 276), ('dont', 265), ('go', 250), ('ur', 246), ('ill', 238), ('got', 232), ('know', 232), ('like', 231), ('call', 231), ('come', 227), ('good', 224), ('love', 190), ('time', 189), ('day', 188), ('4', 174), ('ü', 169), ('going', 167), ('want', 164), ('one', 163), ('home', 160), ('lor', 160), ('need', 157), ('sorry', 153), ('still', 147), ('see', 138), ('n', 137), ('later', 134), ('da', 131), ('r', 131), ('back', 129), ('think', 128), ('well', 127), ('today', 125), ('send', 123), ('tell', 121), ('cant', 119), ('hi', 117), ('take', 112), ('oh', 112), ('much', 112), ('night', 109), ('happy', 106), ('hey', 106), ('great', 100), ('way', 100), ('hope', 100), ('pls', 98)]\n"
     ]
    }
   ],
   "source": [
    "from collections import Counter\n",
    "ham_word_count = Counter()\n",
    "\n",
    "for each_word in ham_words:                #for each word in words\n",
    "    ham_word_count.update(each_word)       #count frequency of each_word\n",
    "    \n",
    "print(ham_word_count.most_common(50))      #print 50 most common words"
   ]
  },
  {
   "cell_type": "markdown",
   "id": "6579ff6d",
   "metadata": {
    "papermill": {
     "duration": 0.018417,
     "end_time": "2023-03-22T05:58:06.805516",
     "exception": false,
     "start_time": "2023-03-22T05:58:06.787099",
     "status": "completed"
    },
    "tags": []
   },
   "source": [
    "#### Analysis\n",
    "<i>This is a good place to check for additional stopwords.<br>\n",
    "    For example, 2 of the top 3 most common words here are 'U' and '2' - these would be great additions to the stopword list\n",
    "    \n",
    "<i>If unsure about adding a specific word to the stopwords list, ask if the word adds any context - if not, it would likely work well as a stopword.<br> Also, you can check the most common occurences of spam (shown below) and see if that word appears there as well. "
   ]
  },
  {
   "cell_type": "markdown",
   "id": "9c1fd6b0",
   "metadata": {
    "papermill": {
     "duration": 0.018348,
     "end_time": "2023-03-22T05:58:06.842605",
     "exception": false,
     "start_time": "2023-03-22T05:58:06.824257",
     "status": "completed"
    },
    "tags": []
   },
   "source": [
    "### Spam Word Frequencies"
   ]
  },
  {
   "cell_type": "code",
   "execution_count": 22,
   "id": "5502b622",
   "metadata": {
    "execution": {
     "iopub.execute_input": "2023-03-22T05:58:06.882337Z",
     "iopub.status.busy": "2023-03-22T05:58:06.881906Z",
     "iopub.status.idle": "2023-03-22T05:58:06.892444Z",
     "shell.execute_reply": "2023-03-22T05:58:06.891167Z"
    },
    "papermill": {
     "duration": 0.032842,
     "end_time": "2023-03-22T05:58:06.894658",
     "exception": false,
     "start_time": "2023-03-22T05:58:06.861816",
     "status": "completed"
    },
    "tags": []
   },
   "outputs": [
    {
     "name": "stdout",
     "output_type": "stream",
     "text": [
      "[('call', 347), ('free', 216), ('2', 173), ('txt', 150), ('u', 147), ('ur', 144), ('mobile', 123), ('text', 120), ('4', 119), ('stop', 115), ('claim', 113), ('reply', 101), ('prize', 92), ('get', 83), ('new', 69), ('send', 68), ('nokia', 65), ('urgent', 63), ('cash', 62), ('win', 60), ('contact', 56), ('service', 55), ('please', 52), ('16', 51), ('guaranteed', 50), ('customer', 49), ('week', 49), ('tone', 48), ('per', 46), ('phone', 45), ('18', 43), ('chat', 42), ('awarded', 38), ('draw', 38), ('latest', 36), ('£1000', 35), ('line', 35), ('150ppm', 34), ('mins', 34), ('receive', 33), ('camera', 33), ('1', 33), ('box', 33), ('every', 33), ('message', 32), ('po', 32), ('holiday', 32), ('landline', 32), ('shows', 31), ('£2000', 31)]\n"
     ]
    }
   ],
   "source": [
    "spam_word_count = Counter()\n",
    "\n",
    "for each_word in spam_words:              #for each word in words\n",
    "    spam_word_count.update(each_word)       #count frequency of each_word\n",
    "    \n",
    "print(spam_word_count.most_common(50))      #print 50 most common words"
   ]
  },
  {
   "cell_type": "markdown",
   "id": "abdc5c84",
   "metadata": {
    "papermill": {
     "duration": 0.018344,
     "end_time": "2023-03-22T05:58:06.931864",
     "exception": false,
     "start_time": "2023-03-22T05:58:06.913520",
     "status": "completed"
    },
    "tags": []
   },
   "source": [
    "## Standardize Data\n",
    "\n",
    "Standardizing this dataset is not necessary as we know the min/max values (0, 1). Due to the format of this scale, there cannot be any huge outliers and standardization is not necessary. Therefore, this is simply an example of how to standardize data.\n",
    "\n",
    "Furthermore, the data does not need to be scaled for the same reason. As the function for scaling is:<br>\n",
    "    \n",
    "            X_scaled = X_stdev * (scale_max - scale_min) + scale_min \n",
    "<br>\n",
    "A 0 to 1 scale is the same as multiplying by 1, and would provide no benefit. An example of this logic is shown below.<br><br>\n",
    "    \n",
    "Example:<br>\n",
    "&emsp;&emsp;X_cs = X_stdev * (scale_max - scale_min) + scale_min<br>\n",
    "&emsp;&emsp;X_cs = X_stdev * (1 - 0) + 0<br>\n",
    "&emsp;&emsp;X_cs = X_stdev * (1) + 0<br>\n",
    "&emsp;&emsp;X_cs = X_stdev + 0<br>\n",
    "&emsp;&emsp;X_cs = X_stdev <br>"
   ]
  },
  {
   "cell_type": "markdown",
   "id": "4a1a6e75",
   "metadata": {
    "papermill": {
     "duration": 0.018427,
     "end_time": "2023-03-22T05:58:06.968878",
     "exception": false,
     "start_time": "2023-03-22T05:58:06.950451",
     "status": "completed"
    },
    "tags": []
   },
   "source": [
    "---\n",
    "## Train Naive Bayes Classifier\n",
    "### Set Dependent Variable"
   ]
  },
  {
   "cell_type": "code",
   "execution_count": 23,
   "id": "39991a4a",
   "metadata": {
    "execution": {
     "iopub.execute_input": "2023-03-22T05:58:07.008398Z",
     "iopub.status.busy": "2023-03-22T05:58:07.007941Z",
     "iopub.status.idle": "2023-03-22T05:58:07.017328Z",
     "shell.execute_reply": "2023-03-22T05:58:07.016162Z"
    },
    "papermill": {
     "duration": 0.032043,
     "end_time": "2023-03-22T05:58:07.019817",
     "exception": false,
     "start_time": "2023-03-22T05:58:06.987774",
     "status": "completed"
    },
    "tags": []
   },
   "outputs": [
    {
     "data": {
      "text/plain": [
       "0       0\n",
       "1       0\n",
       "2       1\n",
       "3       0\n",
       "4       0\n",
       "       ..\n",
       "5567    1\n",
       "5568    0\n",
       "5569    0\n",
       "5570    0\n",
       "5571    0\n",
       "Name: Class_num, Length: 5572, dtype: int64"
      ]
     },
     "execution_count": 23,
     "metadata": {},
     "output_type": "execute_result"
    }
   ],
   "source": [
    "# Create Vector for Dependent Variable\n",
    "y = sms_data.Class_num\n",
    "\n",
    "# View Dependent Variable\n",
    "y"
   ]
  },
  {
   "cell_type": "markdown",
   "id": "7d624019",
   "metadata": {
    "papermill": {
     "duration": 0.018674,
     "end_time": "2023-03-22T05:58:07.057760",
     "exception": false,
     "start_time": "2023-03-22T05:58:07.039086",
     "status": "completed"
    },
    "tags": []
   },
   "source": [
    "### Set Independent Variable"
   ]
  },
  {
   "cell_type": "code",
   "execution_count": 24,
   "id": "1786695d",
   "metadata": {
    "execution": {
     "iopub.execute_input": "2023-03-22T05:58:07.097757Z",
     "iopub.status.busy": "2023-03-22T05:58:07.096563Z",
     "iopub.status.idle": "2023-03-22T05:58:07.105014Z",
     "shell.execute_reply": "2023-03-22T05:58:07.104133Z"
    },
    "papermill": {
     "duration": 0.030546,
     "end_time": "2023-03-22T05:58:07.107088",
     "exception": false,
     "start_time": "2023-03-22T05:58:07.076542",
     "status": "completed"
    },
    "tags": []
   },
   "outputs": [
    {
     "data": {
      "text/plain": [
       "0       go jurong point crazy available bugis n great ...\n",
       "1                                    lar joking wif u oni\n",
       "2       free entry 2 wkly comp win fa cup final tkts 2...\n",
       "3                     u dun say early hor u c already say\n",
       "4             nah dont think goes usf lives around though\n",
       "                              ...                        \n",
       "5567    2nd time tried 2 contact u u £750 pound prize ...\n",
       "5568                          ü b going esplanade fr home\n",
       "5569                          pity mood soany suggestions\n",
       "5570    guy bitching acted like id interested buying s...\n",
       "5571                                            true name\n",
       "Name: sms_clean, Length: 5572, dtype: object"
      ]
     },
     "execution_count": 24,
     "metadata": {},
     "output_type": "execute_result"
    }
   ],
   "source": [
    "# Create Matrix for Independent Variables\n",
    "X = sms_data.sms_clean    #define feature set\n",
    "\n",
    "# View Dependent Variable\n",
    "X"
   ]
  },
  {
   "cell_type": "markdown",
   "id": "070dd86c",
   "metadata": {
    "papermill": {
     "duration": 0.018704,
     "end_time": "2023-03-22T05:58:07.144806",
     "exception": false,
     "start_time": "2023-03-22T05:58:07.126102",
     "status": "completed"
    },
    "tags": []
   },
   "source": [
    "### View Variable Shapes"
   ]
  },
  {
   "cell_type": "code",
   "execution_count": 25,
   "id": "4553556b",
   "metadata": {
    "execution": {
     "iopub.execute_input": "2023-03-22T05:58:07.185388Z",
     "iopub.status.busy": "2023-03-22T05:58:07.184182Z",
     "iopub.status.idle": "2023-03-22T05:58:07.191127Z",
     "shell.execute_reply": "2023-03-22T05:58:07.189758Z"
    },
    "papermill": {
     "duration": 0.029915,
     "end_time": "2023-03-22T05:58:07.193650",
     "exception": false,
     "start_time": "2023-03-22T05:58:07.163735",
     "status": "completed"
    },
    "tags": []
   },
   "outputs": [
    {
     "name": "stdout",
     "output_type": "stream",
     "text": [
      "(5572,)\n",
      "(5572,)\n"
     ]
    }
   ],
   "source": [
    "print(X.shape)       #print shape (Observations/ Rows, Features/ Columns)\n",
    "print(y.shape)       #print shape (Observations/ Rows, Features/ Columns)"
   ]
  },
  {
   "cell_type": "markdown",
   "id": "28dbb43e",
   "metadata": {
    "execution": {
     "iopub.execute_input": "2023-03-22T01:52:31.941889Z",
     "iopub.status.busy": "2023-03-22T01:52:31.941254Z",
     "iopub.status.idle": "2023-03-22T01:52:31.956543Z",
     "shell.execute_reply": "2023-03-22T01:52:31.955035Z",
     "shell.execute_reply.started": "2023-03-22T01:52:31.941815Z"
    },
    "papermill": {
     "duration": 0.018985,
     "end_time": "2023-03-22T05:58:07.232156",
     "exception": false,
     "start_time": "2023-03-22T05:58:07.213171",
     "status": "completed"
    },
    "tags": []
   },
   "source": [
    "### Shape Analysis and Verification\n",
    "* X: 5572 observations, 1 feature\n",
    "* Y: 5572 observations, 1 feature\n",
    "\n",
    "Since Training and Testing observations match, and features are the expected value, we may proceed with splitting the training and testing data."
   ]
  },
  {
   "cell_type": "markdown",
   "id": "d3fcce2f",
   "metadata": {
    "papermill": {
     "duration": 0.019052,
     "end_time": "2023-03-22T05:58:07.270846",
     "exception": false,
     "start_time": "2023-03-22T05:58:07.251794",
     "status": "completed"
    },
    "tags": []
   },
   "source": [
    "### Split Training and Testing Data"
   ]
  },
  {
   "cell_type": "code",
   "execution_count": 26,
   "id": "5e8886f0",
   "metadata": {
    "execution": {
     "iopub.execute_input": "2023-03-22T05:58:07.311550Z",
     "iopub.status.busy": "2023-03-22T05:58:07.310791Z",
     "iopub.status.idle": "2023-03-22T05:58:07.319888Z",
     "shell.execute_reply": "2023-03-22T05:58:07.318868Z"
    },
    "papermill": {
     "duration": 0.032471,
     "end_time": "2023-03-22T05:58:07.322545",
     "exception": false,
     "start_time": "2023-03-22T05:58:07.290074",
     "status": "completed"
    },
    "tags": []
   },
   "outputs": [],
   "source": [
    "from sklearn.model_selection import train_test_split\n",
    "X_train, X_test, y_train, y_test = train_test_split(X,\n",
    "                                                    y,\n",
    "                                                    random_state = 42)"
   ]
  },
  {
   "cell_type": "code",
   "execution_count": 27,
   "id": "85f61798",
   "metadata": {
    "execution": {
     "iopub.execute_input": "2023-03-22T05:58:07.363444Z",
     "iopub.status.busy": "2023-03-22T05:58:07.362655Z",
     "iopub.status.idle": "2023-03-22T05:58:07.368730Z",
     "shell.execute_reply": "2023-03-22T05:58:07.367305Z"
    },
    "papermill": {
     "duration": 0.029359,
     "end_time": "2023-03-22T05:58:07.371570",
     "exception": false,
     "start_time": "2023-03-22T05:58:07.342211",
     "status": "completed"
    },
    "tags": []
   },
   "outputs": [
    {
     "name": "stdout",
     "output_type": "stream",
     "text": [
      "(4179,) (1393,)\n",
      "(4179,) (1393,)\n"
     ]
    }
   ],
   "source": [
    "# Verify Training/ Testing Data\n",
    "print(X_train.shape, X_test.shape)\n",
    "print(y_train.shape, y_test.shape)"
   ]
  },
  {
   "cell_type": "markdown",
   "id": "f0794e92",
   "metadata": {
    "papermill": {
     "duration": 0.018896,
     "end_time": "2023-03-22T05:58:07.410448",
     "exception": false,
     "start_time": "2023-03-22T05:58:07.391552",
     "status": "completed"
    },
    "tags": []
   },
   "source": [
    "#### Verification Analysis\n",
    "\n",
    "* X_train: 4179 observations, 1 feature\n",
    "* X_test: 1393 observations, 1 feature\n",
    "* y_train: 4179 observations, 1 feature\n",
    "* y_test: 1393 observations, 1 feature\n",
    "\n",
    "Since Training and Testing observations match, and features are the expected value (missing means 1), the training and testing data was split correctly."
   ]
  },
  {
   "cell_type": "markdown",
   "id": "6179ada3",
   "metadata": {
    "papermill": {
     "duration": 0.018867,
     "end_time": "2023-03-22T05:58:07.448876",
     "exception": false,
     "start_time": "2023-03-22T05:58:07.430009",
     "status": "completed"
    },
    "tags": []
   },
   "source": [
    "### Obtain Count Vectorizer"
   ]
  },
  {
   "cell_type": "code",
   "execution_count": 28,
   "id": "0f972cb1",
   "metadata": {
    "execution": {
     "iopub.execute_input": "2023-03-22T05:58:07.490240Z",
     "iopub.status.busy": "2023-03-22T05:58:07.489396Z",
     "iopub.status.idle": "2023-03-22T05:58:07.618272Z",
     "shell.execute_reply": "2023-03-22T05:58:07.616900Z"
    },
    "papermill": {
     "duration": 0.152828,
     "end_time": "2023-03-22T05:58:07.621141",
     "exception": false,
     "start_time": "2023-03-22T05:58:07.468313",
     "status": "completed"
    },
    "tags": []
   },
   "outputs": [],
   "source": [
    "from sklearn.feature_extraction.text import CountVectorizer    #Convert a collection of text documents to a matrix of token counts.\n",
    "\n",
    "# Fit Data\n",
    "vect = CountVectorizer()\n",
    "vect.fit(X_train)\n",
    "\n",
    "#Transform Data\n",
    "X_train_dtm = vect.transform(X_train)    #transform train data, dtm = data transformation\n",
    "X_test_dtm = vect.transform(X_test)      #transform test data, dtm = data transformation\n",
    "\n"
   ]
  },
  {
   "cell_type": "markdown",
   "id": "1a085c30",
   "metadata": {
    "execution": {
     "iopub.execute_input": "2023-03-21T03:44:22.926090Z",
     "iopub.status.busy": "2023-03-21T03:44:22.925667Z",
     "iopub.status.idle": "2023-03-21T03:44:23.075429Z",
     "shell.execute_reply": "2023-03-21T03:44:23.073584Z",
     "shell.execute_reply.started": "2023-03-21T03:44:22.926047Z"
    },
    "papermill": {
     "duration": 0.018695,
     "end_time": "2023-03-22T05:58:07.659014",
     "exception": false,
     "start_time": "2023-03-22T05:58:07.640319",
     "status": "completed"
    },
    "tags": []
   },
   "source": [
    "#### Error Check"
   ]
  },
  {
   "cell_type": "code",
   "execution_count": 29,
   "id": "7803ebd0",
   "metadata": {
    "execution": {
     "iopub.execute_input": "2023-03-22T05:58:07.699367Z",
     "iopub.status.busy": "2023-03-22T05:58:07.698921Z",
     "iopub.status.idle": "2023-03-22T05:58:07.808249Z",
     "shell.execute_reply": "2023-03-22T05:58:07.806893Z"
    },
    "papermill": {
     "duration": 0.133278,
     "end_time": "2023-03-22T05:58:07.811547",
     "exception": false,
     "start_time": "2023-03-22T05:58:07.678269",
     "status": "completed"
    },
    "tags": []
   },
   "outputs": [
    {
     "name": "stdout",
     "output_type": "stream",
     "text": [
      "[[0 0 0 ... 0 0 0]\n",
      " [0 0 0 ... 0 0 0]\n",
      " [0 0 0 ... 0 0 0]\n",
      " ...\n",
      " [0 0 0 ... 0 0 0]\n",
      " [0 0 0 ... 0 0 0]\n",
      " [0 0 0 ... 0 0 0]]\n",
      "\n",
      "\n",
      "\n",
      "[[0 0 0 ... 0 0 0]\n",
      " [0 0 0 ... 0 0 0]\n",
      " [0 0 0 ... 0 0 0]\n",
      " ...\n",
      " [0 0 0 ... 0 0 0]\n",
      " [0 0 0 ... 0 0 0]\n",
      " [0 0 0 ... 0 0 0]]\n"
     ]
    }
   ],
   "source": [
    "#Verify Vectorizers Completed\n",
    "print(X_test_dtm.toarray())             #print train vectorizer\n",
    "print(\"\\n\\n\")\n",
    "print(X_train_dtm.toarray())             #print test vectorizer"
   ]
  },
  {
   "cell_type": "code",
   "execution_count": 30,
   "id": "1d98a0b3",
   "metadata": {
    "execution": {
     "iopub.execute_input": "2023-03-22T05:58:07.852919Z",
     "iopub.status.busy": "2023-03-22T05:58:07.851732Z",
     "iopub.status.idle": "2023-03-22T05:58:07.858471Z",
     "shell.execute_reply": "2023-03-22T05:58:07.857580Z"
    },
    "papermill": {
     "duration": 0.029383,
     "end_time": "2023-03-22T05:58:07.860570",
     "exception": false,
     "start_time": "2023-03-22T05:58:07.831187",
     "status": "completed"
    },
    "tags": []
   },
   "outputs": [
    {
     "data": {
      "text/plain": [
       "<1393x8011 sparse matrix of type '<class 'numpy.int64'>'\n",
       "\twith 9924 stored elements in Compressed Sparse Row format>"
      ]
     },
     "execution_count": 30,
     "metadata": {},
     "output_type": "execute_result"
    }
   ],
   "source": [
    "X_test_dtm"
   ]
  },
  {
   "cell_type": "code",
   "execution_count": 31,
   "id": "053896ca",
   "metadata": {
    "execution": {
     "iopub.execute_input": "2023-03-22T05:58:07.902218Z",
     "iopub.status.busy": "2023-03-22T05:58:07.901060Z",
     "iopub.status.idle": "2023-03-22T05:58:07.908336Z",
     "shell.execute_reply": "2023-03-22T05:58:07.907149Z"
    },
    "papermill": {
     "duration": 0.030583,
     "end_time": "2023-03-22T05:58:07.910990",
     "exception": false,
     "start_time": "2023-03-22T05:58:07.880407",
     "status": "completed"
    },
    "tags": []
   },
   "outputs": [
    {
     "data": {
      "text/plain": [
       "<4179x8011 sparse matrix of type '<class 'numpy.int64'>'\n",
       "\twith 35126 stored elements in Compressed Sparse Row format>"
      ]
     },
     "execution_count": 31,
     "metadata": {},
     "output_type": "execute_result"
    }
   ],
   "source": [
    "X_train_dtm"
   ]
  },
  {
   "cell_type": "markdown",
   "id": "ad72797c",
   "metadata": {
    "papermill": {
     "duration": 0.019054,
     "end_time": "2023-03-22T05:58:07.949967",
     "exception": false,
     "start_time": "2023-03-22T05:58:07.930913",
     "status": "completed"
    },
    "tags": []
   },
   "source": [
    "#### Transformation Analysis\n",
    "\n",
    "<i>I can verify the data transformation was successful, as both X_train and X_test<br>\n",
    "produce the same output for columns [rows x colunmns]</i>\n",
    "    \n",
    "* X_test_dtm\n",
    "    * 1393 x **8011**\n",
    "* X_train_dtm\n",
    "    * 4197 x **8011**"
   ]
  },
  {
   "cell_type": "markdown",
   "id": "585364e6",
   "metadata": {
    "papermill": {
     "duration": 0.019052,
     "end_time": "2023-03-22T05:58:07.988215",
     "exception": false,
     "start_time": "2023-03-22T05:58:07.969163",
     "status": "completed"
    },
    "tags": []
   },
   "source": [
    "## Create Naive Bayes Model"
   ]
  },
  {
   "cell_type": "code",
   "execution_count": 32,
   "id": "f27f140d",
   "metadata": {
    "execution": {
     "iopub.execute_input": "2023-03-22T05:58:08.029628Z",
     "iopub.status.busy": "2023-03-22T05:58:08.029170Z",
     "iopub.status.idle": "2023-03-22T05:58:08.051779Z",
     "shell.execute_reply": "2023-03-22T05:58:08.050584Z"
    },
    "papermill": {
     "duration": 0.046344,
     "end_time": "2023-03-22T05:58:08.054283",
     "exception": false,
     "start_time": "2023-03-22T05:58:08.007939",
     "status": "completed"
    },
    "tags": []
   },
   "outputs": [
    {
     "data": {
      "text/plain": [
       "MultinomialNB()"
      ]
     },
     "execution_count": 32,
     "metadata": {},
     "output_type": "execute_result"
    }
   ],
   "source": [
    "from sklearn.naive_bayes import MultinomialNB \n",
    "\n",
    "nb = MultinomialNB()          #create instance\n",
    "nb.fit(X_train_dtm, y_train)  #fit model"
   ]
  },
  {
   "cell_type": "markdown",
   "id": "a425501a",
   "metadata": {
    "papermill": {
     "duration": 0.019381,
     "end_time": "2023-03-22T05:58:08.093597",
     "exception": false,
     "start_time": "2023-03-22T05:58:08.074216",
     "status": "completed"
    },
    "tags": []
   },
   "source": [
    "## Make Predictions"
   ]
  },
  {
   "cell_type": "code",
   "execution_count": 33,
   "id": "98ded809",
   "metadata": {
    "execution": {
     "iopub.execute_input": "2023-03-22T05:58:08.134912Z",
     "iopub.status.busy": "2023-03-22T05:58:08.134083Z",
     "iopub.status.idle": "2023-03-22T05:58:08.141697Z",
     "shell.execute_reply": "2023-03-22T05:58:08.140823Z"
    },
    "papermill": {
     "duration": 0.030648,
     "end_time": "2023-03-22T05:58:08.143802",
     "exception": false,
     "start_time": "2023-03-22T05:58:08.113154",
     "status": "completed"
    },
    "tags": []
   },
   "outputs": [
    {
     "data": {
      "text/plain": [
       "array([0, 0, 0, 0, 0, 0, 0, 0, 0, 0, 0, 0, 0, 0, 1])"
      ]
     },
     "execution_count": 33,
     "metadata": {},
     "output_type": "execute_result"
    }
   ],
   "source": [
    "y_pred_class = nb.predict(X_test_dtm)     #make prediction for entire testing set\n",
    "\n",
    "y_pred_class[:15]                         #return first 15 predictions"
   ]
  },
  {
   "cell_type": "markdown",
   "id": "cf7c46c6",
   "metadata": {
    "papermill": {
     "duration": 0.019183,
     "end_time": "2023-03-22T05:58:08.182913",
     "exception": false,
     "start_time": "2023-03-22T05:58:08.163730",
     "status": "completed"
    },
    "tags": []
   },
   "source": [
    "### Prediction Analysis [1 of 2]\n",
    "\n",
    "Reminder: 0 is Ham, 1 is Spam\n",
    "\n",
    "According to this prediction, the fifteenth message (at array location 14) should be spam. We can check this by printing the fifteenth message:"
   ]
  },
  {
   "cell_type": "markdown",
   "id": "3a6d5824",
   "metadata": {
    "papermill": {
     "duration": 0.019352,
     "end_time": "2023-03-22T05:58:08.221923",
     "exception": false,
     "start_time": "2023-03-22T05:58:08.202571",
     "status": "completed"
    },
    "tags": []
   },
   "source": [
    "### Prediction Analysis [2 of 2]\n",
    "\n",
    "Judging from this short snippet, it appears that the prediction was correct - this message is Spam"
   ]
  },
  {
   "cell_type": "markdown",
   "id": "198d3b1e",
   "metadata": {
    "papermill": {
     "duration": 0.019264,
     "end_time": "2023-03-22T05:58:08.260825",
     "exception": false,
     "start_time": "2023-03-22T05:58:08.241561",
     "status": "completed"
    },
    "tags": []
   },
   "source": [
    "## Check Accuracy"
   ]
  },
  {
   "cell_type": "code",
   "execution_count": 34,
   "id": "6e2ceed4",
   "metadata": {
    "execution": {
     "iopub.execute_input": "2023-03-22T05:58:08.301842Z",
     "iopub.status.busy": "2023-03-22T05:58:08.301408Z",
     "iopub.status.idle": "2023-03-22T05:58:08.309640Z",
     "shell.execute_reply": "2023-03-22T05:58:08.308700Z"
    },
    "papermill": {
     "duration": 0.03153,
     "end_time": "2023-03-22T05:58:08.311903",
     "exception": false,
     "start_time": "2023-03-22T05:58:08.280373",
     "status": "completed"
    },
    "tags": []
   },
   "outputs": [
    {
     "data": {
      "text/plain": [
       "0.9849246231155779"
      ]
     },
     "execution_count": 34,
     "metadata": {},
     "output_type": "execute_result"
    }
   ],
   "source": [
    "from sklearn import metrics\n",
    "\n",
    "metrics.accuracy_score(y_test, y_pred_class)"
   ]
  },
  {
   "cell_type": "code",
   "execution_count": 35,
   "id": "e8dbad97",
   "metadata": {
    "execution": {
     "iopub.execute_input": "2023-03-22T05:58:08.354852Z",
     "iopub.status.busy": "2023-03-22T05:58:08.354130Z",
     "iopub.status.idle": "2023-03-22T05:58:08.364046Z",
     "shell.execute_reply": "2023-03-22T05:58:08.362765Z"
    },
    "papermill": {
     "duration": 0.034863,
     "end_time": "2023-03-22T05:58:08.366748",
     "exception": false,
     "start_time": "2023-03-22T05:58:08.331885",
     "status": "completed"
    },
    "tags": []
   },
   "outputs": [
    {
     "data": {
      "text/plain": [
       "array([[1200,    7],\n",
       "       [  14,  172]])"
      ]
     },
     "execution_count": 35,
     "metadata": {},
     "output_type": "execute_result"
    }
   ],
   "source": [
    "metrics.confusion_matrix(y_test, y_pred_class)"
   ]
  },
  {
   "cell_type": "markdown",
   "id": "9d2b1e85",
   "metadata": {
    "papermill": {
     "duration": 0.020486,
     "end_time": "2023-03-22T05:58:08.407948",
     "exception": false,
     "start_time": "2023-03-22T05:58:08.387462",
     "status": "completed"
    },
    "tags": []
   },
   "source": [
    "### Confusion Matrix Analysis\n",
    "\n",
    "|                 | Predicted Value<br>[0] | Predicted Value<br>[1] |\n",
    "| --------------- | ---------------------- | ---------------------- |\n",
    "| True Value [0]  | Prediction Correct     | Prediction Incorrect   |\n",
    "| True Value [1]  | Prediction Incorrect   | Prediction Correct     |\n",
    "\n",
    "| P, T | 0           | 1           |\n",
    "| ---- | ----------- | ----------- |\n",
    "| 0    | <b>0, 0</b> | 1, 0        |\n",
    "| 1    | 0, 1        | <b>1, 1</b> |\n",
    "\n",
    "Therefore, the stats above state the following\n",
    "\n",
    "| | |\n",
    "| ---------------------------------------------------- | -------------------------------------------------- |\n",
    "| 1200 Predicted HAM Correctly                         | 7 Predicted SPAM incorrectly,<br> was actually HAM |\n",
    "| 14 Predicted HAM incorrectly,<br> was actually SPAM  | 172 Predicted SPAM Correctly                       |\n"
   ]
  },
  {
   "cell_type": "markdown",
   "id": "3c17dedb",
   "metadata": {
    "papermill": {
     "duration": 0.019708,
     "end_time": "2023-03-22T05:58:08.448251",
     "exception": false,
     "start_time": "2023-03-22T05:58:08.428543",
     "status": "completed"
    },
    "tags": []
   },
   "source": [
    "### Verify Specific Predictions"
   ]
  },
  {
   "cell_type": "code",
   "execution_count": 36,
   "id": "f76bd704",
   "metadata": {
    "execution": {
     "iopub.execute_input": "2023-03-22T05:58:08.490306Z",
     "iopub.status.busy": "2023-03-22T05:58:08.489253Z",
     "iopub.status.idle": "2023-03-22T05:58:08.497663Z",
     "shell.execute_reply": "2023-03-22T05:58:08.496479Z"
    },
    "papermill": {
     "duration": 0.032123,
     "end_time": "2023-03-22T05:58:08.500172",
     "exception": false,
     "start_time": "2023-03-22T05:58:08.468049",
     "status": "completed"
    },
    "tags": []
   },
   "outputs": [
    {
     "data": {
      "text/plain": [
       "3142                                  customer place call\n",
       "3328                                     number u live 11\n",
       "387                                   customer place call\n",
       "670                                         u receive msg\n",
       "75                               waiting machan call free\n",
       "1260    sent jd customer service cum accounts executiv...\n",
       "2173         yavnt tried yet never played original either\n",
       "Name: sms_clean, dtype: object"
      ]
     },
     "execution_count": 36,
     "metadata": {},
     "output_type": "execute_result"
    }
   ],
   "source": [
    "X_test[y_pred_class > y_test]   #view all predictions of SPAM (1) where it was actually HAM (0)"
   ]
  },
  {
   "cell_type": "code",
   "execution_count": 37,
   "id": "7729e6b2",
   "metadata": {
    "execution": {
     "iopub.execute_input": "2023-03-22T05:58:08.543361Z",
     "iopub.status.busy": "2023-03-22T05:58:08.542694Z",
     "iopub.status.idle": "2023-03-22T05:58:08.550810Z",
     "shell.execute_reply": "2023-03-22T05:58:08.549906Z"
    },
    "papermill": {
     "duration": 0.032537,
     "end_time": "2023-03-22T05:58:08.552976",
     "exception": false,
     "start_time": "2023-03-22T05:58:08.520439",
     "status": "completed"
    },
    "tags": []
   },
   "outputs": [
    {
     "data": {
      "text/plain": [
       "3864    oh god ive found number glad text back xafter ...\n",
       "2575    next amazing xxx picsfree1 video sent enjoy on...\n",
       "2402    babe u want dont u baby nasty thing 4 filthygu...\n",
       "2663    hello darling today would love chat dont tell ...\n",
       "751     realize 40 years well thousands old ladies run...\n",
       "3463    bloomberg message center 447797706009 wait app...\n",
       "3885    link picture sent also use httpalto18coukwavew...\n",
       "3755    bloomberg message center 447797706009 wait app...\n",
       "856     talk sexy make new friends fall love worlds di...\n",
       "3360         sorry missed call lets talk time 07090201529\n",
       "3425    new 2 club dont fink met yet b gr8 2 c u pleas...\n",
       "731     email alertfrom jeri stewartsize 2kbsubject lo...\n",
       "1893    call 09090900040 listen extreme dirty live cha...\n",
       "68               hear new divorce barbie comes kens stuff\n",
       "Name: sms_clean, dtype: object"
      ]
     },
     "execution_count": 37,
     "metadata": {},
     "output_type": "execute_result"
    }
   ],
   "source": [
    "X_test[y_pred_class < y_test]   #view all predictions of HAM (0) where it was actually SPAM (1)"
   ]
  }
 ],
 "metadata": {
  "kernelspec": {
   "display_name": "Python 3",
   "language": "python",
   "name": "python3"
  },
  "language_info": {
   "codemirror_mode": {
    "name": "ipython",
    "version": 3
   },
   "file_extension": ".py",
   "mimetype": "text/x-python",
   "name": "python",
   "nbconvert_exporter": "python",
   "pygments_lexer": "ipython3",
   "version": "3.7.12"
  },
  "papermill": {
   "default_parameters": {},
   "duration": 18.291853,
   "end_time": "2023-03-22T05:58:09.395137",
   "environment_variables": {},
   "exception": null,
   "input_path": "__notebook__.ipynb",
   "output_path": "__notebook__.ipynb",
   "parameters": {},
   "start_time": "2023-03-22T05:57:51.103284",
   "version": "2.4.0"
  }
 },
 "nbformat": 4,
 "nbformat_minor": 5
}
