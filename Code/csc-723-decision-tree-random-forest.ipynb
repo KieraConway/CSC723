{
 "cells": [
  {
   "cell_type": "markdown",
   "id": "c714ab5f",
   "metadata": {
    "_cell_guid": "b1076dfc-b9ad-4769-8c92-a6c4dae69d19",
    "_uuid": "8f2839f25d086af736a60e9eeb907d3b93b6e0e5",
    "papermill": {
     "duration": 0.01999,
     "end_time": "2023-03-23T06:10:22.946770",
     "exception": false,
     "start_time": "2023-03-23T06:10:22.926780",
     "status": "completed"
    },
    "tags": []
   },
   "source": [
    "# <center>CSC 723 Final Project</center>\n",
    "Project Code 3: Decision Tree\n",
    "\n",
    "&emsp; Version 3.0<br> \n",
    "&emsp; March 2023\n",
    "\n",
    "&emsp; CSC 723<br>\n",
    "&emsp; Machine Learning for Cyber Security<br>\n",
    "&emsp; Dakota State University\n",
    "\n",
    "Robert Chavez<br>\n",
    "Kiera Conway"
   ]
  },
  {
   "cell_type": "markdown",
   "id": "cdaf3db4",
   "metadata": {
    "papermill": {
     "duration": 0.019454,
     "end_time": "2023-03-23T06:10:22.984331",
     "exception": false,
     "start_time": "2023-03-23T06:10:22.964877",
     "status": "completed"
    },
    "tags": []
   },
   "source": [
    "--------"
   ]
  },
  {
   "cell_type": "markdown",
   "id": "614a42ea",
   "metadata": {
    "papermill": {
     "duration": 0.017536,
     "end_time": "2023-03-23T06:10:23.019651",
     "exception": false,
     "start_time": "2023-03-23T06:10:23.002115",
     "status": "completed"
    },
    "tags": []
   },
   "source": [
    "## Import Data\n",
    "### Libraries"
   ]
  },
  {
   "cell_type": "code",
   "execution_count": 1,
   "id": "04e14ff7",
   "metadata": {
    "execution": {
     "iopub.execute_input": "2023-03-23T06:10:23.057817Z",
     "iopub.status.busy": "2023-03-23T06:10:23.057034Z",
     "iopub.status.idle": "2023-03-23T06:10:23.066806Z",
     "shell.execute_reply": "2023-03-23T06:10:23.065812Z"
    },
    "papermill": {
     "duration": 0.032067,
     "end_time": "2023-03-23T06:10:23.069400",
     "exception": false,
     "start_time": "2023-03-23T06:10:23.037333",
     "status": "completed"
    },
    "tags": []
   },
   "outputs": [],
   "source": [
    "import numpy as np   # array mathematical operations library\n",
    "import pandas as pd  # data analysis library3"
   ]
  },
  {
   "cell_type": "markdown",
   "id": "3d424824",
   "metadata": {
    "papermill": {
     "duration": 0.017954,
     "end_time": "2023-03-23T06:10:23.105914",
     "exception": false,
     "start_time": "2023-03-23T06:10:23.087960",
     "status": "completed"
    },
    "tags": []
   },
   "source": [
    "### Data Set"
   ]
  },
  {
   "cell_type": "code",
   "execution_count": 2,
   "id": "a5bb01c8",
   "metadata": {
    "execution": {
     "iopub.execute_input": "2023-03-23T06:10:23.146191Z",
     "iopub.status.busy": "2023-03-23T06:10:23.145389Z",
     "iopub.status.idle": "2023-03-23T06:10:23.182241Z",
     "shell.execute_reply": "2023-03-23T06:10:23.181012Z"
    },
    "papermill": {
     "duration": 0.060532,
     "end_time": "2023-03-23T06:10:23.185177",
     "exception": false,
     "start_time": "2023-03-23T06:10:23.124645",
     "status": "completed"
    },
    "tags": []
   },
   "outputs": [],
   "source": [
    "# Set File Path\n",
    "file_path = '/kaggle/input/spam-or-ham/SMSCollection.csv'\n",
    "\n",
    "# Obtain Data from File Path\n",
    "sms_data = pd.read_csv(file_path)"
   ]
  },
  {
   "cell_type": "markdown",
   "id": "349ea193",
   "metadata": {
    "papermill": {
     "duration": 0.017767,
     "end_time": "2023-03-23T06:10:23.221278",
     "exception": false,
     "start_time": "2023-03-23T06:10:23.203511",
     "status": "completed"
    },
    "tags": []
   },
   "source": [
    "## Review Dataset\n",
    "### Dataset Information"
   ]
  },
  {
   "cell_type": "code",
   "execution_count": 3,
   "id": "f196f7bb",
   "metadata": {
    "execution": {
     "iopub.execute_input": "2023-03-23T06:10:23.259857Z",
     "iopub.status.busy": "2023-03-23T06:10:23.259121Z",
     "iopub.status.idle": "2023-03-23T06:10:23.289043Z",
     "shell.execute_reply": "2023-03-23T06:10:23.287719Z"
    },
    "papermill": {
     "duration": 0.053302,
     "end_time": "2023-03-23T06:10:23.292567",
     "exception": false,
     "start_time": "2023-03-23T06:10:23.239265",
     "status": "completed"
    },
    "tags": []
   },
   "outputs": [
    {
     "name": "stdout",
     "output_type": "stream",
     "text": [
      "<class 'pandas.core.frame.DataFrame'>\n",
      "RangeIndex: 5572 entries, 0 to 5571\n",
      "Data columns (total 2 columns):\n",
      " #   Column  Non-Null Count  Dtype \n",
      "---  ------  --------------  ----- \n",
      " 0   Class   5572 non-null   object\n",
      " 1   sms     5572 non-null   object\n",
      "dtypes: object(2)\n",
      "memory usage: 87.2+ KB\n"
     ]
    }
   ],
   "source": [
    "# General Information\n",
    "sms_data.info()"
   ]
  },
  {
   "cell_type": "code",
   "execution_count": 4,
   "id": "b0fea3bd",
   "metadata": {
    "execution": {
     "iopub.execute_input": "2023-03-23T06:10:23.332796Z",
     "iopub.status.busy": "2023-03-23T06:10:23.331710Z",
     "iopub.status.idle": "2023-03-23T06:10:23.344713Z",
     "shell.execute_reply": "2023-03-23T06:10:23.343300Z"
    },
    "papermill": {
     "duration": 0.036685,
     "end_time": "2023-03-23T06:10:23.347725",
     "exception": false,
     "start_time": "2023-03-23T06:10:23.311040",
     "status": "completed"
    },
    "tags": []
   },
   "outputs": [
    {
     "data": {
      "text/plain": [
       "Class    0\n",
       "sms      0\n",
       "dtype: int64"
      ]
     },
     "execution_count": 4,
     "metadata": {},
     "output_type": "execute_result"
    }
   ],
   "source": [
    "# Check for null values\n",
    "sms_data.isnull().sum()"
   ]
  },
  {
   "cell_type": "code",
   "execution_count": 5,
   "id": "ae295264",
   "metadata": {
    "execution": {
     "iopub.execute_input": "2023-03-23T06:10:23.387422Z",
     "iopub.status.busy": "2023-03-23T06:10:23.386925Z",
     "iopub.status.idle": "2023-03-23T06:10:23.414474Z",
     "shell.execute_reply": "2023-03-23T06:10:23.412994Z"
    },
    "papermill": {
     "duration": 0.050541,
     "end_time": "2023-03-23T06:10:23.417341",
     "exception": false,
     "start_time": "2023-03-23T06:10:23.366800",
     "status": "completed"
    },
    "tags": []
   },
   "outputs": [
    {
     "data": {
      "text/html": [
       "<div>\n",
       "<style scoped>\n",
       "    .dataframe tbody tr th:only-of-type {\n",
       "        vertical-align: middle;\n",
       "    }\n",
       "\n",
       "    .dataframe tbody tr th {\n",
       "        vertical-align: top;\n",
       "    }\n",
       "\n",
       "    .dataframe thead th {\n",
       "        text-align: right;\n",
       "    }\n",
       "</style>\n",
       "<table border=\"1\" class=\"dataframe\">\n",
       "  <thead>\n",
       "    <tr style=\"text-align: right;\">\n",
       "      <th></th>\n",
       "      <th>Class</th>\n",
       "      <th>sms</th>\n",
       "    </tr>\n",
       "  </thead>\n",
       "  <tbody>\n",
       "    <tr>\n",
       "      <th>0</th>\n",
       "      <td>ham</td>\n",
       "      <td>Go until jurong point, crazy.. Available only ...</td>\n",
       "    </tr>\n",
       "    <tr>\n",
       "      <th>1</th>\n",
       "      <td>ham</td>\n",
       "      <td>Ok lar... Joking wif u oni...</td>\n",
       "    </tr>\n",
       "    <tr>\n",
       "      <th>2</th>\n",
       "      <td>spam</td>\n",
       "      <td>Free entry in 2 a wkly comp to win FA Cup fina...</td>\n",
       "    </tr>\n",
       "    <tr>\n",
       "      <th>3</th>\n",
       "      <td>ham</td>\n",
       "      <td>U dun say so early hor... U c already then say...</td>\n",
       "    </tr>\n",
       "    <tr>\n",
       "      <th>4</th>\n",
       "      <td>ham</td>\n",
       "      <td>Nah I don't think he goes to usf, he lives aro...</td>\n",
       "    </tr>\n",
       "    <tr>\n",
       "      <th>...</th>\n",
       "      <td>...</td>\n",
       "      <td>...</td>\n",
       "    </tr>\n",
       "    <tr>\n",
       "      <th>5567</th>\n",
       "      <td>spam</td>\n",
       "      <td>This is the 2nd time we have tried 2 contact u...</td>\n",
       "    </tr>\n",
       "    <tr>\n",
       "      <th>5568</th>\n",
       "      <td>ham</td>\n",
       "      <td>Will ü b going to esplanade fr home?</td>\n",
       "    </tr>\n",
       "    <tr>\n",
       "      <th>5569</th>\n",
       "      <td>ham</td>\n",
       "      <td>Pity, * was in mood for that. So...any other s...</td>\n",
       "    </tr>\n",
       "    <tr>\n",
       "      <th>5570</th>\n",
       "      <td>ham</td>\n",
       "      <td>The guy did some bitching but I acted like i'd...</td>\n",
       "    </tr>\n",
       "    <tr>\n",
       "      <th>5571</th>\n",
       "      <td>ham</td>\n",
       "      <td>Rofl. Its true to its name</td>\n",
       "    </tr>\n",
       "  </tbody>\n",
       "</table>\n",
       "<p>5572 rows × 2 columns</p>\n",
       "</div>"
      ],
      "text/plain": [
       "     Class                                                sms\n",
       "0      ham  Go until jurong point, crazy.. Available only ...\n",
       "1      ham                      Ok lar... Joking wif u oni...\n",
       "2     spam  Free entry in 2 a wkly comp to win FA Cup fina...\n",
       "3      ham  U dun say so early hor... U c already then say...\n",
       "4      ham  Nah I don't think he goes to usf, he lives aro...\n",
       "...    ...                                                ...\n",
       "5567  spam  This is the 2nd time we have tried 2 contact u...\n",
       "5568   ham               Will ü b going to esplanade fr home?\n",
       "5569   ham  Pity, * was in mood for that. So...any other s...\n",
       "5570   ham  The guy did some bitching but I acted like i'd...\n",
       "5571   ham                         Rofl. Its true to its name\n",
       "\n",
       "[5572 rows x 2 columns]"
      ]
     },
     "execution_count": 5,
     "metadata": {},
     "output_type": "execute_result"
    }
   ],
   "source": [
    "# View first and last 5 Observations\n",
    "sms_data"
   ]
  },
  {
   "cell_type": "code",
   "execution_count": 6,
   "id": "4ef2682f",
   "metadata": {
    "execution": {
     "iopub.execute_input": "2023-03-23T06:10:23.457641Z",
     "iopub.status.busy": "2023-03-23T06:10:23.456545Z",
     "iopub.status.idle": "2023-03-23T06:10:23.464695Z",
     "shell.execute_reply": "2023-03-23T06:10:23.463067Z"
    },
    "papermill": {
     "duration": 0.03129,
     "end_time": "2023-03-23T06:10:23.467580",
     "exception": false,
     "start_time": "2023-03-23T06:10:23.436290",
     "status": "completed"
    },
    "tags": []
   },
   "outputs": [
    {
     "name": "stdout",
     "output_type": "stream",
     "text": [
      "spam\n",
      "07732584351 - Rodger Burns - MSG = We tried to call you re your reply to our sms for a free nokia mobile + free camcorder. Please call now 08000930705 for delivery tomorrow\n"
     ]
    }
   ],
   "source": [
    "# View Example Message\n",
    "print(sms_data.Class[42])      # view variable 2 (message) of 72nd message\n",
    "print(sms_data.sms[42])      # view variable 1 (spam/ham) of 72nd message"
   ]
  },
  {
   "cell_type": "code",
   "execution_count": 7,
   "id": "9fe5eda5",
   "metadata": {
    "execution": {
     "iopub.execute_input": "2023-03-23T06:10:23.507330Z",
     "iopub.status.busy": "2023-03-23T06:10:23.506833Z",
     "iopub.status.idle": "2023-03-23T06:10:23.527883Z",
     "shell.execute_reply": "2023-03-23T06:10:23.526540Z"
    },
    "papermill": {
     "duration": 0.04399,
     "end_time": "2023-03-23T06:10:23.530336",
     "exception": false,
     "start_time": "2023-03-23T06:10:23.486346",
     "status": "completed"
    },
    "tags": []
   },
   "outputs": [
    {
     "data": {
      "text/html": [
       "<div>\n",
       "<style scoped>\n",
       "    .dataframe tbody tr th:only-of-type {\n",
       "        vertical-align: middle;\n",
       "    }\n",
       "\n",
       "    .dataframe tbody tr th {\n",
       "        vertical-align: top;\n",
       "    }\n",
       "\n",
       "    .dataframe thead th {\n",
       "        text-align: right;\n",
       "    }\n",
       "</style>\n",
       "<table border=\"1\" class=\"dataframe\">\n",
       "  <thead>\n",
       "    <tr style=\"text-align: right;\">\n",
       "      <th></th>\n",
       "      <th>Class</th>\n",
       "      <th>sms</th>\n",
       "    </tr>\n",
       "  </thead>\n",
       "  <tbody>\n",
       "    <tr>\n",
       "      <th>count</th>\n",
       "      <td>5572</td>\n",
       "      <td>5572</td>\n",
       "    </tr>\n",
       "    <tr>\n",
       "      <th>unique</th>\n",
       "      <td>2</td>\n",
       "      <td>5169</td>\n",
       "    </tr>\n",
       "    <tr>\n",
       "      <th>top</th>\n",
       "      <td>ham</td>\n",
       "      <td>Sorry, I'll call later</td>\n",
       "    </tr>\n",
       "    <tr>\n",
       "      <th>freq</th>\n",
       "      <td>4825</td>\n",
       "      <td>30</td>\n",
       "    </tr>\n",
       "  </tbody>\n",
       "</table>\n",
       "</div>"
      ],
      "text/plain": [
       "       Class                     sms\n",
       "count   5572                    5572\n",
       "unique     2                    5169\n",
       "top      ham  Sorry, I'll call later\n",
       "freq    4825                      30"
      ]
     },
     "execution_count": 7,
     "metadata": {},
     "output_type": "execute_result"
    }
   ],
   "source": [
    "# Statistical Information\n",
    "sms_data.describe()"
   ]
  },
  {
   "cell_type": "markdown",
   "id": "fb3cd250",
   "metadata": {
    "papermill": {
     "duration": 0.018277,
     "end_time": "2023-03-23T06:10:23.567441",
     "exception": false,
     "start_time": "2023-03-23T06:10:23.549164",
     "status": "completed"
    },
    "tags": []
   },
   "source": [
    "### Analyze Information\n",
    "\n",
    "#### .describe() Key\n",
    "\n",
    "| Title  | Definition                                 | \n",
    "| ------ | --------                                   |\n",
    "| Count  | Count/Occurences of each feature           | \n",
    "| Unique | The number of possible unique observations |\n",
    "| Top    | The most frequent value                    | \n",
    "| Freq   | The frequency of the top value             | \n",
    "\n",
    "#### Data Analysis\n",
    "\n",
    "The features of this dataset are 'Class' and 'sms', where 'Class' indicates whether the message is `spam` or a valid sms message, `ham` and 'sms' contains the corresponding message.\n",
    "\n",
    "The count values above shows us there are 5572 non-null data enteries in each feature. As each feature contains the same count value, we can conclude there are no missing data points that we need to trim. \n",
    "\n",
    "The unique value of 2 under the Class feature verifies all messages are either `spam` or `ham`, and contain no erroneous values. Since the sms feature contains a unique value of 5169, which is less than 5572, we can assume that some messages are identical.\n",
    "\n",
    "The top and freq values under Class show us that most messages are categorized as `ham`, with 4825 occurences. We can therefore determine there are 747 remaining messages categorized as `spam`. The top and freq values under sms confirm the previous hypothesis that some messages are identical; we can see that the most frequent message, occuring 30 times, contains the text \"Sorry, I'll call later\"\n",
    "\n",
    "Using this information, we can identify the format of our data, determine its completeness, and verify the values contained are expected."
   ]
  },
  {
   "cell_type": "markdown",
   "id": "a3ad396e",
   "metadata": {
    "papermill": {
     "duration": 0.018289,
     "end_time": "2023-03-23T06:10:23.604594",
     "exception": false,
     "start_time": "2023-03-23T06:10:23.586305",
     "status": "completed"
    },
    "tags": []
   },
   "source": [
    "## Modify Data\n",
    "### Create Column: Numerical Representation for Spam/Ham"
   ]
  },
  {
   "cell_type": "code",
   "execution_count": 8,
   "id": "f4b1b6fc",
   "metadata": {
    "execution": {
     "iopub.execute_input": "2023-03-23T06:10:23.644747Z",
     "iopub.status.busy": "2023-03-23T06:10:23.643499Z",
     "iopub.status.idle": "2023-03-23T06:10:23.656163Z",
     "shell.execute_reply": "2023-03-23T06:10:23.654806Z"
    },
    "papermill": {
     "duration": 0.035482,
     "end_time": "2023-03-23T06:10:23.658703",
     "exception": false,
     "start_time": "2023-03-23T06:10:23.623221",
     "status": "completed"
    },
    "tags": []
   },
   "outputs": [
    {
     "name": "stdout",
     "output_type": "stream",
     "text": [
      "Before Modification:\n",
      "\n"
     ]
    },
    {
     "data": {
      "text/html": [
       "<div>\n",
       "<style scoped>\n",
       "    .dataframe tbody tr th:only-of-type {\n",
       "        vertical-align: middle;\n",
       "    }\n",
       "\n",
       "    .dataframe tbody tr th {\n",
       "        vertical-align: top;\n",
       "    }\n",
       "\n",
       "    .dataframe thead th {\n",
       "        text-align: right;\n",
       "    }\n",
       "</style>\n",
       "<table border=\"1\" class=\"dataframe\">\n",
       "  <thead>\n",
       "    <tr style=\"text-align: right;\">\n",
       "      <th></th>\n",
       "      <th>Class</th>\n",
       "      <th>sms</th>\n",
       "    </tr>\n",
       "  </thead>\n",
       "  <tbody>\n",
       "    <tr>\n",
       "      <th>0</th>\n",
       "      <td>ham</td>\n",
       "      <td>Go until jurong point, crazy.. Available only ...</td>\n",
       "    </tr>\n",
       "    <tr>\n",
       "      <th>1</th>\n",
       "      <td>ham</td>\n",
       "      <td>Ok lar... Joking wif u oni...</td>\n",
       "    </tr>\n",
       "    <tr>\n",
       "      <th>2</th>\n",
       "      <td>spam</td>\n",
       "      <td>Free entry in 2 a wkly comp to win FA Cup fina...</td>\n",
       "    </tr>\n",
       "    <tr>\n",
       "      <th>3</th>\n",
       "      <td>ham</td>\n",
       "      <td>U dun say so early hor... U c already then say...</td>\n",
       "    </tr>\n",
       "    <tr>\n",
       "      <th>4</th>\n",
       "      <td>ham</td>\n",
       "      <td>Nah I don't think he goes to usf, he lives aro...</td>\n",
       "    </tr>\n",
       "  </tbody>\n",
       "</table>\n",
       "</div>"
      ],
      "text/plain": [
       "  Class                                                sms\n",
       "0   ham  Go until jurong point, crazy.. Available only ...\n",
       "1   ham                      Ok lar... Joking wif u oni...\n",
       "2  spam  Free entry in 2 a wkly comp to win FA Cup fina...\n",
       "3   ham  U dun say so early hor... U c already then say...\n",
       "4   ham  Nah I don't think he goes to usf, he lives aro..."
      ]
     },
     "execution_count": 8,
     "metadata": {},
     "output_type": "execute_result"
    }
   ],
   "source": [
    "# View first 5 Observations\n",
    "print(\"Before Modification:\\n\") \n",
    "sms_data.head()"
   ]
  },
  {
   "cell_type": "code",
   "execution_count": 9,
   "id": "242f4587",
   "metadata": {
    "execution": {
     "iopub.execute_input": "2023-03-23T06:10:23.699912Z",
     "iopub.status.busy": "2023-03-23T06:10:23.699410Z",
     "iopub.status.idle": "2023-03-23T06:10:23.716451Z",
     "shell.execute_reply": "2023-03-23T06:10:23.715042Z"
    },
    "papermill": {
     "duration": 0.041096,
     "end_time": "2023-03-23T06:10:23.718997",
     "exception": false,
     "start_time": "2023-03-23T06:10:23.677901",
     "status": "completed"
    },
    "tags": []
   },
   "outputs": [
    {
     "name": "stdout",
     "output_type": "stream",
     "text": [
      "After Modification:\n",
      "\n"
     ]
    },
    {
     "data": {
      "text/html": [
       "<div>\n",
       "<style scoped>\n",
       "    .dataframe tbody tr th:only-of-type {\n",
       "        vertical-align: middle;\n",
       "    }\n",
       "\n",
       "    .dataframe tbody tr th {\n",
       "        vertical-align: top;\n",
       "    }\n",
       "\n",
       "    .dataframe thead th {\n",
       "        text-align: right;\n",
       "    }\n",
       "</style>\n",
       "<table border=\"1\" class=\"dataframe\">\n",
       "  <thead>\n",
       "    <tr style=\"text-align: right;\">\n",
       "      <th></th>\n",
       "      <th>Class</th>\n",
       "      <th>sms</th>\n",
       "      <th>Class_num</th>\n",
       "    </tr>\n",
       "  </thead>\n",
       "  <tbody>\n",
       "    <tr>\n",
       "      <th>0</th>\n",
       "      <td>ham</td>\n",
       "      <td>Go until jurong point, crazy.. Available only ...</td>\n",
       "      <td>0</td>\n",
       "    </tr>\n",
       "    <tr>\n",
       "      <th>1</th>\n",
       "      <td>ham</td>\n",
       "      <td>Ok lar... Joking wif u oni...</td>\n",
       "      <td>0</td>\n",
       "    </tr>\n",
       "    <tr>\n",
       "      <th>2</th>\n",
       "      <td>spam</td>\n",
       "      <td>Free entry in 2 a wkly comp to win FA Cup fina...</td>\n",
       "      <td>1</td>\n",
       "    </tr>\n",
       "    <tr>\n",
       "      <th>3</th>\n",
       "      <td>ham</td>\n",
       "      <td>U dun say so early hor... U c already then say...</td>\n",
       "      <td>0</td>\n",
       "    </tr>\n",
       "    <tr>\n",
       "      <th>4</th>\n",
       "      <td>ham</td>\n",
       "      <td>Nah I don't think he goes to usf, he lives aro...</td>\n",
       "      <td>0</td>\n",
       "    </tr>\n",
       "  </tbody>\n",
       "</table>\n",
       "</div>"
      ],
      "text/plain": [
       "  Class                                                sms  Class_num\n",
       "0   ham  Go until jurong point, crazy.. Available only ...          0\n",
       "1   ham                      Ok lar... Joking wif u oni...          0\n",
       "2  spam  Free entry in 2 a wkly comp to win FA Cup fina...          1\n",
       "3   ham  U dun say so early hor... U c already then say...          0\n",
       "4   ham  Nah I don't think he goes to usf, he lives aro...          0"
      ]
     },
     "execution_count": 9,
     "metadata": {},
     "output_type": "execute_result"
    }
   ],
   "source": [
    "# Create New Column\n",
    "sms_data['Class_num'] = sms_data.Class.map({'ham':0, 'spam':1})   # Ham becomes 0, Spam becomes 1\n",
    "\n",
    "# View first 5 Observations\n",
    "print(\"After Modification:\\n\") \n",
    "sms_data.head()"
   ]
  },
  {
   "cell_type": "markdown",
   "id": "5fa210e6",
   "metadata": {
    "papermill": {
     "duration": 0.018871,
     "end_time": "2023-03-23T06:10:23.757350",
     "exception": false,
     "start_time": "2023-03-23T06:10:23.738479",
     "status": "completed"
    },
    "tags": []
   },
   "source": [
    "### Create Column: Message Lengths"
   ]
  },
  {
   "cell_type": "code",
   "execution_count": 10,
   "id": "1f43812a",
   "metadata": {
    "execution": {
     "iopub.execute_input": "2023-03-23T06:10:23.798369Z",
     "iopub.status.busy": "2023-03-23T06:10:23.797287Z",
     "iopub.status.idle": "2023-03-23T06:10:23.810899Z",
     "shell.execute_reply": "2023-03-23T06:10:23.809498Z"
    },
    "papermill": {
     "duration": 0.038005,
     "end_time": "2023-03-23T06:10:23.814554",
     "exception": false,
     "start_time": "2023-03-23T06:10:23.776549",
     "status": "completed"
    },
    "tags": []
   },
   "outputs": [
    {
     "name": "stdout",
     "output_type": "stream",
     "text": [
      "Before Modification:\n",
      "\n"
     ]
    },
    {
     "data": {
      "text/html": [
       "<div>\n",
       "<style scoped>\n",
       "    .dataframe tbody tr th:only-of-type {\n",
       "        vertical-align: middle;\n",
       "    }\n",
       "\n",
       "    .dataframe tbody tr th {\n",
       "        vertical-align: top;\n",
       "    }\n",
       "\n",
       "    .dataframe thead th {\n",
       "        text-align: right;\n",
       "    }\n",
       "</style>\n",
       "<table border=\"1\" class=\"dataframe\">\n",
       "  <thead>\n",
       "    <tr style=\"text-align: right;\">\n",
       "      <th></th>\n",
       "      <th>Class</th>\n",
       "      <th>sms</th>\n",
       "      <th>Class_num</th>\n",
       "    </tr>\n",
       "  </thead>\n",
       "  <tbody>\n",
       "    <tr>\n",
       "      <th>0</th>\n",
       "      <td>ham</td>\n",
       "      <td>Go until jurong point, crazy.. Available only ...</td>\n",
       "      <td>0</td>\n",
       "    </tr>\n",
       "    <tr>\n",
       "      <th>1</th>\n",
       "      <td>ham</td>\n",
       "      <td>Ok lar... Joking wif u oni...</td>\n",
       "      <td>0</td>\n",
       "    </tr>\n",
       "    <tr>\n",
       "      <th>2</th>\n",
       "      <td>spam</td>\n",
       "      <td>Free entry in 2 a wkly comp to win FA Cup fina...</td>\n",
       "      <td>1</td>\n",
       "    </tr>\n",
       "    <tr>\n",
       "      <th>3</th>\n",
       "      <td>ham</td>\n",
       "      <td>U dun say so early hor... U c already then say...</td>\n",
       "      <td>0</td>\n",
       "    </tr>\n",
       "    <tr>\n",
       "      <th>4</th>\n",
       "      <td>ham</td>\n",
       "      <td>Nah I don't think he goes to usf, he lives aro...</td>\n",
       "      <td>0</td>\n",
       "    </tr>\n",
       "  </tbody>\n",
       "</table>\n",
       "</div>"
      ],
      "text/plain": [
       "  Class                                                sms  Class_num\n",
       "0   ham  Go until jurong point, crazy.. Available only ...          0\n",
       "1   ham                      Ok lar... Joking wif u oni...          0\n",
       "2  spam  Free entry in 2 a wkly comp to win FA Cup fina...          1\n",
       "3   ham  U dun say so early hor... U c already then say...          0\n",
       "4   ham  Nah I don't think he goes to usf, he lives aro...          0"
      ]
     },
     "execution_count": 10,
     "metadata": {},
     "output_type": "execute_result"
    }
   ],
   "source": [
    "# View first 5 Observations\n",
    "print(\"Before Modification:\\n\") \n",
    "sms_data.head()"
   ]
  },
  {
   "cell_type": "code",
   "execution_count": 11,
   "id": "ebe1b49e",
   "metadata": {
    "execution": {
     "iopub.execute_input": "2023-03-23T06:10:23.857649Z",
     "iopub.status.busy": "2023-03-23T06:10:23.856440Z",
     "iopub.status.idle": "2023-03-23T06:10:23.875289Z",
     "shell.execute_reply": "2023-03-23T06:10:23.873600Z"
    },
    "papermill": {
     "duration": 0.042953,
     "end_time": "2023-03-23T06:10:23.877828",
     "exception": false,
     "start_time": "2023-03-23T06:10:23.834875",
     "status": "completed"
    },
    "tags": []
   },
   "outputs": [
    {
     "name": "stdout",
     "output_type": "stream",
     "text": [
      "After Modification:\n",
      "\n"
     ]
    },
    {
     "data": {
      "text/html": [
       "<div>\n",
       "<style scoped>\n",
       "    .dataframe tbody tr th:only-of-type {\n",
       "        vertical-align: middle;\n",
       "    }\n",
       "\n",
       "    .dataframe tbody tr th {\n",
       "        vertical-align: top;\n",
       "    }\n",
       "\n",
       "    .dataframe thead th {\n",
       "        text-align: right;\n",
       "    }\n",
       "</style>\n",
       "<table border=\"1\" class=\"dataframe\">\n",
       "  <thead>\n",
       "    <tr style=\"text-align: right;\">\n",
       "      <th></th>\n",
       "      <th>Class</th>\n",
       "      <th>sms</th>\n",
       "      <th>Class_num</th>\n",
       "      <th>sms_len</th>\n",
       "    </tr>\n",
       "  </thead>\n",
       "  <tbody>\n",
       "    <tr>\n",
       "      <th>0</th>\n",
       "      <td>ham</td>\n",
       "      <td>Go until jurong point, crazy.. Available only ...</td>\n",
       "      <td>0</td>\n",
       "      <td>111</td>\n",
       "    </tr>\n",
       "    <tr>\n",
       "      <th>1</th>\n",
       "      <td>ham</td>\n",
       "      <td>Ok lar... Joking wif u oni...</td>\n",
       "      <td>0</td>\n",
       "      <td>29</td>\n",
       "    </tr>\n",
       "    <tr>\n",
       "      <th>2</th>\n",
       "      <td>spam</td>\n",
       "      <td>Free entry in 2 a wkly comp to win FA Cup fina...</td>\n",
       "      <td>1</td>\n",
       "      <td>155</td>\n",
       "    </tr>\n",
       "    <tr>\n",
       "      <th>3</th>\n",
       "      <td>ham</td>\n",
       "      <td>U dun say so early hor... U c already then say...</td>\n",
       "      <td>0</td>\n",
       "      <td>49</td>\n",
       "    </tr>\n",
       "    <tr>\n",
       "      <th>4</th>\n",
       "      <td>ham</td>\n",
       "      <td>Nah I don't think he goes to usf, he lives aro...</td>\n",
       "      <td>0</td>\n",
       "      <td>61</td>\n",
       "    </tr>\n",
       "  </tbody>\n",
       "</table>\n",
       "</div>"
      ],
      "text/plain": [
       "  Class                                                sms  Class_num  sms_len\n",
       "0   ham  Go until jurong point, crazy.. Available only ...          0      111\n",
       "1   ham                      Ok lar... Joking wif u oni...          0       29\n",
       "2  spam  Free entry in 2 a wkly comp to win FA Cup fina...          1      155\n",
       "3   ham  U dun say so early hor... U c already then say...          0       49\n",
       "4   ham  Nah I don't think he goes to usf, he lives aro...          0       61"
      ]
     },
     "execution_count": 11,
     "metadata": {},
     "output_type": "execute_result"
    }
   ],
   "source": [
    "# Create New Column\n",
    "sms_data['sms_len'] = sms_data.sms.apply(len)   #apply length counter to each tweet \n",
    "\n",
    "# View first 5 Observations\n",
    "print(\"After Modification:\\n\") \n",
    "sms_data.head()"
   ]
  },
  {
   "cell_type": "markdown",
   "id": "a72fe99f",
   "metadata": {
    "papermill": {
     "duration": 0.020291,
     "end_time": "2023-03-23T06:10:23.918521",
     "exception": false,
     "start_time": "2023-03-23T06:10:23.898230",
     "status": "completed"
    },
    "tags": []
   },
   "source": [
    "## Graph Data"
   ]
  },
  {
   "cell_type": "code",
   "execution_count": 12,
   "id": "5b2db2a3",
   "metadata": {
    "execution": {
     "iopub.execute_input": "2023-03-23T06:10:23.960754Z",
     "iopub.status.busy": "2023-03-23T06:10:23.959829Z",
     "iopub.status.idle": "2023-03-23T06:10:25.848872Z",
     "shell.execute_reply": "2023-03-23T06:10:25.847853Z"
    },
    "papermill": {
     "duration": 1.914421,
     "end_time": "2023-03-23T06:10:25.852847",
     "exception": false,
     "start_time": "2023-03-23T06:10:23.938426",
     "status": "completed"
    },
    "tags": []
   },
   "outputs": [
    {
     "data": {
      "text/plain": [
       "Text(0.5, 0, 'Message Length')"
      ]
     },
     "execution_count": 12,
     "metadata": {},
     "output_type": "execute_result"
    },
    {
     "data": {
      "image/png": "[encoded data removed]",
      "text/plain": [
       "<Figure size 1200x800 with 1 Axes>"
      ]
     },
     "metadata": {},
     "output_type": "display_data"
    }
   ],
   "source": [
    "import matplotlib.pyplot as plt\n",
    "import seaborn as sns              #statistical data visualization\n",
    "\n",
    "sns.set_style('whitegrid')          #set visual style\n",
    "plt.style.use('fivethirtyeight')   #set plot visual style\n",
    "plt.figure(figsize=(12,8))         #set plot size\n",
    "\n",
    "# Plot Ham/ Spam Message Length as Histogram\n",
    "sms_data[sms_data.Class=='ham'].sms_len.plot(bins=35, kind='hist', color='blue', label='Ham Messages', alpha=0.5)\n",
    "sms_data[sms_data.Class=='spam'].sms_len.plot(kind='hist', color='red', label='Spam Messages', alpha=0.5)\n",
    "\n",
    "plt.legend()\n",
    "plt.xlabel(\"Message Length\")"
   ]
  },
  {
   "cell_type": "markdown",
   "id": "c6e7201b",
   "metadata": {
    "papermill": {
     "duration": 0.027979,
     "end_time": "2023-03-23T06:10:25.912354",
     "exception": false,
     "start_time": "2023-03-23T06:10:25.884375",
     "status": "completed"
    },
    "tags": []
   },
   "source": [
    "## Analyze Data\n",
    "### Complete Data Set"
   ]
  },
  {
   "cell_type": "code",
   "execution_count": 13,
   "id": "f74114ea",
   "metadata": {
    "execution": {
     "iopub.execute_input": "2023-03-23T06:10:25.959441Z",
     "iopub.status.busy": "2023-03-23T06:10:25.958767Z",
     "iopub.status.idle": "2023-03-23T06:10:25.980678Z",
     "shell.execute_reply": "2023-03-23T06:10:25.979755Z"
    },
    "papermill": {
     "duration": 0.049445,
     "end_time": "2023-03-23T06:10:25.982977",
     "exception": false,
     "start_time": "2023-03-23T06:10:25.933532",
     "status": "completed"
    },
    "tags": []
   },
   "outputs": [
    {
     "data": {
      "text/html": [
       "<div>\n",
       "<style scoped>\n",
       "    .dataframe tbody tr th:only-of-type {\n",
       "        vertical-align: middle;\n",
       "    }\n",
       "\n",
       "    .dataframe tbody tr th {\n",
       "        vertical-align: top;\n",
       "    }\n",
       "\n",
       "    .dataframe thead th {\n",
       "        text-align: right;\n",
       "    }\n",
       "</style>\n",
       "<table border=\"1\" class=\"dataframe\">\n",
       "  <thead>\n",
       "    <tr style=\"text-align: right;\">\n",
       "      <th></th>\n",
       "      <th>Class_num</th>\n",
       "      <th>sms_len</th>\n",
       "    </tr>\n",
       "  </thead>\n",
       "  <tbody>\n",
       "    <tr>\n",
       "      <th>count</th>\n",
       "      <td>5572.000000</td>\n",
       "      <td>5572.000000</td>\n",
       "    </tr>\n",
       "    <tr>\n",
       "      <th>mean</th>\n",
       "      <td>0.134063</td>\n",
       "      <td>80.489950</td>\n",
       "    </tr>\n",
       "    <tr>\n",
       "      <th>std</th>\n",
       "      <td>0.340751</td>\n",
       "      <td>59.942907</td>\n",
       "    </tr>\n",
       "    <tr>\n",
       "      <th>min</th>\n",
       "      <td>0.000000</td>\n",
       "      <td>2.000000</td>\n",
       "    </tr>\n",
       "    <tr>\n",
       "      <th>25%</th>\n",
       "      <td>0.000000</td>\n",
       "      <td>36.000000</td>\n",
       "    </tr>\n",
       "    <tr>\n",
       "      <th>50%</th>\n",
       "      <td>0.000000</td>\n",
       "      <td>62.000000</td>\n",
       "    </tr>\n",
       "    <tr>\n",
       "      <th>75%</th>\n",
       "      <td>0.000000</td>\n",
       "      <td>122.000000</td>\n",
       "    </tr>\n",
       "    <tr>\n",
       "      <th>max</th>\n",
       "      <td>1.000000</td>\n",
       "      <td>910.000000</td>\n",
       "    </tr>\n",
       "  </tbody>\n",
       "</table>\n",
       "</div>"
      ],
      "text/plain": [
       "         Class_num      sms_len\n",
       "count  5572.000000  5572.000000\n",
       "mean      0.134063    80.489950\n",
       "std       0.340751    59.942907\n",
       "min       0.000000     2.000000\n",
       "25%       0.000000    36.000000\n",
       "50%       0.000000    62.000000\n",
       "75%       0.000000   122.000000\n",
       "max       1.000000   910.000000"
      ]
     },
     "execution_count": 13,
     "metadata": {},
     "output_type": "execute_result"
    }
   ],
   "source": [
    "sms_data.describe()"
   ]
  },
  {
   "cell_type": "markdown",
   "id": "cb7c37a1",
   "metadata": {
    "papermill": {
     "duration": 0.020218,
     "end_time": "2023-03-23T06:10:26.024379",
     "exception": false,
     "start_time": "2023-03-23T06:10:26.004161",
     "status": "completed"
    },
    "tags": []
   },
   "source": [
    "#### Analysis\n",
    "\n",
    "\n",
    "* Data set includes Ham (0) and Spam (1) combined into Class_num\n",
    "* A Class_num mean of 0.134 means that 13.4% of data is spam\n",
    "    * Inversely, 86.6% is Ham\n",
    "* SMS messages average 80.48 characters\n",
    "* The shortest message length is 2 characters\n",
    "* The longest message length is 910 characters\n"
   ]
  },
  {
   "cell_type": "markdown",
   "id": "ace235e9",
   "metadata": {
    "papermill": {
     "duration": 0.020144,
     "end_time": "2023-03-23T06:10:26.064956",
     "exception": false,
     "start_time": "2023-03-23T06:10:26.044812",
     "status": "completed"
    },
    "tags": []
   },
   "source": [
    "### Ham Data Set"
   ]
  },
  {
   "cell_type": "code",
   "execution_count": 14,
   "id": "a1963c9d",
   "metadata": {
    "execution": {
     "iopub.execute_input": "2023-03-23T06:10:26.109782Z",
     "iopub.status.busy": "2023-03-23T06:10:26.108721Z",
     "iopub.status.idle": "2023-03-23T06:10:26.133009Z",
     "shell.execute_reply": "2023-03-23T06:10:26.131996Z"
    },
    "papermill": {
     "duration": 0.04979,
     "end_time": "2023-03-23T06:10:26.135502",
     "exception": false,
     "start_time": "2023-03-23T06:10:26.085712",
     "status": "completed"
    },
    "tags": []
   },
   "outputs": [
    {
     "data": {
      "text/html": [
       "<div>\n",
       "<style scoped>\n",
       "    .dataframe tbody tr th:only-of-type {\n",
       "        vertical-align: middle;\n",
       "    }\n",
       "\n",
       "    .dataframe tbody tr th {\n",
       "        vertical-align: top;\n",
       "    }\n",
       "\n",
       "    .dataframe thead th {\n",
       "        text-align: right;\n",
       "    }\n",
       "</style>\n",
       "<table border=\"1\" class=\"dataframe\">\n",
       "  <thead>\n",
       "    <tr style=\"text-align: right;\">\n",
       "      <th></th>\n",
       "      <th>Class_num</th>\n",
       "      <th>sms_len</th>\n",
       "    </tr>\n",
       "  </thead>\n",
       "  <tbody>\n",
       "    <tr>\n",
       "      <th>count</th>\n",
       "      <td>4825.0</td>\n",
       "      <td>4825.000000</td>\n",
       "    </tr>\n",
       "    <tr>\n",
       "      <th>mean</th>\n",
       "      <td>0.0</td>\n",
       "      <td>71.482487</td>\n",
       "    </tr>\n",
       "    <tr>\n",
       "      <th>std</th>\n",
       "      <td>0.0</td>\n",
       "      <td>58.440652</td>\n",
       "    </tr>\n",
       "    <tr>\n",
       "      <th>min</th>\n",
       "      <td>0.0</td>\n",
       "      <td>2.000000</td>\n",
       "    </tr>\n",
       "    <tr>\n",
       "      <th>25%</th>\n",
       "      <td>0.0</td>\n",
       "      <td>33.000000</td>\n",
       "    </tr>\n",
       "    <tr>\n",
       "      <th>50%</th>\n",
       "      <td>0.0</td>\n",
       "      <td>52.000000</td>\n",
       "    </tr>\n",
       "    <tr>\n",
       "      <th>75%</th>\n",
       "      <td>0.0</td>\n",
       "      <td>93.000000</td>\n",
       "    </tr>\n",
       "    <tr>\n",
       "      <th>max</th>\n",
       "      <td>0.0</td>\n",
       "      <td>910.000000</td>\n",
       "    </tr>\n",
       "  </tbody>\n",
       "</table>\n",
       "</div>"
      ],
      "text/plain": [
       "       Class_num      sms_len\n",
       "count     4825.0  4825.000000\n",
       "mean         0.0    71.482487\n",
       "std          0.0    58.440652\n",
       "min          0.0     2.000000\n",
       "25%          0.0    33.000000\n",
       "50%          0.0    52.000000\n",
       "75%          0.0    93.000000\n",
       "max          0.0   910.000000"
      ]
     },
     "execution_count": 14,
     "metadata": {},
     "output_type": "execute_result"
    }
   ],
   "source": [
    "# Analyze data labeled 'ham'\n",
    "sms_data[sms_data.Class=='ham'].describe()"
   ]
  },
  {
   "cell_type": "markdown",
   "id": "b24125c0",
   "metadata": {
    "papermill": {
     "duration": 0.022936,
     "end_time": "2023-03-23T06:10:26.180563",
     "exception": false,
     "start_time": "2023-03-23T06:10:26.157627",
     "status": "completed"
    },
    "tags": []
   },
   "source": [
    "#### Analysis\n",
    "\n",
    "\n",
    "* This data set includes Ham (0) only\n",
    "* There are 4,825 ham messages\n",
    "* Remember, ham is 0, so all other stats in Class_num will == 0\n",
    "* Ham messages average 71.48 characters\n",
    "* The shortest ham message length is 2 characters\n",
    "* The longest ham message length is 910 characters"
   ]
  },
  {
   "cell_type": "markdown",
   "id": "f526a4c1",
   "metadata": {
    "papermill": {
     "duration": 0.020938,
     "end_time": "2023-03-23T06:10:26.224000",
     "exception": false,
     "start_time": "2023-03-23T06:10:26.203062",
     "status": "completed"
    },
    "tags": []
   },
   "source": [
    "### Spam Data Set"
   ]
  },
  {
   "cell_type": "code",
   "execution_count": 15,
   "id": "a9f88791",
   "metadata": {
    "execution": {
     "iopub.execute_input": "2023-03-23T06:10:26.270994Z",
     "iopub.status.busy": "2023-03-23T06:10:26.270333Z",
     "iopub.status.idle": "2023-03-23T06:10:26.294484Z",
     "shell.execute_reply": "2023-03-23T06:10:26.292763Z"
    },
    "papermill": {
     "duration": 0.051782,
     "end_time": "2023-03-23T06:10:26.297125",
     "exception": false,
     "start_time": "2023-03-23T06:10:26.245343",
     "status": "completed"
    },
    "tags": []
   },
   "outputs": [
    {
     "data": {
      "text/html": [
       "<div>\n",
       "<style scoped>\n",
       "    .dataframe tbody tr th:only-of-type {\n",
       "        vertical-align: middle;\n",
       "    }\n",
       "\n",
       "    .dataframe tbody tr th {\n",
       "        vertical-align: top;\n",
       "    }\n",
       "\n",
       "    .dataframe thead th {\n",
       "        text-align: right;\n",
       "    }\n",
       "</style>\n",
       "<table border=\"1\" class=\"dataframe\">\n",
       "  <thead>\n",
       "    <tr style=\"text-align: right;\">\n",
       "      <th></th>\n",
       "      <th>Class_num</th>\n",
       "      <th>sms_len</th>\n",
       "    </tr>\n",
       "  </thead>\n",
       "  <tbody>\n",
       "    <tr>\n",
       "      <th>count</th>\n",
       "      <td>747.0</td>\n",
       "      <td>747.000000</td>\n",
       "    </tr>\n",
       "    <tr>\n",
       "      <th>mean</th>\n",
       "      <td>1.0</td>\n",
       "      <td>138.670683</td>\n",
       "    </tr>\n",
       "    <tr>\n",
       "      <th>std</th>\n",
       "      <td>0.0</td>\n",
       "      <td>28.873603</td>\n",
       "    </tr>\n",
       "    <tr>\n",
       "      <th>min</th>\n",
       "      <td>1.0</td>\n",
       "      <td>13.000000</td>\n",
       "    </tr>\n",
       "    <tr>\n",
       "      <th>25%</th>\n",
       "      <td>1.0</td>\n",
       "      <td>133.000000</td>\n",
       "    </tr>\n",
       "    <tr>\n",
       "      <th>50%</th>\n",
       "      <td>1.0</td>\n",
       "      <td>149.000000</td>\n",
       "    </tr>\n",
       "    <tr>\n",
       "      <th>75%</th>\n",
       "      <td>1.0</td>\n",
       "      <td>157.000000</td>\n",
       "    </tr>\n",
       "    <tr>\n",
       "      <th>max</th>\n",
       "      <td>1.0</td>\n",
       "      <td>223.000000</td>\n",
       "    </tr>\n",
       "  </tbody>\n",
       "</table>\n",
       "</div>"
      ],
      "text/plain": [
       "       Class_num     sms_len\n",
       "count      747.0  747.000000\n",
       "mean         1.0  138.670683\n",
       "std          0.0   28.873603\n",
       "min          1.0   13.000000\n",
       "25%          1.0  133.000000\n",
       "50%          1.0  149.000000\n",
       "75%          1.0  157.000000\n",
       "max          1.0  223.000000"
      ]
     },
     "execution_count": 15,
     "metadata": {},
     "output_type": "execute_result"
    }
   ],
   "source": [
    "# Analyze data labeled 'spam'\n",
    "sms_data[sms_data.Class=='spam'].describe()"
   ]
  },
  {
   "cell_type": "markdown",
   "id": "2f95d2bf",
   "metadata": {
    "papermill": {
     "duration": 0.020989,
     "end_time": "2023-03-23T06:10:26.339625",
     "exception": false,
     "start_time": "2023-03-23T06:10:26.318636",
     "status": "completed"
    },
    "tags": []
   },
   "source": [
    "#### Analysis\n",
    "\n",
    "\n",
    "* This data set includes Spam (1) only\n",
    "* There are 747 spam messages\n",
    "* Remember, spam is 1, so all other stats in Class_num will == 1\n",
    "    * except standard deviation, as there is no deviation between 1 and 1\n",
    "* Spam messages average 138.67 characters\n",
    "* The shortest spam message length is 13 characters\n",
    "* The longest spam message length is 223 characters"
   ]
  },
  {
   "cell_type": "markdown",
   "id": "556b1a7b",
   "metadata": {
    "papermill": {
     "duration": 0.020882,
     "end_time": "2023-03-23T06:10:26.381833",
     "exception": false,
     "start_time": "2023-03-23T06:10:26.360951",
     "status": "completed"
    },
    "tags": []
   },
   "source": [
    "## Prepare Data using Natural Language Processing\n",
    "### Create Function to Clean up Messages"
   ]
  },
  {
   "cell_type": "code",
   "execution_count": 16,
   "id": "ed7de7c4",
   "metadata": {
    "execution": {
     "iopub.execute_input": "2023-03-23T06:10:26.427659Z",
     "iopub.status.busy": "2023-03-23T06:10:26.426685Z",
     "iopub.status.idle": "2023-03-23T06:10:27.187121Z",
     "shell.execute_reply": "2023-03-23T06:10:27.185750Z"
    },
    "papermill": {
     "duration": 0.787374,
     "end_time": "2023-03-23T06:10:27.190531",
     "exception": false,
     "start_time": "2023-03-23T06:10:26.403157",
     "status": "completed"
    },
    "tags": []
   },
   "outputs": [],
   "source": [
    "import string\n",
    "from nltk.corpus import stopwords\n",
    "\n",
    "# List of common abbreviations\n",
    "abrv = ['rofl', 'stfu', 'icymi', 'tldr', 'ok', 'tmi', 'afaik', 'lmk', 'nvm', 'ftw', 'byob', 'rt', 'bogo', 'jk', 'jw', 'im', 'pm', 'ig', 'tgif', 'bh', 'tbf', 'rn', 'fubar', 'brb', 'iso', 'brt', 'btw', 'ftfy', 'gg', 'bfd', 'irl', 'dae', 'lol', 'smh', 'ngl', 'bts', 'ikr', 'ttyl', 'hmu', 'fwiw', 'imo', 'wyd', 'imho', 'idk', 'idc', 'idgaf', 'nbd', 'tba', 'tbd', 'afk', 'abt', 'iykyk', 'b4', 'bc', 'jic', 'fomo', 'snafu', 'gtg', 'g2g', 'h8', 'lmao', 'iykwim', 'myob', 'pov', 'tlc', 'bd', 'w/e', 'wtf', 'wysiwyg', 'fwif', 'tw', 'eod', 'faq', 'aka', 'asap', 'diy', 'lmgtfy', 'np', 'n/a', 'ooo', 'ia', 'cob', 'fyi', 'nsfw', 'wfh', 'omw', 'wdyt', 'wygam', 'smp', 'dm', 'fb', 'ig', 'li', 'yt', 'ff', 'im', 'pm', 'op', 'qotd', 'ootd', 'rt', 'tbt', 'til', 'ama', 'eli5', 'fbf', 'mfw', 'hmu', 'ily', 'mcm', 'wcw', 'bf', 'gf', 'ae', 'lysm', 'pda', 'ltr', 'dtr', 'xoxo', 'otp', 'loml']\n",
    "\n",
    "def Process_Msg(sms):\n",
    "    \n",
    "    STOPWORDS = stopwords.words('english')+abrv                           #set stopwords (SW) variable to nltk english SW\n",
    "    \n",
    "    nopunc = [char for char in sms if char not in string.punctuation]     #remove punctuation\n",
    "    \n",
    "    nopunc = ''.join(nopunc)                                              #join every item in list using '' as a separator\n",
    "    \n",
    "    nopunc = ' '.join([word for word in nopunc.split() if word.lower() not in STOPWORDS])    #remove Stopwords\n",
    "\n",
    "    nopunc = nopunc.lower()\n",
    "    \n",
    "    return nopunc"
   ]
  },
  {
   "cell_type": "markdown",
   "id": "010d0d02",
   "metadata": {
    "papermill": {
     "duration": 0.020817,
     "end_time": "2023-03-23T06:10:27.232753",
     "exception": false,
     "start_time": "2023-03-23T06:10:27.211936",
     "status": "completed"
    },
    "tags": []
   },
   "source": [
    "#### Code Breakdown\n",
    "    \n",
    "`nopunc = [char for char in sms if char not in string.punctuation]` <br>\n",
    "\" for every character in the message, <br>\n",
    "if the character is not in the list of punctionation, <br>\n",
    "save that char into the list 'nopunc' \"\n",
    "* removes punctuation\n",
    "* Essentially, nopunc is the same as sms, just without the punctuation\n",
    "\n",
    "\n",
    "`nopunc = ' '.join([word for word in nopunc.split() if word.lower() not in STOPWORDS])` <br>\n",
    "\" for every word in the 'nopunc' list,  <br>\n",
    "if the word [changed to lowercase] is not in 'STOPWORDS',  <br>\n",
    "save it into the list 'nopunc'\"\n",
    "\n",
    "* remove Stopwords\n"
   ]
  },
  {
   "cell_type": "markdown",
   "id": "c36e2d97",
   "metadata": {
    "papermill": {
     "duration": 0.020837,
     "end_time": "2023-03-23T06:10:27.274831",
     "exception": false,
     "start_time": "2023-03-23T06:10:27.253994",
     "status": "completed"
    },
    "tags": []
   },
   "source": [
    "### Create Column: Save Cleaned Messages"
   ]
  },
  {
   "cell_type": "code",
   "execution_count": 17,
   "id": "d93c29a9",
   "metadata": {
    "execution": {
     "iopub.execute_input": "2023-03-23T06:10:27.319785Z",
     "iopub.status.busy": "2023-03-23T06:10:27.319344Z",
     "iopub.status.idle": "2023-03-23T06:10:27.333059Z",
     "shell.execute_reply": "2023-03-23T06:10:27.331295Z"
    },
    "papermill": {
     "duration": 0.039805,
     "end_time": "2023-03-23T06:10:27.335987",
     "exception": false,
     "start_time": "2023-03-23T06:10:27.296182",
     "status": "completed"
    },
    "tags": []
   },
   "outputs": [
    {
     "name": "stdout",
     "output_type": "stream",
     "text": [
      "Before Modification:\n",
      "\n"
     ]
    },
    {
     "data": {
      "text/html": [
       "<div>\n",
       "<style scoped>\n",
       "    .dataframe tbody tr th:only-of-type {\n",
       "        vertical-align: middle;\n",
       "    }\n",
       "\n",
       "    .dataframe tbody tr th {\n",
       "        vertical-align: top;\n",
       "    }\n",
       "\n",
       "    .dataframe thead th {\n",
       "        text-align: right;\n",
       "    }\n",
       "</style>\n",
       "<table border=\"1\" class=\"dataframe\">\n",
       "  <thead>\n",
       "    <tr style=\"text-align: right;\">\n",
       "      <th></th>\n",
       "      <th>Class</th>\n",
       "      <th>sms</th>\n",
       "      <th>Class_num</th>\n",
       "      <th>sms_len</th>\n",
       "    </tr>\n",
       "  </thead>\n",
       "  <tbody>\n",
       "    <tr>\n",
       "      <th>0</th>\n",
       "      <td>ham</td>\n",
       "      <td>Go until jurong point, crazy.. Available only ...</td>\n",
       "      <td>0</td>\n",
       "      <td>111</td>\n",
       "    </tr>\n",
       "    <tr>\n",
       "      <th>1</th>\n",
       "      <td>ham</td>\n",
       "      <td>Ok lar... Joking wif u oni...</td>\n",
       "      <td>0</td>\n",
       "      <td>29</td>\n",
       "    </tr>\n",
       "    <tr>\n",
       "      <th>2</th>\n",
       "      <td>spam</td>\n",
       "      <td>Free entry in 2 a wkly comp to win FA Cup fina...</td>\n",
       "      <td>1</td>\n",
       "      <td>155</td>\n",
       "    </tr>\n",
       "    <tr>\n",
       "      <th>3</th>\n",
       "      <td>ham</td>\n",
       "      <td>U dun say so early hor... U c already then say...</td>\n",
       "      <td>0</td>\n",
       "      <td>49</td>\n",
       "    </tr>\n",
       "    <tr>\n",
       "      <th>4</th>\n",
       "      <td>ham</td>\n",
       "      <td>Nah I don't think he goes to usf, he lives aro...</td>\n",
       "      <td>0</td>\n",
       "      <td>61</td>\n",
       "    </tr>\n",
       "  </tbody>\n",
       "</table>\n",
       "</div>"
      ],
      "text/plain": [
       "  Class                                                sms  Class_num  sms_len\n",
       "0   ham  Go until jurong point, crazy.. Available only ...          0      111\n",
       "1   ham                      Ok lar... Joking wif u oni...          0       29\n",
       "2  spam  Free entry in 2 a wkly comp to win FA Cup fina...          1      155\n",
       "3   ham  U dun say so early hor... U c already then say...          0       49\n",
       "4   ham  Nah I don't think he goes to usf, he lives aro...          0       61"
      ]
     },
     "execution_count": 17,
     "metadata": {},
     "output_type": "execute_result"
    }
   ],
   "source": [
    "# View first 5 Observations\n",
    "print(\"Before Modification:\\n\") \n",
    "sms_data.head()"
   ]
  },
  {
   "cell_type": "code",
   "execution_count": 18,
   "id": "02c7507b",
   "metadata": {
    "execution": {
     "iopub.execute_input": "2023-03-23T06:10:27.381873Z",
     "iopub.status.busy": "2023-03-23T06:10:27.380941Z",
     "iopub.status.idle": "2023-03-23T06:10:28.629939Z",
     "shell.execute_reply": "2023-03-23T06:10:28.628489Z"
    },
    "papermill": {
     "duration": 1.27503,
     "end_time": "2023-03-23T06:10:28.632938",
     "exception": false,
     "start_time": "2023-03-23T06:10:27.357908",
     "status": "completed"
    },
    "tags": []
   },
   "outputs": [
    {
     "name": "stdout",
     "output_type": "stream",
     "text": [
      "After Modification:\n",
      "\n"
     ]
    },
    {
     "data": {
      "text/html": [
       "<div>\n",
       "<style scoped>\n",
       "    .dataframe tbody tr th:only-of-type {\n",
       "        vertical-align: middle;\n",
       "    }\n",
       "\n",
       "    .dataframe tbody tr th {\n",
       "        vertical-align: top;\n",
       "    }\n",
       "\n",
       "    .dataframe thead th {\n",
       "        text-align: right;\n",
       "    }\n",
       "</style>\n",
       "<table border=\"1\" class=\"dataframe\">\n",
       "  <thead>\n",
       "    <tr style=\"text-align: right;\">\n",
       "      <th></th>\n",
       "      <th>Class</th>\n",
       "      <th>sms</th>\n",
       "      <th>Class_num</th>\n",
       "      <th>sms_len</th>\n",
       "      <th>sms_clean</th>\n",
       "    </tr>\n",
       "  </thead>\n",
       "  <tbody>\n",
       "    <tr>\n",
       "      <th>0</th>\n",
       "      <td>ham</td>\n",
       "      <td>Go until jurong point, crazy.. Available only ...</td>\n",
       "      <td>0</td>\n",
       "      <td>111</td>\n",
       "      <td>go jurong point crazy available bugis n great ...</td>\n",
       "    </tr>\n",
       "    <tr>\n",
       "      <th>1</th>\n",
       "      <td>ham</td>\n",
       "      <td>Ok lar... Joking wif u oni...</td>\n",
       "      <td>0</td>\n",
       "      <td>29</td>\n",
       "      <td>lar joking wif u oni</td>\n",
       "    </tr>\n",
       "    <tr>\n",
       "      <th>2</th>\n",
       "      <td>spam</td>\n",
       "      <td>Free entry in 2 a wkly comp to win FA Cup fina...</td>\n",
       "      <td>1</td>\n",
       "      <td>155</td>\n",
       "      <td>free entry 2 wkly comp win fa cup final tkts 2...</td>\n",
       "    </tr>\n",
       "    <tr>\n",
       "      <th>3</th>\n",
       "      <td>ham</td>\n",
       "      <td>U dun say so early hor... U c already then say...</td>\n",
       "      <td>0</td>\n",
       "      <td>49</td>\n",
       "      <td>u dun say early hor u c already say</td>\n",
       "    </tr>\n",
       "    <tr>\n",
       "      <th>4</th>\n",
       "      <td>ham</td>\n",
       "      <td>Nah I don't think he goes to usf, he lives aro...</td>\n",
       "      <td>0</td>\n",
       "      <td>61</td>\n",
       "      <td>nah dont think goes usf lives around though</td>\n",
       "    </tr>\n",
       "  </tbody>\n",
       "</table>\n",
       "</div>"
      ],
      "text/plain": [
       "  Class                                                sms  Class_num  \\\n",
       "0   ham  Go until jurong point, crazy.. Available only ...          0   \n",
       "1   ham                      Ok lar... Joking wif u oni...          0   \n",
       "2  spam  Free entry in 2 a wkly comp to win FA Cup fina...          1   \n",
       "3   ham  U dun say so early hor... U c already then say...          0   \n",
       "4   ham  Nah I don't think he goes to usf, he lives aro...          0   \n",
       "\n",
       "   sms_len                                          sms_clean  \n",
       "0      111  go jurong point crazy available bugis n great ...  \n",
       "1       29                               lar joking wif u oni  \n",
       "2      155  free entry 2 wkly comp win fa cup final tkts 2...  \n",
       "3       49                u dun say early hor u c already say  \n",
       "4       61        nah dont think goes usf lives around though  "
      ]
     },
     "execution_count": 18,
     "metadata": {},
     "output_type": "execute_result"
    }
   ],
   "source": [
    "# Create New Column\n",
    "sms_data['sms_clean'] = sms_data.sms.apply(Process_Msg)   #send each message to function 'temp_process'\n",
    "\n",
    "# View first 5 Observations\n",
    "print(\"After Modification:\\n\") \n",
    "sms_data.head()"
   ]
  },
  {
   "cell_type": "markdown",
   "id": "6e4cf9cb",
   "metadata": {
    "papermill": {
     "duration": 0.021603,
     "end_time": "2023-03-23T06:10:28.676513",
     "exception": false,
     "start_time": "2023-03-23T06:10:28.654910",
     "status": "completed"
    },
    "tags": []
   },
   "source": [
    "### Extract Words\n",
    "#### Ham Messages"
   ]
  },
  {
   "cell_type": "code",
   "execution_count": 19,
   "id": "43b5ed4b",
   "metadata": {
    "execution": {
     "iopub.execute_input": "2023-03-23T06:10:28.724169Z",
     "iopub.status.busy": "2023-03-23T06:10:28.722665Z",
     "iopub.status.idle": "2023-03-23T06:10:28.758002Z",
     "shell.execute_reply": "2023-03-23T06:10:28.756814Z"
    },
    "papermill": {
     "duration": 0.062149,
     "end_time": "2023-03-23T06:10:28.760660",
     "exception": false,
     "start_time": "2023-03-23T06:10:28.698511",
     "status": "completed"
    },
    "tags": []
   },
   "outputs": [
    {
     "data": {
      "text/plain": [
       "0       [go, jurong, point, crazy, available, bugis, n...\n",
       "1                              [lar, joking, wif, u, oni]\n",
       "3           [u, dun, say, early, hor, u, c, already, say]\n",
       "4       [nah, dont, think, goes, usf, lives, around, t...\n",
       "6       [even, brother, like, speak, treat, like, aids...\n",
       "                              ...                        \n",
       "5565                                           [huh, lei]\n",
       "5568                   [ü, b, going, esplanade, fr, home]\n",
       "5569                     [pity, mood, soany, suggestions]\n",
       "5570    [guy, bitching, acted, like, id, interested, b...\n",
       "5571                                         [true, name]\n",
       "Name: sms_clean, Length: 4825, dtype: object"
      ]
     },
     "execution_count": 19,
     "metadata": {},
     "output_type": "execute_result"
    }
   ],
   "source": [
    "ham_words = sms_data[sms_data.Class_num==0].sms_clean.apply(lambda x: [word.lower() for word in x.split()])    #Save messages as lowercase list\n",
    "\n",
    "'''\n",
    "for each ham message, \n",
    "split words into a list, \n",
    "covert to lowercase, \n",
    "and save to 'ham_words'\n",
    "'''\n",
    "\n",
    "ham_words    #remaining words in ham messages"
   ]
  },
  {
   "cell_type": "markdown",
   "id": "977de8e1",
   "metadata": {
    "papermill": {
     "duration": 0.021519,
     "end_time": "2023-03-23T06:10:28.804243",
     "exception": false,
     "start_time": "2023-03-23T06:10:28.782724",
     "status": "completed"
    },
    "tags": []
   },
   "source": [
    "#### Spam Messages"
   ]
  },
  {
   "cell_type": "code",
   "execution_count": 20,
   "id": "0fee77a1",
   "metadata": {
    "execution": {
     "iopub.execute_input": "2023-03-23T06:10:28.849954Z",
     "iopub.status.busy": "2023-03-23T06:10:28.849486Z",
     "iopub.status.idle": "2023-03-23T06:10:28.869227Z",
     "shell.execute_reply": "2023-03-23T06:10:28.867895Z"
    },
    "papermill": {
     "duration": 0.046021,
     "end_time": "2023-03-23T06:10:28.871912",
     "exception": false,
     "start_time": "2023-03-23T06:10:28.825891",
     "status": "completed"
    },
    "tags": []
   },
   "outputs": [
    {
     "data": {
      "text/plain": [
       "2       [free, entry, 2, wkly, comp, win, fa, cup, fin...\n",
       "5       [freemsg, hey, darling, 3, weeks, word, back, ...\n",
       "8       [winner, valued, network, customer, selected, ...\n",
       "9       [mobile, 11, months, u, r, entitled, update, l...\n",
       "11      [six, chances, win, cash, 100, 20000, pounds, ...\n",
       "                              ...                        \n",
       "5537    [want, explicit, sex, 30, secs, ring, 02073162...\n",
       "5540    [asked, 3mobile, 0870, chatlines, inclu, free,...\n",
       "5547    [contract, mobile, 11, mnths, latest, motorola...\n",
       "5566    [reminder, o2, get, 250, pounds, free, call, c...\n",
       "5567    [2nd, time, tried, 2, contact, u, u, £750, pou...\n",
       "Name: sms_clean, Length: 747, dtype: object"
      ]
     },
     "execution_count": 20,
     "metadata": {},
     "output_type": "execute_result"
    }
   ],
   "source": [
    "spam_words = sms_data[sms_data.Class_num==1].sms_clean.apply(lambda x: [word.lower() for word in x.split()])    #Save messages as lowercase list\n",
    "\n",
    "'''\n",
    "for each ham message, \n",
    "split words into a list, \n",
    "covert to lowercase, \n",
    "and save to 'ham_words'\n",
    "'''\n",
    "\n",
    "spam_words    #remaining words in spam messages"
   ]
  },
  {
   "cell_type": "markdown",
   "id": "365cc9d1",
   "metadata": {
    "papermill": {
     "duration": 0.021644,
     "end_time": "2023-03-23T06:10:28.915811",
     "exception": false,
     "start_time": "2023-03-23T06:10:28.894167",
     "status": "completed"
    },
    "tags": []
   },
   "source": [
    "## Create Frequency Tables\n",
    "### Ham Word Frequencies"
   ]
  },
  {
   "cell_type": "code",
   "execution_count": 21,
   "id": "5d23bb74",
   "metadata": {
    "execution": {
     "iopub.execute_input": "2023-03-23T06:10:28.963154Z",
     "iopub.status.busy": "2023-03-23T06:10:28.961948Z",
     "iopub.status.idle": "2023-03-23T06:10:28.987591Z",
     "shell.execute_reply": "2023-03-23T06:10:28.986097Z"
    },
    "papermill": {
     "duration": 0.052252,
     "end_time": "2023-03-23T06:10:28.990143",
     "exception": false,
     "start_time": "2023-03-23T06:10:28.937891",
     "status": "completed"
    },
    "tags": []
   },
   "outputs": [
    {
     "name": "stdout",
     "output_type": "stream",
     "text": [
      "[('u', 985), ('2', 309), ('get', 303), ('ltgt', 276), ('dont', 265), ('go', 250), ('ur', 246), ('ill', 238), ('got', 232), ('know', 232), ('like', 231), ('call', 231), ('come', 227), ('good', 224), ('love', 190), ('time', 189), ('day', 188), ('4', 174), ('ü', 169), ('going', 167), ('want', 164), ('one', 163), ('home', 160), ('lor', 160), ('need', 157), ('sorry', 153), ('still', 147), ('see', 138), ('n', 137), ('later', 134), ('da', 131), ('r', 131), ('back', 129), ('think', 128), ('well', 127), ('today', 125), ('send', 123), ('tell', 121), ('cant', 119), ('hi', 117), ('take', 112), ('oh', 112), ('much', 112), ('night', 109), ('happy', 106), ('hey', 106), ('great', 100), ('way', 100), ('hope', 100), ('pls', 98)]\n"
     ]
    }
   ],
   "source": [
    "from collections import Counter\n",
    "ham_word_count = Counter()\n",
    "\n",
    "for each_word in ham_words:                #for each word in words\n",
    "    ham_word_count.update(each_word)       #count frequency of each_word\n",
    "    \n",
    "print(ham_word_count.most_common(50))      #print 50 most common words"
   ]
  },
  {
   "cell_type": "markdown",
   "id": "0d383cf1",
   "metadata": {
    "papermill": {
     "duration": 0.022712,
     "end_time": "2023-03-23T06:10:29.035721",
     "exception": false,
     "start_time": "2023-03-23T06:10:29.013009",
     "status": "completed"
    },
    "tags": []
   },
   "source": [
    "#### Analysis\n",
    "<i>This is a good place to check for additional stopwords.<br>\n",
    "    For example, 2 of the top 3 most common words here are 'U' and '2' - these would be great additions to the stopword list\n",
    "    \n",
    "<i>If unsure about adding a specific word to the stopwords list, ask if the word adds any context - if not, it would likely work well as a stopword.<br> Also, you can check the most common occurences of spam (shown below) and see if that word appears there as well. "
   ]
  },
  {
   "cell_type": "markdown",
   "id": "65e633c6",
   "metadata": {
    "papermill": {
     "duration": 0.021742,
     "end_time": "2023-03-23T06:10:29.079371",
     "exception": false,
     "start_time": "2023-03-23T06:10:29.057629",
     "status": "completed"
    },
    "tags": []
   },
   "source": [
    "### Spam Word Frequencies"
   ]
  },
  {
   "cell_type": "code",
   "execution_count": 22,
   "id": "ad7e09fb",
   "metadata": {
    "execution": {
     "iopub.execute_input": "2023-03-23T06:10:29.126553Z",
     "iopub.status.busy": "2023-03-23T06:10:29.125738Z",
     "iopub.status.idle": "2023-03-23T06:10:29.136851Z",
     "shell.execute_reply": "2023-03-23T06:10:29.135277Z"
    },
    "papermill": {
     "duration": 0.038083,
     "end_time": "2023-03-23T06:10:29.139599",
     "exception": false,
     "start_time": "2023-03-23T06:10:29.101516",
     "status": "completed"
    },
    "tags": []
   },
   "outputs": [
    {
     "name": "stdout",
     "output_type": "stream",
     "text": [
      "[('call', 347), ('free', 216), ('2', 173), ('txt', 150), ('u', 147), ('ur', 144), ('mobile', 123), ('text', 120), ('4', 119), ('stop', 115), ('claim', 113), ('reply', 101), ('prize', 92), ('get', 83), ('new', 69), ('send', 68), ('nokia', 65), ('urgent', 63), ('cash', 62), ('win', 60), ('contact', 56), ('service', 55), ('please', 52), ('16', 51), ('guaranteed', 50), ('customer', 49), ('week', 49), ('tone', 48), ('per', 46), ('phone', 45), ('18', 43), ('chat', 42), ('awarded', 38), ('draw', 38), ('latest', 36), ('£1000', 35), ('line', 35), ('150ppm', 34), ('mins', 34), ('receive', 33), ('camera', 33), ('1', 33), ('box', 33), ('every', 33), ('message', 32), ('po', 32), ('holiday', 32), ('landline', 32), ('shows', 31), ('£2000', 31)]\n"
     ]
    }
   ],
   "source": [
    "spam_word_count = Counter()\n",
    "\n",
    "for each_word in spam_words:              #for each word in words\n",
    "    spam_word_count.update(each_word)       #count frequency of each_word\n",
    "    \n",
    "print(spam_word_count.most_common(50))      #print 50 most common words"
   ]
  },
  {
   "cell_type": "markdown",
   "id": "637f9b79",
   "metadata": {
    "papermill": {
     "duration": 0.022375,
     "end_time": "2023-03-23T06:10:29.184417",
     "exception": false,
     "start_time": "2023-03-23T06:10:29.162042",
     "status": "completed"
    },
    "tags": []
   },
   "source": [
    "## Standardize Data\n",
    "\n",
    "Standardizing this dataset is not necessary as we know the min/max values (0, 1). Due to the format of this scale, there cannot be any huge outliers and standardization is not necessary. Therefore, this is simply an example of how to standardize data.\n",
    "\n",
    "Furthermore, the data does not need to be scaled for the same reason. As the function for scaling is:<br>\n",
    "    \n",
    "            X_scaled = X_stdev * (scale_max - scale_min) + scale_min \n",
    "<br>\n",
    "A 0 to 1 scale is the same as multiplying by 1, and would provide no benefit. An example of this logic is shown below.<br><br>\n",
    "    \n",
    "Example:<br>\n",
    "&emsp;&emsp;X_cs = X_stdev * (scale_max - scale_min) + scale_min<br>\n",
    "&emsp;&emsp;X_cs = X_stdev * (1 - 0) + 0<br>\n",
    "&emsp;&emsp;X_cs = X_stdev * (1) + 0<br>\n",
    "&emsp;&emsp;X_cs = X_stdev + 0<br>\n",
    "&emsp;&emsp;X_cs = X_stdev <br>"
   ]
  },
  {
   "cell_type": "markdown",
   "id": "bd819afe",
   "metadata": {
    "papermill": {
     "duration": 0.021927,
     "end_time": "2023-03-23T06:10:29.228995",
     "exception": false,
     "start_time": "2023-03-23T06:10:29.207068",
     "status": "completed"
    },
    "tags": []
   },
   "source": [
    "---\n",
    "## Train Decision Tree Classifier\n",
    "### Set Dependent Variable"
   ]
  },
  {
   "cell_type": "code",
   "execution_count": 23,
   "id": "c3cb924e",
   "metadata": {
    "execution": {
     "iopub.execute_input": "2023-03-23T06:10:29.275924Z",
     "iopub.status.busy": "2023-03-23T06:10:29.275392Z",
     "iopub.status.idle": "2023-03-23T06:10:29.286101Z",
     "shell.execute_reply": "2023-03-23T06:10:29.284857Z"
    },
    "papermill": {
     "duration": 0.037257,
     "end_time": "2023-03-23T06:10:29.288593",
     "exception": false,
     "start_time": "2023-03-23T06:10:29.251336",
     "status": "completed"
    },
    "tags": []
   },
   "outputs": [
    {
     "data": {
      "text/plain": [
       "0       0\n",
       "1       0\n",
       "2       1\n",
       "3       0\n",
       "4       0\n",
       "       ..\n",
       "5567    1\n",
       "5568    0\n",
       "5569    0\n",
       "5570    0\n",
       "5571    0\n",
       "Name: Class_num, Length: 5572, dtype: int64"
      ]
     },
     "execution_count": 23,
     "metadata": {},
     "output_type": "execute_result"
    }
   ],
   "source": [
    "# Create Vector for Dependent Variable\n",
    "y = sms_data.Class_num\n",
    "\n",
    "# View Dependent Variable\n",
    "y"
   ]
  },
  {
   "cell_type": "markdown",
   "id": "10ba6ba6",
   "metadata": {
    "papermill": {
     "duration": 0.021982,
     "end_time": "2023-03-23T06:10:29.333164",
     "exception": false,
     "start_time": "2023-03-23T06:10:29.311182",
     "status": "completed"
    },
    "tags": []
   },
   "source": [
    "### Set Independent Variable"
   ]
  },
  {
   "cell_type": "code",
   "execution_count": 24,
   "id": "bf51428c",
   "metadata": {
    "execution": {
     "iopub.execute_input": "2023-03-23T06:10:29.381092Z",
     "iopub.status.busy": "2023-03-23T06:10:29.380147Z",
     "iopub.status.idle": "2023-03-23T06:10:29.390360Z",
     "shell.execute_reply": "2023-03-23T06:10:29.389102Z"
    },
    "papermill": {
     "duration": 0.037241,
     "end_time": "2023-03-23T06:10:29.392891",
     "exception": false,
     "start_time": "2023-03-23T06:10:29.355650",
     "status": "completed"
    },
    "tags": []
   },
   "outputs": [
    {
     "data": {
      "text/plain": [
       "0       go jurong point crazy available bugis n great ...\n",
       "1                                    lar joking wif u oni\n",
       "2       free entry 2 wkly comp win fa cup final tkts 2...\n",
       "3                     u dun say early hor u c already say\n",
       "4             nah dont think goes usf lives around though\n",
       "                              ...                        \n",
       "5567    2nd time tried 2 contact u u £750 pound prize ...\n",
       "5568                          ü b going esplanade fr home\n",
       "5569                          pity mood soany suggestions\n",
       "5570    guy bitching acted like id interested buying s...\n",
       "5571                                            true name\n",
       "Name: sms_clean, Length: 5572, dtype: object"
      ]
     },
     "execution_count": 24,
     "metadata": {},
     "output_type": "execute_result"
    }
   ],
   "source": [
    "# Create Matrix for Independent Variables\n",
    "X = sms_data.sms_clean    #define feature set\n",
    "\n",
    "# View Dependent Variable\n",
    "X"
   ]
  },
  {
   "cell_type": "markdown",
   "id": "61fa1b13",
   "metadata": {
    "papermill": {
     "duration": 0.0224,
     "end_time": "2023-03-23T06:10:29.438328",
     "exception": false,
     "start_time": "2023-03-23T06:10:29.415928",
     "status": "completed"
    },
    "tags": []
   },
   "source": [
    "### View Variable Shapes"
   ]
  },
  {
   "cell_type": "code",
   "execution_count": 25,
   "id": "7eac1b0a",
   "metadata": {
    "execution": {
     "iopub.execute_input": "2023-03-23T06:10:29.486044Z",
     "iopub.status.busy": "2023-03-23T06:10:29.484885Z",
     "iopub.status.idle": "2023-03-23T06:10:29.491734Z",
     "shell.execute_reply": "2023-03-23T06:10:29.490462Z"
    },
    "papermill": {
     "duration": 0.03394,
     "end_time": "2023-03-23T06:10:29.494603",
     "exception": false,
     "start_time": "2023-03-23T06:10:29.460663",
     "status": "completed"
    },
    "tags": []
   },
   "outputs": [
    {
     "name": "stdout",
     "output_type": "stream",
     "text": [
      "(5572,)\n",
      "(5572,)\n"
     ]
    }
   ],
   "source": [
    "print(X.shape)       #print shape (Observations/ Rows, Features/ Columns)\n",
    "print(y.shape)       #print shape (Observations/ Rows, Features/ Columns)"
   ]
  },
  {
   "cell_type": "markdown",
   "id": "60b51b0d",
   "metadata": {
    "papermill": {
     "duration": 0.022143,
     "end_time": "2023-03-23T06:10:29.539662",
     "exception": false,
     "start_time": "2023-03-23T06:10:29.517519",
     "status": "completed"
    },
    "tags": []
   },
   "source": [
    "### Shape Analysis and Verification\n",
    "* X: 5572 observations, 1 feature\n",
    "* Y: 5572 observations, 1 feature\n",
    "\n",
    "Since Training and Testing observations match, and features are the expected value, we may proceed with splitting the training and testing data."
   ]
  },
  {
   "cell_type": "markdown",
   "id": "e3d8a87b",
   "metadata": {
    "papermill": {
     "duration": 0.021946,
     "end_time": "2023-03-23T06:10:29.583950",
     "exception": false,
     "start_time": "2023-03-23T06:10:29.562004",
     "status": "completed"
    },
    "tags": []
   },
   "source": [
    "## Split Training and Testing Data"
   ]
  },
  {
   "cell_type": "code",
   "execution_count": 26,
   "id": "b0a4b95c",
   "metadata": {
    "execution": {
     "iopub.execute_input": "2023-03-23T06:10:29.630913Z",
     "iopub.status.busy": "2023-03-23T06:10:29.630456Z",
     "iopub.status.idle": "2023-03-23T06:10:29.645679Z",
     "shell.execute_reply": "2023-03-23T06:10:29.644470Z"
    },
    "papermill": {
     "duration": 0.0425,
     "end_time": "2023-03-23T06:10:29.648811",
     "exception": false,
     "start_time": "2023-03-23T06:10:29.606311",
     "status": "completed"
    },
    "tags": []
   },
   "outputs": [
    {
     "name": "stdout",
     "output_type": "stream",
     "text": [
      "184                                            guys close\n",
      "2171    please come imin towndontmatter urgoin outl8rj...\n",
      "5422                             ksry knw 2 sivatats askd\n",
      "4113                                  ill see prolly yeah\n",
      "4588         ill see swing bit got things take care firsg\n",
      "                              ...                        \n",
      "1932                                    pa tell went bath\n",
      "5316                             jus finish watching tv u\n",
      "2309    moby pub quizwin £100 high street prize u know...\n",
      "1904    free entry 2 weekly comp chance win ipod txt p...\n",
      "762     grandmas oh dear u still ill felt shit morning...\n",
      "Name: sms_clean, Length: 4457, dtype: object \n",
      ":\n",
      " 184     0\n",
      "2171    0\n",
      "5422    0\n",
      "4113    0\n",
      "4588    0\n",
      "       ..\n",
      "1932    0\n",
      "5316    0\n",
      "2309    1\n",
      "1904    1\n",
      "762     0\n",
      "Name: Class_num, Length: 4457, dtype: int64\n"
     ]
    }
   ],
   "source": [
    "# Split data so 80% is for training and 20% is for testing\n",
    "from sklearn.model_selection import train_test_split\n",
    "X_train, X_test, y_train, y_test = train_test_split(X,\n",
    "                                                    y,\n",
    "                                                    test_size = 0.2,\n",
    "                                                    random_state = 42,\n",
    "                                                    stratify = y)\n",
    "\n",
    "# View Training Data\n",
    "print(X_train, \"\\n:\\n\", y_train)"
   ]
  },
  {
   "cell_type": "code",
   "execution_count": 27,
   "id": "ac754951",
   "metadata": {
    "execution": {
     "iopub.execute_input": "2023-03-23T06:10:29.698273Z",
     "iopub.status.busy": "2023-03-23T06:10:29.697429Z",
     "iopub.status.idle": "2023-03-23T06:10:29.704931Z",
     "shell.execute_reply": "2023-03-23T06:10:29.703313Z"
    },
    "papermill": {
     "duration": 0.035708,
     "end_time": "2023-03-23T06:10:29.708100",
     "exception": false,
     "start_time": "2023-03-23T06:10:29.672392",
     "status": "completed"
    },
    "tags": []
   },
   "outputs": [
    {
     "name": "stdout",
     "output_type": "stream",
     "text": [
      "(4457,) (1115,)\n",
      "(4457,) (1115,)\n"
     ]
    }
   ],
   "source": [
    "# Verify Training/ Testing Data\n",
    "print(X_train.shape, X_test.shape)\n",
    "print(y_train.shape, y_test.shape)"
   ]
  },
  {
   "cell_type": "markdown",
   "id": "73466be9",
   "metadata": {
    "papermill": {
     "duration": 0.022769,
     "end_time": "2023-03-23T06:10:29.755305",
     "exception": false,
     "start_time": "2023-03-23T06:10:29.732536",
     "status": "completed"
    },
    "tags": []
   },
   "source": [
    "### Verification Analysis\n",
    "\n",
    "* X_train: 4457 observations, 1 feature\n",
    "* X_test: 1115 observations, 1 feature\n",
    "* y_train: 4457 observations, 1 feature\n",
    "* y_test: 1115 observations, 1 feature\n",
    "\n",
    "Since Training and Testing observations match, and features are the expected value, the training and testing data was split correctly."
   ]
  },
  {
   "cell_type": "markdown",
   "id": "b5c3dd3f",
   "metadata": {
    "papermill": {
     "duration": 0.022478,
     "end_time": "2023-03-23T06:10:29.800916",
     "exception": false,
     "start_time": "2023-03-23T06:10:29.778438",
     "status": "completed"
    },
    "tags": []
   },
   "source": [
    "### Obtain Count Vectorizer"
   ]
  },
  {
   "cell_type": "code",
   "execution_count": 28,
   "id": "38f04515",
   "metadata": {
    "execution": {
     "iopub.execute_input": "2023-03-23T06:10:29.849358Z",
     "iopub.status.busy": "2023-03-23T06:10:29.848816Z",
     "iopub.status.idle": "2023-03-23T06:10:30.121953Z",
     "shell.execute_reply": "2023-03-23T06:10:30.120845Z"
    },
    "papermill": {
     "duration": 0.300952,
     "end_time": "2023-03-23T06:10:30.124691",
     "exception": false,
     "start_time": "2023-03-23T06:10:29.823739",
     "status": "completed"
    },
    "tags": []
   },
   "outputs": [
    {
     "data": {
      "text/html": [
       "<div>\n",
       "<style scoped>\n",
       "    .dataframe tbody tr th:only-of-type {\n",
       "        vertical-align: middle;\n",
       "    }\n",
       "\n",
       "    .dataframe tbody tr th {\n",
       "        vertical-align: top;\n",
       "    }\n",
       "\n",
       "    .dataframe thead th {\n",
       "        text-align: right;\n",
       "    }\n",
       "</style>\n",
       "<table border=\"1\" class=\"dataframe\">\n",
       "  <thead>\n",
       "    <tr style=\"text-align: right;\">\n",
       "      <th></th>\n",
       "      <th>008704050406</th>\n",
       "      <th>0089my</th>\n",
       "      <th>0121</th>\n",
       "      <th>01223585236</th>\n",
       "      <th>01223585334</th>\n",
       "      <th>02</th>\n",
       "      <th>020603</th>\n",
       "      <th>0207</th>\n",
       "      <th>02070836089</th>\n",
       "      <th>02072069400</th>\n",
       "      <th>...</th>\n",
       "      <th>zealand</th>\n",
       "      <th>zed</th>\n",
       "      <th>zeros</th>\n",
       "      <th>zhong</th>\n",
       "      <th>zindgi</th>\n",
       "      <th>zoe</th>\n",
       "      <th>zogtorius</th>\n",
       "      <th>zyada</th>\n",
       "      <th>üll</th>\n",
       "      <th>〨ud</th>\n",
       "    </tr>\n",
       "  </thead>\n",
       "  <tbody>\n",
       "    <tr>\n",
       "      <th>0</th>\n",
       "      <td>0</td>\n",
       "      <td>0</td>\n",
       "      <td>0</td>\n",
       "      <td>0</td>\n",
       "      <td>0</td>\n",
       "      <td>0</td>\n",
       "      <td>0</td>\n",
       "      <td>0</td>\n",
       "      <td>0</td>\n",
       "      <td>0</td>\n",
       "      <td>...</td>\n",
       "      <td>0</td>\n",
       "      <td>0</td>\n",
       "      <td>0</td>\n",
       "      <td>0</td>\n",
       "      <td>0</td>\n",
       "      <td>0</td>\n",
       "      <td>0</td>\n",
       "      <td>0</td>\n",
       "      <td>0</td>\n",
       "      <td>0</td>\n",
       "    </tr>\n",
       "    <tr>\n",
       "      <th>1</th>\n",
       "      <td>0</td>\n",
       "      <td>0</td>\n",
       "      <td>0</td>\n",
       "      <td>0</td>\n",
       "      <td>0</td>\n",
       "      <td>0</td>\n",
       "      <td>0</td>\n",
       "      <td>0</td>\n",
       "      <td>0</td>\n",
       "      <td>0</td>\n",
       "      <td>...</td>\n",
       "      <td>0</td>\n",
       "      <td>0</td>\n",
       "      <td>0</td>\n",
       "      <td>0</td>\n",
       "      <td>0</td>\n",
       "      <td>0</td>\n",
       "      <td>0</td>\n",
       "      <td>0</td>\n",
       "      <td>0</td>\n",
       "      <td>0</td>\n",
       "    </tr>\n",
       "    <tr>\n",
       "      <th>2</th>\n",
       "      <td>0</td>\n",
       "      <td>0</td>\n",
       "      <td>0</td>\n",
       "      <td>0</td>\n",
       "      <td>0</td>\n",
       "      <td>0</td>\n",
       "      <td>0</td>\n",
       "      <td>0</td>\n",
       "      <td>0</td>\n",
       "      <td>0</td>\n",
       "      <td>...</td>\n",
       "      <td>0</td>\n",
       "      <td>0</td>\n",
       "      <td>0</td>\n",
       "      <td>0</td>\n",
       "      <td>0</td>\n",
       "      <td>0</td>\n",
       "      <td>0</td>\n",
       "      <td>0</td>\n",
       "      <td>0</td>\n",
       "      <td>0</td>\n",
       "    </tr>\n",
       "    <tr>\n",
       "      <th>3</th>\n",
       "      <td>0</td>\n",
       "      <td>0</td>\n",
       "      <td>0</td>\n",
       "      <td>0</td>\n",
       "      <td>0</td>\n",
       "      <td>0</td>\n",
       "      <td>0</td>\n",
       "      <td>0</td>\n",
       "      <td>0</td>\n",
       "      <td>0</td>\n",
       "      <td>...</td>\n",
       "      <td>0</td>\n",
       "      <td>0</td>\n",
       "      <td>0</td>\n",
       "      <td>0</td>\n",
       "      <td>0</td>\n",
       "      <td>0</td>\n",
       "      <td>0</td>\n",
       "      <td>0</td>\n",
       "      <td>0</td>\n",
       "      <td>0</td>\n",
       "    </tr>\n",
       "    <tr>\n",
       "      <th>4</th>\n",
       "      <td>0</td>\n",
       "      <td>0</td>\n",
       "      <td>0</td>\n",
       "      <td>0</td>\n",
       "      <td>0</td>\n",
       "      <td>0</td>\n",
       "      <td>0</td>\n",
       "      <td>0</td>\n",
       "      <td>0</td>\n",
       "      <td>0</td>\n",
       "      <td>...</td>\n",
       "      <td>0</td>\n",
       "      <td>0</td>\n",
       "      <td>0</td>\n",
       "      <td>0</td>\n",
       "      <td>0</td>\n",
       "      <td>0</td>\n",
       "      <td>0</td>\n",
       "      <td>0</td>\n",
       "      <td>0</td>\n",
       "      <td>0</td>\n",
       "    </tr>\n",
       "    <tr>\n",
       "      <th>...</th>\n",
       "      <td>...</td>\n",
       "      <td>...</td>\n",
       "      <td>...</td>\n",
       "      <td>...</td>\n",
       "      <td>...</td>\n",
       "      <td>...</td>\n",
       "      <td>...</td>\n",
       "      <td>...</td>\n",
       "      <td>...</td>\n",
       "      <td>...</td>\n",
       "      <td>...</td>\n",
       "      <td>...</td>\n",
       "      <td>...</td>\n",
       "      <td>...</td>\n",
       "      <td>...</td>\n",
       "      <td>...</td>\n",
       "      <td>...</td>\n",
       "      <td>...</td>\n",
       "      <td>...</td>\n",
       "      <td>...</td>\n",
       "      <td>...</td>\n",
       "    </tr>\n",
       "    <tr>\n",
       "      <th>4452</th>\n",
       "      <td>0</td>\n",
       "      <td>0</td>\n",
       "      <td>0</td>\n",
       "      <td>0</td>\n",
       "      <td>0</td>\n",
       "      <td>0</td>\n",
       "      <td>0</td>\n",
       "      <td>0</td>\n",
       "      <td>0</td>\n",
       "      <td>0</td>\n",
       "      <td>...</td>\n",
       "      <td>0</td>\n",
       "      <td>0</td>\n",
       "      <td>0</td>\n",
       "      <td>0</td>\n",
       "      <td>0</td>\n",
       "      <td>0</td>\n",
       "      <td>0</td>\n",
       "      <td>0</td>\n",
       "      <td>0</td>\n",
       "      <td>0</td>\n",
       "    </tr>\n",
       "    <tr>\n",
       "      <th>4453</th>\n",
       "      <td>0</td>\n",
       "      <td>0</td>\n",
       "      <td>0</td>\n",
       "      <td>0</td>\n",
       "      <td>0</td>\n",
       "      <td>0</td>\n",
       "      <td>0</td>\n",
       "      <td>0</td>\n",
       "      <td>0</td>\n",
       "      <td>0</td>\n",
       "      <td>...</td>\n",
       "      <td>0</td>\n",
       "      <td>0</td>\n",
       "      <td>0</td>\n",
       "      <td>0</td>\n",
       "      <td>0</td>\n",
       "      <td>0</td>\n",
       "      <td>0</td>\n",
       "      <td>0</td>\n",
       "      <td>0</td>\n",
       "      <td>0</td>\n",
       "    </tr>\n",
       "    <tr>\n",
       "      <th>4454</th>\n",
       "      <td>1</td>\n",
       "      <td>0</td>\n",
       "      <td>0</td>\n",
       "      <td>0</td>\n",
       "      <td>0</td>\n",
       "      <td>0</td>\n",
       "      <td>0</td>\n",
       "      <td>0</td>\n",
       "      <td>0</td>\n",
       "      <td>0</td>\n",
       "      <td>...</td>\n",
       "      <td>0</td>\n",
       "      <td>0</td>\n",
       "      <td>0</td>\n",
       "      <td>0</td>\n",
       "      <td>0</td>\n",
       "      <td>0</td>\n",
       "      <td>0</td>\n",
       "      <td>0</td>\n",
       "      <td>0</td>\n",
       "      <td>0</td>\n",
       "    </tr>\n",
       "    <tr>\n",
       "      <th>4455</th>\n",
       "      <td>0</td>\n",
       "      <td>0</td>\n",
       "      <td>0</td>\n",
       "      <td>0</td>\n",
       "      <td>0</td>\n",
       "      <td>0</td>\n",
       "      <td>0</td>\n",
       "      <td>0</td>\n",
       "      <td>0</td>\n",
       "      <td>0</td>\n",
       "      <td>...</td>\n",
       "      <td>0</td>\n",
       "      <td>0</td>\n",
       "      <td>0</td>\n",
       "      <td>0</td>\n",
       "      <td>0</td>\n",
       "      <td>0</td>\n",
       "      <td>0</td>\n",
       "      <td>0</td>\n",
       "      <td>0</td>\n",
       "      <td>0</td>\n",
       "    </tr>\n",
       "    <tr>\n",
       "      <th>4456</th>\n",
       "      <td>0</td>\n",
       "      <td>0</td>\n",
       "      <td>0</td>\n",
       "      <td>0</td>\n",
       "      <td>0</td>\n",
       "      <td>0</td>\n",
       "      <td>0</td>\n",
       "      <td>0</td>\n",
       "      <td>0</td>\n",
       "      <td>0</td>\n",
       "      <td>...</td>\n",
       "      <td>0</td>\n",
       "      <td>0</td>\n",
       "      <td>0</td>\n",
       "      <td>0</td>\n",
       "      <td>0</td>\n",
       "      <td>0</td>\n",
       "      <td>0</td>\n",
       "      <td>0</td>\n",
       "      <td>0</td>\n",
       "      <td>0</td>\n",
       "    </tr>\n",
       "  </tbody>\n",
       "</table>\n",
       "<p>4457 rows × 8228 columns</p>\n",
       "</div>"
      ],
      "text/plain": [
       "      008704050406  0089my  0121  01223585236  01223585334  02  020603  0207  \\\n",
       "0                0       0     0            0            0   0       0     0   \n",
       "1                0       0     0            0            0   0       0     0   \n",
       "2                0       0     0            0            0   0       0     0   \n",
       "3                0       0     0            0            0   0       0     0   \n",
       "4                0       0     0            0            0   0       0     0   \n",
       "...            ...     ...   ...          ...          ...  ..     ...   ...   \n",
       "4452             0       0     0            0            0   0       0     0   \n",
       "4453             0       0     0            0            0   0       0     0   \n",
       "4454             1       0     0            0            0   0       0     0   \n",
       "4455             0       0     0            0            0   0       0     0   \n",
       "4456             0       0     0            0            0   0       0     0   \n",
       "\n",
       "      02070836089  02072069400  ...  zealand  zed  zeros  zhong  zindgi  zoe  \\\n",
       "0               0            0  ...        0    0      0      0       0    0   \n",
       "1               0            0  ...        0    0      0      0       0    0   \n",
       "2               0            0  ...        0    0      0      0       0    0   \n",
       "3               0            0  ...        0    0      0      0       0    0   \n",
       "4               0            0  ...        0    0      0      0       0    0   \n",
       "...           ...          ...  ...      ...  ...    ...    ...     ...  ...   \n",
       "4452            0            0  ...        0    0      0      0       0    0   \n",
       "4453            0            0  ...        0    0      0      0       0    0   \n",
       "4454            0            0  ...        0    0      0      0       0    0   \n",
       "4455            0            0  ...        0    0      0      0       0    0   \n",
       "4456            0            0  ...        0    0      0      0       0    0   \n",
       "\n",
       "      zogtorius  zyada  üll  〨ud  \n",
       "0             0      0    0    0  \n",
       "1             0      0    0    0  \n",
       "2             0      0    0    0  \n",
       "3             0      0    0    0  \n",
       "4             0      0    0    0  \n",
       "...         ...    ...  ...  ...  \n",
       "4452          0      0    0    0  \n",
       "4453          0      0    0    0  \n",
       "4454          0      0    0    0  \n",
       "4455          0      0    0    0  \n",
       "4456          0      0    0    0  \n",
       "\n",
       "[4457 rows x 8228 columns]"
      ]
     },
     "execution_count": 28,
     "metadata": {},
     "output_type": "execute_result"
    }
   ],
   "source": [
    "from sklearn.feature_extraction.text import CountVectorizer    #Convert a collection of text documents to a matrix of token counts.\n",
    "\n",
    "# Fit Data\n",
    "vect = CountVectorizer()\n",
    "vect.fit(X_train)\n",
    "\n",
    "#Transform Data\n",
    "X_train_dtm = vect.transform(X_train)    #transform train data, dtm = data transformation\n",
    "X_test_dtm = vect.transform(X_test)      #transform test data, dtm = data transformation\n",
    "\n",
    "#view vectorized messages\n",
    "pd.DataFrame(X_train_dtm.toarray(),columns=vect.get_feature_names_out())"
   ]
  },
  {
   "cell_type": "markdown",
   "id": "63cfe863",
   "metadata": {
    "papermill": {
     "duration": 0.022799,
     "end_time": "2023-03-23T06:10:30.171298",
     "exception": false,
     "start_time": "2023-03-23T06:10:30.148499",
     "status": "completed"
    },
    "tags": []
   },
   "source": [
    " ## Convert to a NumPy array"
   ]
  },
  {
   "cell_type": "code",
   "execution_count": 29,
   "id": "2ce3d879",
   "metadata": {
    "execution": {
     "iopub.execute_input": "2023-03-23T06:10:30.220858Z",
     "iopub.status.busy": "2023-03-23T06:10:30.219644Z",
     "iopub.status.idle": "2023-03-23T06:10:30.346587Z",
     "shell.execute_reply": "2023-03-23T06:10:30.345160Z"
    },
    "papermill": {
     "duration": 0.155074,
     "end_time": "2023-03-23T06:10:30.349967",
     "exception": false,
     "start_time": "2023-03-23T06:10:30.194893",
     "status": "completed"
    },
    "tags": []
   },
   "outputs": [],
   "source": [
    "#Verify Vectorizers Completed\n",
    "X_test_np = X_test_dtm.toarray()              #convert test vectorizer\n",
    "X_train_np = X_train_dtm.toarray()            #convert train vectorizer"
   ]
  },
  {
   "cell_type": "markdown",
   "id": "e622f1de",
   "metadata": {
    "papermill": {
     "duration": 0.023052,
     "end_time": "2023-03-23T06:10:30.397970",
     "exception": false,
     "start_time": "2023-03-23T06:10:30.374918",
     "status": "completed"
    },
    "tags": []
   },
   "source": [
    "## Create Decision Tree Model\n",
    "### Fit Decision Tree"
   ]
  },
  {
   "cell_type": "code",
   "execution_count": 30,
   "id": "4712f96b",
   "metadata": {
    "execution": {
     "iopub.execute_input": "2023-03-23T06:10:30.448370Z",
     "iopub.status.busy": "2023-03-23T06:10:30.446901Z",
     "iopub.status.idle": "2023-03-23T06:10:54.817914Z",
     "shell.execute_reply": "2023-03-23T06:10:54.816584Z"
    },
    "papermill": {
     "duration": 24.399817,
     "end_time": "2023-03-23T06:10:54.821353",
     "exception": false,
     "start_time": "2023-03-23T06:10:30.421536",
     "status": "completed"
    },
    "tags": []
   },
   "outputs": [],
   "source": [
    "from sklearn.tree import DecisionTreeClassifier\n",
    "\n",
    "dt = DecisionTreeClassifier(random_state = 42) #Create Instance\n",
    "model = dt.fit(X_train_np, y_train)"
   ]
  },
  {
   "cell_type": "markdown",
   "id": "4b3566ed",
   "metadata": {
    "execution": {
     "iopub.execute_input": "2023-03-23T02:24:36.248749Z",
     "iopub.status.busy": "2023-03-23T02:24:36.248364Z",
     "iopub.status.idle": "2023-03-23T02:24:36.256379Z",
     "shell.execute_reply": "2023-03-23T02:24:36.255253Z",
     "shell.execute_reply.started": "2023-03-23T02:24:36.248715Z"
    },
    "papermill": {
     "duration": 0.025452,
     "end_time": "2023-03-23T06:10:54.870639",
     "exception": false,
     "start_time": "2023-03-23T06:10:54.845187",
     "status": "completed"
    },
    "tags": []
   },
   "source": [
    "### Test Model Metrics"
   ]
  },
  {
   "cell_type": "code",
   "execution_count": 31,
   "id": "57157fed",
   "metadata": {
    "execution": {
     "iopub.execute_input": "2023-03-23T06:10:54.920933Z",
     "iopub.status.busy": "2023-03-23T06:10:54.920477Z",
     "iopub.status.idle": "2023-03-23T06:10:54.976665Z",
     "shell.execute_reply": "2023-03-23T06:10:54.975558Z"
    },
    "papermill": {
     "duration": 0.084504,
     "end_time": "2023-03-23T06:10:54.979816",
     "exception": false,
     "start_time": "2023-03-23T06:10:54.895312",
     "status": "completed"
    },
    "tags": []
   },
   "outputs": [],
   "source": [
    "# Make Predictions\n",
    "pred = model.predict(X_test_np)"
   ]
  },
  {
   "cell_type": "code",
   "execution_count": 32,
   "id": "ea179bae",
   "metadata": {
    "execution": {
     "iopub.execute_input": "2023-03-23T06:10:55.030685Z",
     "iopub.status.busy": "2023-03-23T06:10:55.029912Z",
     "iopub.status.idle": "2023-03-23T06:10:55.042567Z",
     "shell.execute_reply": "2023-03-23T06:10:55.040813Z"
    },
    "papermill": {
     "duration": 0.041433,
     "end_time": "2023-03-23T06:10:55.045340",
     "exception": false,
     "start_time": "2023-03-23T06:10:55.003907",
     "status": "completed"
    },
    "tags": []
   },
   "outputs": [
    {
     "name": "stdout",
     "output_type": "stream",
     "text": [
      "Compare First 5 Values\n",
      "Predictions:\t[0 0 0 1 0]\n",
      "True Data:\t[0 0 0 1 0]\n",
      "\n",
      "\n",
      "Confusion Matrix\n",
      "[[948  18]\n",
      " [ 34 115]]\n",
      "\n",
      "\n",
      "Accuracy Score\n",
      "0.9533632286995516\n"
     ]
    }
   ],
   "source": [
    "from sklearn.metrics import confusion_matrix, accuracy_score\n",
    "\n",
    "# Compare Prediction vs True Value\n",
    "print('Compare First 5 Values\\n'\n",
    "      f'Predictions:\\t{pred[0:5]}\\n'\n",
    "      f'True Data:\\t{y_test.to_numpy()[0:5]}')\n",
    "\n",
    "# View Confusion Matrix\n",
    "print(f'\\n\\nConfusion Matrix\\n'\n",
    "      f'{confusion_matrix(y_test, pred)}') #cm(true data, predictions)\n",
    "\n",
    "\n",
    "# View Accuracy Score\n",
    "print(f'\\n\\nAccuracy Score\\n'\n",
    "      f'{accuracy_score(y_test, pred)}') #as(true data, predictions)"
   ]
  },
  {
   "cell_type": "markdown",
   "id": "2654d392",
   "metadata": {
    "papermill": {
     "duration": 0.02297,
     "end_time": "2023-03-23T06:10:55.091890",
     "exception": false,
     "start_time": "2023-03-23T06:10:55.068920",
     "status": "completed"
    },
    "tags": []
   },
   "source": [
    "### Metrics Analysis\n",
    "\n",
    "#### Confusion Matrix\n",
    "\n",
    "|                 | Predicted Value<br>[0] | Predicted Value<br>[1] |\n",
    "| --------------- | ---------------------- | ---------------------- |\n",
    "| True Value [0]  | Prediction Correct     | Prediction Incorrect   |\n",
    "| True Value [1]  | Prediction Incorrect   | Prediction Correct     |\n",
    "\n",
    "| P, T | 0           | 1           |\n",
    "| ---- | ----------- | ----------- |\n",
    "| 0    | <b>0, 0</b> | 1, 0        |\n",
    "| 1    | 0, 1        | <b>1, 1</b> |\n",
    "\n",
    "Therefore, the stats above state the following\n",
    "\n",
    "| | |\n",
    "| ---------------------------------------------------- | -------------------------------------------------- |\n",
    "| 948 Predicted HAM Correctly                         | 18 Predicted SPAM incorrectly,<br> was actually HAM |\n",
    "| 34 Predicted HAM incorrectly,<br> was actually SPAM  | 115 Predicted SPAM Correctly                       |\n",
    "\n",
    "#### Classifier Analysis\n",
    "\n",
    "#TODO"
   ]
  },
  {
   "cell_type": "markdown",
   "id": "37fcac1d",
   "metadata": {
    "papermill": {
     "duration": 0.02315,
     "end_time": "2023-03-23T06:10:55.138586",
     "exception": false,
     "start_time": "2023-03-23T06:10:55.115436",
     "status": "completed"
    },
    "tags": []
   },
   "source": [
    "## Recreate Decision Tree Model: Analyze with Entropy\n",
    "### Refit Decision Tree"
   ]
  },
  {
   "cell_type": "code",
   "execution_count": 33,
   "id": "cf6587ce",
   "metadata": {
    "execution": {
     "iopub.execute_input": "2023-03-23T06:10:55.188606Z",
     "iopub.status.busy": "2023-03-23T06:10:55.188000Z",
     "iopub.status.idle": "2023-03-23T06:11:14.330658Z",
     "shell.execute_reply": "2023-03-23T06:11:14.329544Z"
    },
    "papermill": {
     "duration": 19.171571,
     "end_time": "2023-03-23T06:11:14.333626",
     "exception": false,
     "start_time": "2023-03-23T06:10:55.162055",
     "status": "completed"
    },
    "tags": []
   },
   "outputs": [],
   "source": [
    "dt_etrpy = DecisionTreeClassifier(random_state = 42, criterion = 'entropy') #Create Instance\n",
    "model_etrpy = dt_etrpy.fit(X_train_np, y_train)"
   ]
  },
  {
   "cell_type": "markdown",
   "id": "183af703",
   "metadata": {
    "papermill": {
     "duration": 0.023332,
     "end_time": "2023-03-23T06:11:14.380814",
     "exception": false,
     "start_time": "2023-03-23T06:11:14.357482",
     "status": "completed"
    },
    "tags": []
   },
   "source": [
    "### Retest Model Metrics"
   ]
  },
  {
   "cell_type": "code",
   "execution_count": 34,
   "id": "fbe1e507",
   "metadata": {
    "execution": {
     "iopub.execute_input": "2023-03-23T06:11:14.432527Z",
     "iopub.status.busy": "2023-03-23T06:11:14.431696Z",
     "iopub.status.idle": "2023-03-23T06:11:14.470523Z",
     "shell.execute_reply": "2023-03-23T06:11:14.469263Z"
    },
    "papermill": {
     "duration": 0.068254,
     "end_time": "2023-03-23T06:11:14.473618",
     "exception": false,
     "start_time": "2023-03-23T06:11:14.405364",
     "status": "completed"
    },
    "tags": []
   },
   "outputs": [],
   "source": [
    "# Make Predictions\n",
    "pred_etrpy = model_etrpy.predict(X_test_np)"
   ]
  },
  {
   "cell_type": "code",
   "execution_count": 35,
   "id": "daba0b94",
   "metadata": {
    "execution": {
     "iopub.execute_input": "2023-03-23T06:11:14.523282Z",
     "iopub.status.busy": "2023-03-23T06:11:14.522744Z",
     "iopub.status.idle": "2023-03-23T06:11:14.532900Z",
     "shell.execute_reply": "2023-03-23T06:11:14.531639Z"
    },
    "papermill": {
     "duration": 0.037639,
     "end_time": "2023-03-23T06:11:14.535152",
     "exception": false,
     "start_time": "2023-03-23T06:11:14.497513",
     "status": "completed"
    },
    "tags": []
   },
   "outputs": [
    {
     "name": "stdout",
     "output_type": "stream",
     "text": [
      "Compare First 5 Values\n",
      "Predictions:\t[0 0 0 1 0]\n",
      "True Data:\t[0 0 0 1 0]\n",
      "\n",
      "\n",
      "Confusion Matrix\n",
      "[[944  22]\n",
      " [ 32 117]]\n",
      "\n",
      "\n",
      "Accuracy Score\n",
      "0.9515695067264573\n"
     ]
    }
   ],
   "source": [
    "# Compare Prediction vs True Value\n",
    "print('Compare First 5 Values\\n'\n",
    "      f'Predictions:\\t{pred_etrpy[0:5]}\\n'\n",
    "      f'True Data:\\t{y_test.to_numpy()[0:5]}')\n",
    "\n",
    "# View Confusion Matrix\n",
    "print(f'\\n\\nConfusion Matrix\\n'\n",
    "      f'{confusion_matrix(y_test, pred_etrpy)}') #cm(true data, predictions)\n",
    "\n",
    "\n",
    "# View Accuracy Score\n",
    "print(f'\\n\\nAccuracy Score\\n'\n",
    "      f'{accuracy_score(y_test, pred_etrpy)}') #as(true data, predictions)"
   ]
  },
  {
   "cell_type": "markdown",
   "id": "68416ace",
   "metadata": {
    "papermill": {
     "duration": 0.023424,
     "end_time": "2023-03-23T06:11:14.582616",
     "exception": false,
     "start_time": "2023-03-23T06:11:14.559192",
     "status": "completed"
    },
    "tags": []
   },
   "source": [
    "### Metrics Analysis\n",
    "\n",
    "#### Confusion Matrix\n",
    "\n",
    "|                 | Predicted Value<br>[0] | Predicted Value<br>[1] |\n",
    "| --------------- | ---------------------- | ---------------------- |\n",
    "| True Value [0]  | Prediction Correct     | Prediction Incorrect   |\n",
    "| True Value [1]  | Prediction Incorrect   | Prediction Correct     |\n",
    "\n",
    "| P, T | 0           | 1           |\n",
    "| ---- | ----------- | ----------- |\n",
    "| 0    | <b>0, 0</b> | 1, 0        |\n",
    "| 1    | 0, 1        | <b>1, 1</b> |\n",
    "\n",
    "Therefore, the stats above state the following\n",
    "\n",
    "| | |\n",
    "| ---------------------------------------------------- | -------------------------------------------------- |\n",
    "| 944 Predicted HAM Correctly                         | 22 Predicted SPAM incorrectly,<br> was actually HAM |\n",
    "| 32 Predicted HAM incorrectly,<br> was actually SPAM  | 117 Predicted SPAM Correctly                       |\n",
    "\n",
    "#### Classifier Analysis\n",
    "\n",
    "#TODO"
   ]
  },
  {
   "cell_type": "markdown",
   "id": "922bb721",
   "metadata": {
    "papermill": {
     "duration": 0.02347,
     "end_time": "2023-03-23T06:11:14.629697",
     "exception": false,
     "start_time": "2023-03-23T06:11:14.606227",
     "status": "completed"
    },
    "tags": []
   },
   "source": [
    "## Recreate Decision Tree Model: Pre-Pruning\n",
    "### Refit Decision Tree"
   ]
  },
  {
   "cell_type": "code",
   "execution_count": 36,
   "id": "850242c5",
   "metadata": {
    "execution": {
     "iopub.execute_input": "2023-03-23T06:11:14.680224Z",
     "iopub.status.busy": "2023-03-23T06:11:14.678961Z",
     "iopub.status.idle": "2023-03-23T06:11:14.685064Z",
     "shell.execute_reply": "2023-03-23T06:11:14.683802Z"
    },
    "papermill": {
     "duration": 0.034446,
     "end_time": "2023-03-23T06:11:14.688025",
     "exception": false,
     "start_time": "2023-03-23T06:11:14.653579",
     "status": "completed"
    },
    "tags": []
   },
   "outputs": [],
   "source": [
    "optm_found = False #flag for finding optimal depth"
   ]
  },
  {
   "cell_type": "code",
   "execution_count": 37,
   "id": "b653a17f",
   "metadata": {
    "execution": {
     "iopub.execute_input": "2023-03-23T06:11:14.739843Z",
     "iopub.status.busy": "2023-03-23T06:11:14.739352Z",
     "iopub.status.idle": "2023-03-23T06:11:14.745967Z",
     "shell.execute_reply": "2023-03-23T06:11:14.744556Z"
    },
    "papermill": {
     "duration": 0.036672,
     "end_time": "2023-03-23T06:11:14.748711",
     "exception": false,
     "start_time": "2023-03-23T06:11:14.712039",
     "status": "completed"
    },
    "tags": []
   },
   "outputs": [
    {
     "name": "stdout",
     "output_type": "stream",
     "text": [
      "63\n"
     ]
    }
   ],
   "source": [
    "#Find current max_depth of Model\n",
    "curr_depth = model.tree_.max_depth\n",
    "print(curr_depth)"
   ]
  },
  {
   "cell_type": "code",
   "execution_count": 38,
   "id": "5a12a310",
   "metadata": {
    "execution": {
     "iopub.execute_input": "2023-03-23T06:11:14.798618Z",
     "iopub.status.busy": "2023-03-23T06:11:14.798153Z",
     "iopub.status.idle": "2023-03-23T06:11:14.804964Z",
     "shell.execute_reply": "2023-03-23T06:11:14.803611Z"
    },
    "papermill": {
     "duration": 0.03471,
     "end_time": "2023-03-23T06:11:14.807468",
     "exception": false,
     "start_time": "2023-03-23T06:11:14.772758",
     "status": "completed"
    },
    "tags": []
   },
   "outputs": [],
   "source": [
    "# #                                                          #\n",
    "# #                            Note                          #\n",
    "# #                                                          #\n",
    "# #      This cell is commented out by default as it is      #\n",
    "# #                computationally expensive.                #\n",
    "# #                                                          #\n",
    "# #   However, the code is left in to show the process of    # \n",
    "# #     determining the max_depth used in the next cell.     # \n",
    "# #                                                          #\n",
    "# #        To implement this method, uncomment cell.         #\n",
    "# #                                                          #\n",
    "# #   [Tip: ctrl+a then ctrl+/ will quickly uncomment cell]  #\n",
    "# #                                                          #\n",
    "\n",
    "\n",
    "# # Find Optimal max_depth for Model\n",
    "# optimal = []                              # list to hold optimal depth [depth, accuracy]\n",
    "\n",
    "# for each_depth in range(1,curr_depth):    #iterate over depths\n",
    "\n",
    "\n",
    "#     dt_optm = DecisionTreeClassifier(random_state = 42,\n",
    "#                                      criterion = 'entropy',\n",
    "#                                      max_depth=each_depth)   #create instance for each_depth\n",
    "#     model_optm = dt_optm.fit(X_train_np, y_train)            #fit model to new instance\n",
    "\n",
    "\n",
    "#     pred_optm = model_optm.predict(X_test_np)                #make prediction\n",
    "#     acc_optm = accuracy_score(y_test, pred_optm)             #test accuracy\n",
    "\n",
    "\n",
    "#     #                                                          #\n",
    "#     #                    Additional Option                     #\n",
    "#     #                                                          #\n",
    "#     #       The print statement below will print out all       #\n",
    "#     #   metrics (depth, accuracy, and confustion matrix) for   #\n",
    "#     #               all depths 1 to curr_depth.                #\n",
    "#     #                                                          #\n",
    "#     #    This statement is further commented out by default    #\n",
    "#     #        as it prints excessive data to the console        #\n",
    "#     #                                                          #\n",
    "#     #       To implement, uncomment the statement below:       #\n",
    "#     #                                                          #\n",
    "\n",
    "#     # print(f'<{each_depth}>\\t{acc_optm}\\n{confusion_matrix(y_test, pred_optm)}\\n')    #cm(true data, predictions)  \n",
    "\n",
    "\n",
    "#     if each_depth == 1 or acc_optm > optimal[1]:\n",
    "#         optimal = [each_depth, acc_optm]\n",
    "#         optm_found = True\n",
    "\n",
    "# print(f'The max depth of {optimal[0]} provides the greatest accuracy score of {optimal[1]}')"
   ]
  },
  {
   "cell_type": "code",
   "execution_count": 39,
   "id": "5eaf05cf",
   "metadata": {
    "execution": {
     "iopub.execute_input": "2023-03-23T06:11:14.857755Z",
     "iopub.status.busy": "2023-03-23T06:11:14.857274Z",
     "iopub.status.idle": "2023-03-23T06:11:24.606208Z",
     "shell.execute_reply": "2023-03-23T06:11:24.604674Z"
    },
    "papermill": {
     "duration": 9.778314,
     "end_time": "2023-03-23T06:11:24.609624",
     "exception": false,
     "start_time": "2023-03-23T06:11:14.831310",
     "status": "completed"
    },
    "tags": []
   },
   "outputs": [
    {
     "name": "stdout",
     "output_type": "stream",
     "text": [
      "Fitting Decision Tree to max_depth of 24 ...\n"
     ]
    }
   ],
   "source": [
    "#Test if Previous Cell Ran\n",
    "optm_depth = optimal[0] if optm_found else 24\n",
    "\n",
    "#Fit Model to new depth\n",
    "print(f'Fitting Decision Tree to max_depth of {optm_depth} ...')\n",
    "dt_preprn = DecisionTreeClassifier(random_state = 42, criterion = 'entropy',max_depth=optm_depth) #Create Instance\n",
    "model_preprn = dt_preprn.fit(X_train_np, y_train)"
   ]
  },
  {
   "cell_type": "markdown",
   "id": "107c009c",
   "metadata": {
    "papermill": {
     "duration": 0.023478,
     "end_time": "2023-03-23T06:11:24.657804",
     "exception": false,
     "start_time": "2023-03-23T06:11:24.634326",
     "status": "completed"
    },
    "tags": []
   },
   "source": [
    "### Retest Model Metrics"
   ]
  },
  {
   "cell_type": "code",
   "execution_count": 40,
   "id": "454a1f4f",
   "metadata": {
    "execution": {
     "iopub.execute_input": "2023-03-23T06:11:24.709358Z",
     "iopub.status.busy": "2023-03-23T06:11:24.708401Z",
     "iopub.status.idle": "2023-03-23T06:11:24.746816Z",
     "shell.execute_reply": "2023-03-23T06:11:24.745476Z"
    },
    "papermill": {
     "duration": 0.06821,
     "end_time": "2023-03-23T06:11:24.749945",
     "exception": false,
     "start_time": "2023-03-23T06:11:24.681735",
     "status": "completed"
    },
    "tags": []
   },
   "outputs": [],
   "source": [
    "# Make Predictions\n",
    "pred_preprn = model_preprn.predict(X_test_np)"
   ]
  },
  {
   "cell_type": "code",
   "execution_count": 41,
   "id": "a27ba129",
   "metadata": {
    "execution": {
     "iopub.execute_input": "2023-03-23T06:11:24.800240Z",
     "iopub.status.busy": "2023-03-23T06:11:24.799735Z",
     "iopub.status.idle": "2023-03-23T06:11:24.809471Z",
     "shell.execute_reply": "2023-03-23T06:11:24.808147Z"
    },
    "papermill": {
     "duration": 0.03784,
     "end_time": "2023-03-23T06:11:24.811822",
     "exception": false,
     "start_time": "2023-03-23T06:11:24.773982",
     "status": "completed"
    },
    "tags": []
   },
   "outputs": [
    {
     "name": "stdout",
     "output_type": "stream",
     "text": [
      "Compare First 5 Values\n",
      "Predictions:\t[0 0 0 1 0]\n",
      "True Data:\t[0 0 0 1 0]\n",
      "\n",
      "\n",
      "Confusion Matrix\n",
      "[[959   7]\n",
      " [ 35 114]]\n",
      "\n",
      "\n",
      "Accuracy Score\n",
      "0.9623318385650225\n"
     ]
    }
   ],
   "source": [
    "# Compare Prediction vs True Value\n",
    "print('Compare First 5 Values\\n'\n",
    "      f'Predictions:\\t{pred_preprn[0:5]}\\n'\n",
    "      f'True Data:\\t{y_test.to_numpy()[0:5]}')\n",
    "\n",
    "# View Confusion Matrix\n",
    "print(f'\\n\\nConfusion Matrix\\n'\n",
    "      f'{confusion_matrix(y_test, pred_preprn)}') #cm(true data, predictions)\n",
    "\n",
    "\n",
    "# View Accuracy Score\n",
    "print(f'\\n\\nAccuracy Score\\n'\n",
    "      f'{accuracy_score(y_test, pred_preprn)}') #as(true data, predictions)"
   ]
  },
  {
   "cell_type": "markdown",
   "id": "ab2d1a8f",
   "metadata": {
    "papermill": {
     "duration": 0.024964,
     "end_time": "2023-03-23T06:11:24.861034",
     "exception": false,
     "start_time": "2023-03-23T06:11:24.836070",
     "status": "completed"
    },
    "tags": []
   },
   "source": [
    "### Metrics Analysis\n",
    "\n",
    "#### Confusion Matrix\n",
    "\n",
    "|                 | Predicted Value<br>[0] | Predicted Value<br>[1] |\n",
    "| --------------- | ---------------------- | ---------------------- |\n",
    "| True Value [0]  | Prediction Correct     | Prediction Incorrect   |\n",
    "| True Value [1]  | Prediction Incorrect   | Prediction Correct     |\n",
    "\n",
    "| P, T | 0           | 1           |\n",
    "| ---- | ----------- | ----------- |\n",
    "| 0    | <b>0, 0</b> | 1, 0        |\n",
    "| 1    | 0, 1        | <b>1, 1</b> |\n",
    "\n",
    "Therefore, the stats above state the following\n",
    "\n",
    "| | |\n",
    "| ---------------------------------------------------- | -------------------------------------------------- |\n",
    "| 944 Predicted HAM Correctly                         | 22 Predicted SPAM incorrectly,<br> was actually HAM |\n",
    "| 32 Predicted HAM incorrectly,<br> was actually SPAM  | 117 Predicted SPAM Correctly                       |\n",
    "\n",
    "#### Classifier Analysis\n",
    "\n",
    "#TODO"
   ]
  },
  {
   "cell_type": "code",
   "execution_count": 42,
   "id": "fb799f67",
   "metadata": {
    "execution": {
     "iopub.execute_input": "2023-03-23T06:11:24.911629Z",
     "iopub.status.busy": "2023-03-23T06:11:24.911141Z",
     "iopub.status.idle": "2023-03-23T06:11:36.761484Z",
     "shell.execute_reply": "2023-03-23T06:11:36.759860Z"
    },
    "papermill": {
     "duration": 11.880226,
     "end_time": "2023-03-23T06:11:36.765197",
     "exception": false,
     "start_time": "2023-03-23T06:11:24.884971",
     "status": "completed"
    },
    "tags": []
   },
   "outputs": [
    {
     "data": {
      "text/plain": [
       "[Text(0.8815817636986302, 0.98, 'X[1713] <= 0.5\\nentropy = 0.569\\nsamples = 4457\\nvalue = [3859, 598]'),\n",
       " Text(0.7905607876712328, 0.94, 'X[7487] <= 0.5\\nentropy = 0.421\\nsamples = 4020\\nvalue = [3677, 343]'),\n",
       " Text(0.6770119863013698, 0.9, 'X[7166] <= 0.5\\nentropy = 0.329\\nsamples = 3903\\nvalue = [3667, 236]'),\n",
       " Text(0.569777397260274, 0.86, 'X[6052] <= 0.5\\nentropy = 0.276\\nsamples = 3797\\nvalue = [3616, 181]'),\n",
       " Text(0.4820205479452055, 0.82, 'X[6361] <= 0.5\\nentropy = 0.236\\nsamples = 3731\\nvalue = [3587, 144]'),\n",
       " Text(0.4160958904109589, 0.78, 'X[1956] <= 0.5\\nentropy = 0.197\\nsamples = 3612\\nvalue = [3502, 110]'),\n",
       " Text(0.4023972602739726, 0.74, 'X[6128] <= 0.5\\nentropy = 0.182\\nsamples = 3601\\nvalue = [3502, 99]'),\n",
       " Text(0.3886986301369863, 0.7, 'X[7617] <= 0.5\\nentropy = 0.172\\nsamples = 3594\\nvalue = [3502, 92]'),\n",
       " Text(0.339041095890411, 0.66, 'X[6386] <= 0.5\\nentropy = 0.162\\nsamples = 3586\\nvalue = [3501, 85]'),\n",
       " Text(0.2808219178082192, 0.62, 'X[6746] <= 0.5\\nentropy = 0.151\\nsamples = 3576\\nvalue = [3498, 78]'),\n",
       " Text(0.2671232876712329, 0.58, 'X[1869] <= 0.5\\nentropy = 0.144\\nsamples = 3571\\nvalue = [3498, 73]'),\n",
       " Text(0.2191780821917808, 0.54, 'X[3251] <= 0.5\\nentropy = 0.135\\nsamples = 3555\\nvalue = [3488, 67]'),\n",
       " Text(0.1917808219178082, 0.5, 'X[6349] <= 0.5\\nentropy = 0.129\\nsamples = 3550\\nvalue = [3487, 63]'),\n",
       " Text(0.1780821917808219, 0.46, 'X[608] <= 0.5\\nentropy = 0.124\\nsamples = 3547\\nvalue = [3487, 60]'),\n",
       " Text(0.1643835616438356, 0.42, 'X[410] <= 0.5\\nentropy = 0.119\\nsamples = 3544\\nvalue = [3487, 57]'),\n",
       " Text(0.1506849315068493, 0.38, 'X[2498] <= 0.5\\nentropy = 0.114\\nsamples = 3541\\nvalue = [3487, 54]'),\n",
       " Text(0.1232876712328767, 0.34, 'X[5609] <= 0.5\\nentropy = 0.109\\nsamples = 3537\\nvalue = [3486, 51]'),\n",
       " Text(0.1095890410958904, 0.3, 'X[7934] <= 0.5\\nentropy = 0.105\\nsamples = 3535\\nvalue = [3486, 49]'),\n",
       " Text(0.0958904109589041, 0.26, 'X[885] <= 0.5\\nentropy = 0.102\\nsamples = 3533\\nvalue = [3486, 47]'),\n",
       " Text(0.0821917808219178, 0.22, 'X[2896] <= 0.5\\nentropy = 0.098\\nsamples = 3531\\nvalue = [3486, 45]'),\n",
       " Text(0.0684931506849315, 0.18, 'X[4539] <= 0.5\\nentropy = 0.095\\nsamples = 3529\\nvalue = [3486, 43]'),\n",
       " Text(0.0547945205479452, 0.14, 'X[2114] <= 0.5\\nentropy = 0.091\\nsamples = 3527\\nvalue = [3486, 41]'),\n",
       " Text(0.0410958904109589, 0.1, 'X[778] <= 0.5\\nentropy = 0.088\\nsamples = 3525\\nvalue = [3486, 39]'),\n",
       " Text(0.0273972602739726, 0.06, 'X[1796] <= 0.5\\nentropy = 0.084\\nsamples = 3523\\nvalue = [3486, 37]'),\n",
       " Text(0.0136986301369863, 0.02, 'entropy = 0.079\\nsamples = 3512\\nvalue = [3478, 34]'),\n",
       " Text(0.0410958904109589, 0.02, 'entropy = 0.845\\nsamples = 11\\nvalue = [8, 3]'),\n",
       " Text(0.0547945205479452, 0.06, 'entropy = 0.0\\nsamples = 2\\nvalue = [0, 2]'),\n",
       " Text(0.0684931506849315, 0.1, 'entropy = 0.0\\nsamples = 2\\nvalue = [0, 2]'),\n",
       " Text(0.0821917808219178, 0.14, 'entropy = 0.0\\nsamples = 2\\nvalue = [0, 2]'),\n",
       " Text(0.0958904109589041, 0.18, 'entropy = 0.0\\nsamples = 2\\nvalue = [0, 2]'),\n",
       " Text(0.1095890410958904, 0.22, 'entropy = 0.0\\nsamples = 2\\nvalue = [0, 2]'),\n",
       " Text(0.1232876712328767, 0.26, 'entropy = 0.0\\nsamples = 2\\nvalue = [0, 2]'),\n",
       " Text(0.136986301369863, 0.3, 'entropy = 0.0\\nsamples = 2\\nvalue = [0, 2]'),\n",
       " Text(0.1780821917808219, 0.34, 'X[7007] <= 0.5\\nentropy = 0.811\\nsamples = 4\\nvalue = [1, 3]'),\n",
       " Text(0.1643835616438356, 0.3, 'entropy = 0.0\\nsamples = 3\\nvalue = [0, 3]'),\n",
       " Text(0.1917808219178082, 0.3, 'entropy = 0.0\\nsamples = 1\\nvalue = [1, 0]'),\n",
       " Text(0.1780821917808219, 0.38, 'entropy = 0.0\\nsamples = 3\\nvalue = [0, 3]'),\n",
       " Text(0.1917808219178082, 0.42, 'entropy = 0.0\\nsamples = 3\\nvalue = [0, 3]'),\n",
       " Text(0.2054794520547945, 0.46, 'entropy = 0.0\\nsamples = 3\\nvalue = [0, 3]'),\n",
       " Text(0.2465753424657534, 0.5, 'X[3270] <= 0.5\\nentropy = 0.722\\nsamples = 5\\nvalue = [1, 4]'),\n",
       " Text(0.2328767123287671, 0.46, 'entropy = 0.0\\nsamples = 4\\nvalue = [0, 4]'),\n",
       " Text(0.2602739726027397, 0.46, 'entropy = 0.0\\nsamples = 1\\nvalue = [1, 0]'),\n",
       " Text(0.3150684931506849, 0.54, 'X[1647] <= 0.5\\nentropy = 0.954\\nsamples = 16\\nvalue = [10, 6]'),\n",
       " Text(0.3013698630136986, 0.5, 'X[4560] <= 0.5\\nentropy = 0.863\\nsamples = 14\\nvalue = [10, 4]'),\n",
       " Text(0.2876712328767123, 0.46, 'X[7136] <= 0.5\\nentropy = 0.65\\nsamples = 12\\nvalue = [10, 2]'),\n",
       " Text(0.273972602739726, 0.42, 'X[4923] <= 0.5\\nentropy = 0.439\\nsamples = 11\\nvalue = [10, 1]'),\n",
       " Text(0.2602739726027397, 0.38, 'entropy = 0.0\\nsamples = 10\\nvalue = [10, 0]'),\n",
       " Text(0.2876712328767123, 0.38, 'entropy = 0.0\\nsamples = 1\\nvalue = [0, 1]'),\n",
       " Text(0.3013698630136986, 0.42, 'entropy = 0.0\\nsamples = 1\\nvalue = [0, 1]'),\n",
       " Text(0.3150684931506849, 0.46, 'entropy = 0.0\\nsamples = 2\\nvalue = [0, 2]'),\n",
       " Text(0.3287671232876712, 0.5, 'entropy = 0.0\\nsamples = 2\\nvalue = [0, 2]'),\n",
       " Text(0.2945205479452055, 0.58, 'entropy = 0.0\\nsamples = 5\\nvalue = [0, 5]'),\n",
       " Text(0.3972602739726027, 0.62, 'X[2867] <= 0.5\\nentropy = 0.881\\nsamples = 10\\nvalue = [3, 7]'),\n",
       " Text(0.3835616438356164, 0.58, 'X[2111] <= 0.5\\nentropy = 0.764\\nsamples = 9\\nvalue = [2, 7]'),\n",
       " Text(0.3698630136986301, 0.54, 'X[4950] <= 0.5\\nentropy = 0.544\\nsamples = 8\\nvalue = [1, 7]'),\n",
       " Text(0.3561643835616438, 0.5, 'entropy = 0.0\\nsamples = 7\\nvalue = [0, 7]'),\n",
       " Text(0.3835616438356164, 0.5, 'entropy = 0.0\\nsamples = 1\\nvalue = [1, 0]'),\n",
       " Text(0.3972602739726027, 0.54, 'entropy = 0.0\\nsamples = 1\\nvalue = [1, 0]'),\n",
       " Text(0.410958904109589, 0.58, 'entropy = 0.0\\nsamples = 1\\nvalue = [1, 0]'),\n",
       " Text(0.4383561643835616, 0.66, 'X[5184] <= 0.5\\nentropy = 0.544\\nsamples = 8\\nvalue = [1, 7]'),\n",
       " Text(0.4246575342465753, 0.62, 'entropy = 0.0\\nsamples = 7\\nvalue = [0, 7]'),\n",
       " Text(0.4520547945205479, 0.62, 'entropy = 0.0\\nsamples = 1\\nvalue = [1, 0]'),\n",
       " Text(0.4160958904109589, 0.7, 'entropy = 0.0\\nsamples = 7\\nvalue = [0, 7]'),\n",
       " Text(0.4297945205479452, 0.74, 'entropy = 0.0\\nsamples = 11\\nvalue = [0, 11]'),\n",
       " Text(0.547945205479452, 0.78, 'X[764] <= 0.5\\nentropy = 0.863\\nsamples = 119\\nvalue = [85, 34]'),\n",
       " Text(0.5342465753424658, 0.74, 'X[7923] <= 0.5\\nentropy = 0.761\\nsamples = 109\\nvalue = [85, 24]'),\n",
       " Text(0.5205479452054794, 0.7, 'X[6878] <= 0.5\\nentropy = 0.631\\nsamples = 101\\nvalue = [85, 16]'),\n",
       " Text(0.4931506849315068, 0.66, 'X[1224] <= 0.5\\nentropy = 0.391\\nsamples = 91\\nvalue = [84, 7]'),\n",
       " Text(0.4794520547945205, 0.62, 'X[834] <= 0.5\\nentropy = 0.312\\nsamples = 89\\nvalue = [84, 5]'),\n",
       " Text(0.4657534246575342, 0.58, 'X[4835] <= 0.5\\nentropy = 0.267\\nsamples = 88\\nvalue = [84, 4]'),\n",
       " Text(0.4520547945205479, 0.54, 'X[6013] <= 0.5\\nentropy = 0.216\\nsamples = 87\\nvalue = [84, 3]'),\n",
       " Text(0.4383561643835616, 0.5, 'X[6364] <= 0.5\\nentropy = 0.159\\nsamples = 86\\nvalue = [84, 2]'),\n",
       " Text(0.4246575342465753, 0.46, 'X[7106] <= 0.5\\nentropy = 0.092\\nsamples = 85\\nvalue = [84, 1]'),\n",
       " Text(0.410958904109589, 0.42, 'entropy = 0.0\\nsamples = 84\\nvalue = [84, 0]'),\n",
       " Text(0.4383561643835616, 0.42, 'entropy = 0.0\\nsamples = 1\\nvalue = [0, 1]'),\n",
       " Text(0.4520547945205479, 0.46, 'entropy = 0.0\\nsamples = 1\\nvalue = [0, 1]'),\n",
       " Text(0.4657534246575342, 0.5, 'entropy = 0.0\\nsamples = 1\\nvalue = [0, 1]'),\n",
       " Text(0.4794520547945205, 0.54, 'entropy = 0.0\\nsamples = 1\\nvalue = [0, 1]'),\n",
       " Text(0.4931506849315068, 0.58, 'entropy = 0.0\\nsamples = 1\\nvalue = [0, 1]'),\n",
       " Text(0.5068493150684932, 0.62, 'entropy = 0.0\\nsamples = 2\\nvalue = [0, 2]'),\n",
       " Text(0.547945205479452, 0.66, 'X[1383] <= 0.5\\nentropy = 0.469\\nsamples = 10\\nvalue = [1, 9]'),\n",
       " Text(0.5342465753424658, 0.62, 'entropy = 0.0\\nsamples = 9\\nvalue = [0, 9]'),\n",
       " Text(0.5616438356164384, 0.62, 'entropy = 0.0\\nsamples = 1\\nvalue = [1, 0]'),\n",
       " Text(0.547945205479452, 0.7, 'entropy = 0.0\\nsamples = 8\\nvalue = [0, 8]'),\n",
       " Text(0.5616438356164384, 0.74, 'entropy = 0.0\\nsamples = 10\\nvalue = [0, 10]'),\n",
       " Text(0.6575342465753424, 0.82, 'X[6878] <= 0.5\\nentropy = 0.989\\nsamples = 66\\nvalue = [29, 37]'),\n",
       " Text(0.6438356164383562, 0.78, 'X[4512] <= 0.5\\nentropy = 0.981\\nsamples = 50\\nvalue = [29, 21]'),\n",
       " Text(0.6301369863013698, 0.74, 'X[4394] <= 0.5\\nentropy = 0.997\\nsamples = 45\\nvalue = [24, 21]'),\n",
       " Text(0.6164383561643836, 0.7, 'X[3160] <= 0.5\\nentropy = 0.998\\nsamples = 40\\nvalue = [19, 21]'),\n",
       " Text(0.6027397260273972, 0.66, 'X[5579] <= 0.5\\nentropy = 0.99\\nsamples = 34\\nvalue = [19, 15]'),\n",
       " Text(0.589041095890411, 0.62, 'X[2758] <= 1.0\\nentropy = 0.963\\nsamples = 31\\nvalue = [19, 12]'),\n",
       " Text(0.5753424657534246, 0.58, 'X[7574] <= 0.5\\nentropy = 0.906\\nsamples = 28\\nvalue = [19, 9]'),\n",
       " Text(0.5616438356164384, 0.54, 'X[7923] <= 0.5\\nentropy = 0.84\\nsamples = 26\\nvalue = [19, 7]'),\n",
       " Text(0.547945205479452, 0.5, 'X[7444] <= 0.5\\nentropy = 0.738\\nsamples = 24\\nvalue = [19, 5]'),\n",
       " Text(0.5342465753424658, 0.46, 'X[2772] <= 0.5\\nentropy = 0.575\\nsamples = 22\\nvalue = [19, 3]'),\n",
       " Text(0.5205479452054794, 0.42, 'X[8070] <= 0.5\\nentropy = 0.286\\nsamples = 20\\nvalue = [19, 1]'),\n",
       " Text(0.5068493150684932, 0.38, 'entropy = 0.0\\nsamples = 19\\nvalue = [19, 0]'),\n",
       " Text(0.5342465753424658, 0.38, 'entropy = 0.0\\nsamples = 1\\nvalue = [0, 1]'),\n",
       " Text(0.547945205479452, 0.42, 'entropy = 0.0\\nsamples = 2\\nvalue = [0, 2]'),\n",
       " Text(0.5616438356164384, 0.46, 'entropy = 0.0\\nsamples = 2\\nvalue = [0, 2]'),\n",
       " Text(0.5753424657534246, 0.5, 'entropy = 0.0\\nsamples = 2\\nvalue = [0, 2]'),\n",
       " Text(0.589041095890411, 0.54, 'entropy = 0.0\\nsamples = 2\\nvalue = [0, 2]'),\n",
       " Text(0.6027397260273972, 0.58, 'entropy = 0.0\\nsamples = 3\\nvalue = [0, 3]'),\n",
       " Text(0.6164383561643836, 0.62, 'entropy = 0.0\\nsamples = 3\\nvalue = [0, 3]'),\n",
       " Text(0.6301369863013698, 0.66, 'entropy = 0.0\\nsamples = 6\\nvalue = [0, 6]'),\n",
       " Text(0.6438356164383562, 0.7, 'entropy = 0.0\\nsamples = 5\\nvalue = [5, 0]'),\n",
       " Text(0.6575342465753424, 0.74, 'entropy = 0.0\\nsamples = 5\\nvalue = [5, 0]'),\n",
       " Text(0.6712328767123288, 0.78, 'entropy = 0.0\\nsamples = 16\\nvalue = [0, 16]'),\n",
       " Text(0.7842465753424658, 0.86, 'X[3850] <= 0.5\\nentropy = 0.999\\nsamples = 106\\nvalue = [51, 55]'),\n",
       " Text(0.7705479452054794, 0.82, 'X[4841] <= 0.5\\nentropy = 0.972\\nsamples = 92\\nvalue = [37, 55]'),\n",
       " Text(0.7568493150684932, 0.78, 'X[8193] <= 0.5\\nentropy = 0.997\\nsamples = 79\\nvalue = [37, 42]'),\n",
       " Text(0.7431506849315068, 0.74, 'X[5055] <= 0.5\\nentropy = 0.98\\nsamples = 72\\nvalue = [30, 42]'),\n",
       " Text(0.7294520547945206, 0.7, 'X[6878] <= 0.5\\nentropy = 0.997\\nsamples = 64\\nvalue = [30, 34]'),\n",
       " Text(0.6917808219178082, 0.66, 'X[3160] <= 0.5\\nentropy = 0.996\\nsamples = 54\\nvalue = [29, 25]'),\n",
       " Text(0.6575342465753424, 0.62, 'X[7166] <= 1.5\\nentropy = 0.956\\nsamples = 45\\nvalue = [28, 17]'),\n",
       " Text(0.6301369863013698, 0.58, 'X[5065] <= 0.5\\nentropy = 0.868\\nsamples = 38\\nvalue = [27, 11]'),\n",
       " Text(0.6164383561643836, 0.54, 'X[650] <= 0.5\\nentropy = 0.811\\nsamples = 36\\nvalue = [27, 9]'),\n",
       " Text(0.6027397260273972, 0.5, 'X[379] <= 0.5\\nentropy = 0.734\\nsamples = 34\\nvalue = [27, 7]'),\n",
       " Text(0.589041095890411, 0.46, 'X[342] <= 0.5\\nentropy = 0.625\\nsamples = 32\\nvalue = [27, 5]'),\n",
       " Text(0.5753424657534246, 0.42, 'X[7075] <= 0.5\\nentropy = 0.469\\nsamples = 30\\nvalue = [27, 3]'),\n",
       " Text(0.5616438356164384, 0.38, 'X[1904] <= 0.5\\nentropy = 0.362\\nsamples = 29\\nvalue = [27, 2]'),\n",
       " Text(0.547945205479452, 0.34, 'X[3406] <= 0.5\\nentropy = 0.222\\nsamples = 28\\nvalue = [27, 1]'),\n",
       " Text(0.5342465753424658, 0.3, 'entropy = 0.0\\nsamples = 27\\nvalue = [27, 0]'),\n",
       " Text(0.5616438356164384, 0.3, 'entropy = 0.0\\nsamples = 1\\nvalue = [0, 1]'),\n",
       " Text(0.5753424657534246, 0.34, 'entropy = 0.0\\nsamples = 1\\nvalue = [0, 1]'),\n",
       " Text(0.589041095890411, 0.38, 'entropy = 0.0\\nsamples = 1\\nvalue = [0, 1]'),\n",
       " Text(0.6027397260273972, 0.42, 'entropy = 0.0\\nsamples = 2\\nvalue = [0, 2]'),\n",
       " Text(0.6164383561643836, 0.46, 'entropy = 0.0\\nsamples = 2\\nvalue = [0, 2]'),\n",
       " Text(0.6301369863013698, 0.5, 'entropy = 0.0\\nsamples = 2\\nvalue = [0, 2]'),\n",
       " Text(0.6438356164383562, 0.54, 'entropy = 0.0\\nsamples = 2\\nvalue = [0, 2]'),\n",
       " Text(0.684931506849315, 0.58, 'X[2326] <= 0.5\\nentropy = 0.592\\nsamples = 7\\nvalue = [1, 6]'),\n",
       " Text(0.6712328767123288, 0.54, 'entropy = 0.0\\nsamples = 6\\nvalue = [0, 6]'),\n",
       " Text(0.6986301369863014, 0.54, 'entropy = 0.0\\nsamples = 1\\nvalue = [1, 0]'),\n",
       " Text(0.726027397260274, 0.62, 'X[8002] <= 0.5\\nentropy = 0.503\\nsamples = 9\\nvalue = [1, 8]'),\n",
       " Text(0.7123287671232876, 0.58, 'entropy = 0.0\\nsamples = 8\\nvalue = [0, 8]'),\n",
       " Text(0.7397260273972602, 0.58, 'entropy = 0.0\\nsamples = 1\\nvalue = [1, 0]'),\n",
       " Text(0.7671232876712328, 0.66, 'X[2248] <= 0.5\\nentropy = 0.469\\nsamples = 10\\nvalue = [1, 9]'),\n",
       " Text(0.7534246575342466, 0.62, 'entropy = 0.0\\nsamples = 9\\nvalue = [0, 9]'),\n",
       " Text(0.7808219178082192, 0.62, 'entropy = 0.0\\nsamples = 1\\nvalue = [1, 0]'),\n",
       " Text(0.7568493150684932, 0.7, 'entropy = 0.0\\nsamples = 8\\nvalue = [0, 8]'),\n",
       " Text(0.7705479452054794, 0.74, 'entropy = 0.0\\nsamples = 7\\nvalue = [7, 0]'),\n",
       " Text(0.7842465753424658, 0.78, 'entropy = 0.0\\nsamples = 13\\nvalue = [0, 13]'),\n",
       " Text(0.797945205479452, 0.82, 'entropy = 0.0\\nsamples = 14\\nvalue = [14, 0]'),\n",
       " Text(0.9041095890410958, 0.9, 'X[2150] <= 0.5\\nentropy = 0.421\\nsamples = 117\\nvalue = [10, 107]'),\n",
       " Text(0.8904109589041096, 0.86, 'X[4149] <= 0.5\\nentropy = 0.364\\nsamples = 115\\nvalue = [8, 107]'),\n",
       " Text(0.8767123287671232, 0.82, 'X[1297] <= 0.5\\nentropy = 0.299\\nsamples = 113\\nvalue = [6, 107]'),\n",
       " Text(0.863013698630137, 0.78, 'X[1760] <= 0.5\\nentropy = 0.224\\nsamples = 111\\nvalue = [4, 107]'),\n",
       " Text(0.8493150684931506, 0.74, 'X[5446] <= 0.5\\nentropy = 0.181\\nsamples = 110\\nvalue = [3, 107]'),\n",
       " Text(0.8356164383561644, 0.7, 'X[4259] <= 0.5\\nentropy = 0.132\\nsamples = 109\\nvalue = [2, 107]'),\n",
       " Text(0.821917808219178, 0.66, 'X[3668] <= 0.5\\nentropy = 0.076\\nsamples = 108\\nvalue = [1, 107]'),\n",
       " Text(0.8082191780821918, 0.62, 'entropy = 0.0\\nsamples = 107\\nvalue = [0, 107]'),\n",
       " Text(0.8356164383561644, 0.62, 'entropy = 0.0\\nsamples = 1\\nvalue = [1, 0]'),\n",
       " Text(0.8493150684931506, 0.66, 'entropy = 0.0\\nsamples = 1\\nvalue = [1, 0]'),\n",
       " Text(0.863013698630137, 0.7, 'entropy = 0.0\\nsamples = 1\\nvalue = [1, 0]'),\n",
       " Text(0.8767123287671232, 0.74, 'entropy = 0.0\\nsamples = 1\\nvalue = [1, 0]'),\n",
       " Text(0.8904109589041096, 0.78, 'entropy = 0.0\\nsamples = 2\\nvalue = [2, 0]'),\n",
       " Text(0.9041095890410958, 0.82, 'entropy = 0.0\\nsamples = 2\\nvalue = [2, 0]'),\n",
       " Text(0.9178082191780822, 0.86, 'entropy = 0.0\\nsamples = 2\\nvalue = [2, 0]'),\n",
       " Text(0.9726027397260274, 0.94, 'X[3850] <= 0.5\\nentropy = 0.98\\nsamples = 437\\nvalue = [182, 255]'),\n",
       " Text(0.958904109589041, 0.9, 'X[1956] <= 0.5\\nentropy = 0.931\\nsamples = 390\\nvalue = [135, 255]'),\n",
       " Text(0.9452054794520548, 0.86, 'X[4841] <= 0.5\\nentropy = 0.975\\nsamples = 331\\nvalue = [135, 196]'),\n",
       " Text(0.9315068493150684, 0.82, 'X[6386] <= 0.5\\nentropy = 0.996\\nsamples = 292\\nvalue = [135, 157]'),\n",
       " Text(0.9178082191780822, 0.78, 'X[6219] <= 0.5\\nentropy = 1.0\\nsamples = 267\\nvalue = [135, 132]'),\n",
       " Text(0.9041095890410958, 0.74, 'X[4792] <= 0.5\\nentropy = 0.994\\nsamples = 247\\nvalue = [135, 112]'),\n",
       " Text(0.8904109589041096, 0.7, 'X[5474] <= 0.5\\nentropy = 0.977\\nsamples = 229\\nvalue = [135, 94]'),\n",
       " Text(0.8767123287671232, 0.66, 'X[4748] <= 0.5\\nentropy = 0.957\\nsamples = 217\\nvalue = [135, 82]'),\n",
       " Text(0.863013698630137, 0.62, 'X[5749] <= 0.5\\nentropy = 0.929\\nsamples = 206\\nvalue = [135, 71]'),\n",
       " Text(0.8493150684931506, 0.58, 'X[1262] <= 0.5\\nentropy = 0.89\\nsamples = 195\\nvalue = [135, 60]'),\n",
       " Text(0.8356164383561644, 0.54, 'X[3607] <= 0.5\\nentropy = 0.853\\nsamples = 187\\nvalue = [135, 52]'),\n",
       " Text(0.821917808219178, 0.5, 'X[3160] <= 1.5\\nentropy = 0.818\\nsamples = 181\\nvalue = [135, 46]'),\n",
       " Text(0.8082191780821918, 0.46, 'X[5752] <= 0.5\\nentropy = 0.783\\nsamples = 176\\nvalue = [135, 41]'),\n",
       " Text(0.7945205479452054, 0.42, 'X[1869] <= 0.5\\nentropy = 0.742\\nsamples = 171\\nvalue = [135, 36]'),\n",
       " Text(0.7808219178082192, 0.38, 'X[6348] <= 0.5\\nentropy = 0.705\\nsamples = 167\\nvalue = [135, 32]'),\n",
       " Text(0.7671232876712328, 0.34, 'X[2096] <= 0.5\\nentropy = 0.662\\nsamples = 163\\nvalue = [135, 28]'),\n",
       " Text(0.7534246575342466, 0.3, 'X[2111] <= 0.5\\nentropy = 0.612\\nsamples = 159\\nvalue = [135, 24]'),\n",
       " Text(0.7397260273972602, 0.26, 'X[2203] <= 0.5\\nentropy = 0.57\\nsamples = 156\\nvalue = [135, 21]'),\n",
       " Text(0.726027397260274, 0.22, 'X[42] <= 0.5\\nentropy = 0.523\\nsamples = 153\\nvalue = [135, 18]'),\n",
       " Text(0.7123287671232876, 0.18, 'X[6246] <= 1.0\\nentropy = 0.488\\nsamples = 151\\nvalue = [135, 16]'),\n",
       " Text(0.6986301369863014, 0.14, 'X[6098] <= 0.5\\nentropy = 0.45\\nsamples = 149\\nvalue = [135, 14]'),\n",
       " Text(0.684931506849315, 0.1, 'X[2944] <= 0.5\\nentropy = 0.408\\nsamples = 147\\nvalue = [135, 12]'),\n",
       " Text(0.6712328767123288, 0.06, 'X[5055] <= 0.5\\nentropy = 0.362\\nsamples = 145\\nvalue = [135, 10]'),\n",
       " Text(0.6575342465753424, 0.02, 'entropy = 0.311\\nsamples = 143\\nvalue = [135, 8]'),\n",
       " Text(0.684931506849315, 0.02, 'entropy = 0.0\\nsamples = 2\\nvalue = [0, 2]'),\n",
       " Text(0.6986301369863014, 0.06, 'entropy = 0.0\\nsamples = 2\\nvalue = [0, 2]'),\n",
       " Text(0.7123287671232876, 0.1, 'entropy = 0.0\\nsamples = 2\\nvalue = [0, 2]'),\n",
       " Text(0.726027397260274, 0.14, 'entropy = 0.0\\nsamples = 2\\nvalue = [0, 2]'),\n",
       " Text(0.7397260273972602, 0.18, 'entropy = 0.0\\nsamples = 2\\nvalue = [0, 2]'),\n",
       " Text(0.7534246575342466, 0.22, 'entropy = 0.0\\nsamples = 3\\nvalue = [0, 3]'),\n",
       " Text(0.7671232876712328, 0.26, 'entropy = 0.0\\nsamples = 3\\nvalue = [0, 3]'),\n",
       " Text(0.7808219178082192, 0.3, 'entropy = 0.0\\nsamples = 4\\nvalue = [0, 4]'),\n",
       " Text(0.7945205479452054, 0.34, 'entropy = 0.0\\nsamples = 4\\nvalue = [0, 4]'),\n",
       " Text(0.8082191780821918, 0.38, 'entropy = 0.0\\nsamples = 4\\nvalue = [0, 4]'),\n",
       " Text(0.821917808219178, 0.42, 'entropy = 0.0\\nsamples = 5\\nvalue = [0, 5]'),\n",
       " Text(0.8356164383561644, 0.46, 'entropy = 0.0\\nsamples = 5\\nvalue = [0, 5]'),\n",
       " Text(0.8493150684931506, 0.5, 'entropy = 0.0\\nsamples = 6\\nvalue = [0, 6]'),\n",
       " Text(0.863013698630137, 0.54, 'entropy = 0.0\\nsamples = 8\\nvalue = [0, 8]'),\n",
       " Text(0.8767123287671232, 0.58, 'entropy = 0.0\\nsamples = 11\\nvalue = [0, 11]'),\n",
       " Text(0.8904109589041096, 0.62, 'entropy = 0.0\\nsamples = 11\\nvalue = [0, 11]'),\n",
       " Text(0.9041095890410958, 0.66, 'entropy = 0.0\\nsamples = 12\\nvalue = [0, 12]'),\n",
       " Text(0.9178082191780822, 0.7, 'entropy = 0.0\\nsamples = 18\\nvalue = [0, 18]'),\n",
       " Text(0.9315068493150684, 0.74, 'entropy = 0.0\\nsamples = 20\\nvalue = [0, 20]'),\n",
       " Text(0.9452054794520548, 0.78, 'entropy = 0.0\\nsamples = 25\\nvalue = [0, 25]'),\n",
       " Text(0.958904109589041, 0.82, 'entropy = 0.0\\nsamples = 39\\nvalue = [0, 39]'),\n",
       " Text(0.9726027397260274, 0.86, 'entropy = 0.0\\nsamples = 59\\nvalue = [0, 59]'),\n",
       " Text(0.9863013698630136, 0.9, 'entropy = 0.0\\nsamples = 47\\nvalue = [47, 0]')]"
      ]
     },
     "execution_count": 42,
     "metadata": {},
     "output_type": "execute_result"
    },
    {
     "data": {
      "image/png": "[encoded data removed]",
      "text/plain": [
       "<Figure size 640x480 with 1 Axes>"
      ]
     },
     "metadata": {},
     "output_type": "display_data"
    }
   ],
   "source": [
    "from sklearn import tree\n",
    "import matplotlib.pyplot as plt\n",
    "\n",
    "plt.figure() #resize figure\n",
    "tree.plot_tree(model_preprn)       #plot"
   ]
  },
  {
   "cell_type": "markdown",
   "id": "efe56d01",
   "metadata": {
    "papermill": {
     "duration": 0.025153,
     "end_time": "2023-03-23T06:11:36.817118",
     "exception": false,
     "start_time": "2023-03-23T06:11:36.791965",
     "status": "completed"
    },
    "tags": []
   },
   "source": [
    "## Recreate Decision Tree Model: Random Forest\n",
    "### Refit Decision Tree"
   ]
  },
  {
   "cell_type": "code",
   "execution_count": 43,
   "id": "141ec904",
   "metadata": {
    "execution": {
     "iopub.execute_input": "2023-03-23T06:11:36.871644Z",
     "iopub.status.busy": "2023-03-23T06:11:36.870861Z",
     "iopub.status.idle": "2023-03-23T06:11:52.809635Z",
     "shell.execute_reply": "2023-03-23T06:11:52.808299Z"
    },
    "papermill": {
     "duration": 15.970274,
     "end_time": "2023-03-23T06:11:52.812999",
     "exception": false,
     "start_time": "2023-03-23T06:11:36.842725",
     "status": "completed"
    },
    "tags": []
   },
   "outputs": [],
   "source": [
    "from sklearn.ensemble import RandomForestClassifier\n",
    "\n",
    "rf = RandomForestClassifier(random_state=42, n_jobs=-1)\n",
    "model = rf.fit(X_train_np, y_train)"
   ]
  },
  {
   "cell_type": "markdown",
   "id": "7f6dead2",
   "metadata": {
    "papermill": {
     "duration": 0.025149,
     "end_time": "2023-03-23T06:11:52.864147",
     "exception": false,
     "start_time": "2023-03-23T06:11:52.838998",
     "status": "completed"
    },
    "tags": []
   },
   "source": [
    "### Retest Model Metrics"
   ]
  },
  {
   "cell_type": "code",
   "execution_count": 44,
   "id": "01ac6022",
   "metadata": {
    "execution": {
     "iopub.execute_input": "2023-03-23T06:11:52.917059Z",
     "iopub.status.busy": "2023-03-23T06:11:52.916515Z",
     "iopub.status.idle": "2023-03-23T06:11:53.056357Z",
     "shell.execute_reply": "2023-03-23T06:11:53.055167Z"
    },
    "papermill": {
     "duration": 0.170054,
     "end_time": "2023-03-23T06:11:53.059568",
     "exception": false,
     "start_time": "2023-03-23T06:11:52.889514",
     "status": "completed"
    },
    "tags": []
   },
   "outputs": [],
   "source": [
    "# Make Predictions\n",
    "pred_rf = model.predict(X_test_np)"
   ]
  },
  {
   "cell_type": "code",
   "execution_count": 45,
   "id": "dc9c68a9",
   "metadata": {
    "execution": {
     "iopub.execute_input": "2023-03-23T06:11:53.113376Z",
     "iopub.status.busy": "2023-03-23T06:11:53.112856Z",
     "iopub.status.idle": "2023-03-23T06:11:53.124053Z",
     "shell.execute_reply": "2023-03-23T06:11:53.122604Z"
    },
    "papermill": {
     "duration": 0.041059,
     "end_time": "2023-03-23T06:11:53.126457",
     "exception": false,
     "start_time": "2023-03-23T06:11:53.085398",
     "status": "completed"
    },
    "tags": []
   },
   "outputs": [
    {
     "name": "stdout",
     "output_type": "stream",
     "text": [
      "Compare First 5 Values\n",
      "Predictions:\t [0 0 0 1 0] \n",
      "True Data:\t [0 0 0 1 0] \n",
      "\n",
      "\n",
      "\n",
      "Confusion Matrix\n",
      "[[966   0]\n",
      " [ 36 113]]\n",
      "\n",
      "\n",
      "Accuracy Score\n",
      "0.967713004484305\n"
     ]
    }
   ],
   "source": [
    "# Compare Prediction vs True Value\n",
    "print(\"Compare First 5 Values\")\n",
    "print(\"Predictions:\\t\", pred_rf[0:5], '\\n'\n",
    "      \"True Data:\\t\", y_test.to_numpy()[0:5], '\\n')\n",
    "\n",
    "# View Confusion Matrix\n",
    "print(\"\\n\\nConfusion Matrix\")\n",
    "print(confusion_matrix(y_test, pred_rf)) #cm(true data, predictions)\n",
    "\n",
    "\n",
    "# View Accuracy Score\n",
    "print(\"\\n\\nAccuracy Score\")\n",
    "print(accuracy_score(y_test, pred_rf))   #am(true data, predictions)"
   ]
  },
  {
   "cell_type": "code",
   "execution_count": 46,
   "id": "9b290446",
   "metadata": {
    "execution": {
     "iopub.execute_input": "2023-03-23T06:11:53.180316Z",
     "iopub.status.busy": "2023-03-23T06:11:53.178889Z",
     "iopub.status.idle": "2023-03-23T06:11:53.186878Z",
     "shell.execute_reply": "2023-03-23T06:11:53.185588Z"
    },
    "papermill": {
     "duration": 0.037629,
     "end_time": "2023-03-23T06:11:53.189721",
     "exception": false,
     "start_time": "2023-03-23T06:11:53.152092",
     "status": "completed"
    },
    "tags": []
   },
   "outputs": [
    {
     "data": {
      "text/plain": [
       "100"
      ]
     },
     "execution_count": 46,
     "metadata": {},
     "output_type": "execute_result"
    }
   ],
   "source": [
    "#View Number of Trees\n",
    "rf.n_estimators"
   ]
  },
  {
   "cell_type": "markdown",
   "id": "573cc7da",
   "metadata": {
    "papermill": {
     "duration": 0.024927,
     "end_time": "2023-03-23T06:11:53.240428",
     "exception": false,
     "start_time": "2023-03-23T06:11:53.215501",
     "status": "completed"
    },
    "tags": []
   },
   "source": [
    "### Revisualize"
   ]
  },
  {
   "cell_type": "code",
   "execution_count": 47,
   "id": "41235d56",
   "metadata": {
    "execution": {
     "iopub.execute_input": "2023-03-23T06:11:53.294345Z",
     "iopub.status.busy": "2023-03-23T06:11:53.293808Z",
     "iopub.status.idle": "2023-03-23T06:11:53.299405Z",
     "shell.execute_reply": "2023-03-23T06:11:53.298128Z"
    },
    "papermill": {
     "duration": 0.035142,
     "end_time": "2023-03-23T06:11:53.301717",
     "exception": false,
     "start_time": "2023-03-23T06:11:53.266575",
     "status": "completed"
    },
    "tags": []
   },
   "outputs": [],
   "source": [
    "# # Visualize Tree 1\n",
    "\n",
    "# plt.figure()                            #resize figure\n",
    "# tree.plot_tree(rf.estimators_[0])       #plot tree 1"
   ]
  },
  {
   "cell_type": "code",
   "execution_count": 48,
   "id": "2d8c5791",
   "metadata": {
    "execution": {
     "iopub.execute_input": "2023-03-23T06:11:53.356014Z",
     "iopub.status.busy": "2023-03-23T06:11:53.354898Z",
     "iopub.status.idle": "2023-03-23T06:11:53.360835Z",
     "shell.execute_reply": "2023-03-23T06:11:53.359621Z"
    },
    "papermill": {
     "duration": 0.035836,
     "end_time": "2023-03-23T06:11:53.363404",
     "exception": false,
     "start_time": "2023-03-23T06:11:53.327568",
     "status": "completed"
    },
    "tags": []
   },
   "outputs": [],
   "source": [
    "# # Visualize Tree 100\n",
    "\n",
    "# plt.figure(figsize=(20,15))              #resize figure\n",
    "# tree.plot_tree(rf.estimators_[99])       #plot tree 100"
   ]
  }
 ],
 "metadata": {
  "kernelspec": {
   "display_name": "Python 3",
   "language": "python",
   "name": "python3"
  },
  "language_info": {
   "codemirror_mode": {
    "name": "ipython",
    "version": 3
   },
   "file_extension": ".py",
   "mimetype": "text/x-python",
   "name": "python",
   "nbconvert_exporter": "python",
   "pygments_lexer": "ipython3",
   "version": "3.7.12"
  },
  "papermill": {
   "default_parameters": {},
   "duration": 102.177,
   "end_time": "2023-03-23T06:11:54.514001",
   "environment_variables": {},
   "exception": null,
   "input_path": "__notebook__.ipynb",
   "output_path": "__notebook__.ipynb",
   "parameters": {},
   "start_time": "2023-03-23T06:10:12.337001",
   "version": "2.4.0"
  }
 },
 "nbformat": 4,
 "nbformat_minor": 5
}
